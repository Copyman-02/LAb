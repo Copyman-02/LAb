{
 "cells": [
  {
   "cell_type": "markdown",
   "id": "f150fe1d",
   "metadata": {},
   "source": [
    "### IMPORT THE LIBRARIES"
   ]
  },
  {
   "cell_type": "code",
   "execution_count": 1,
   "id": "afea548d",
   "metadata": {},
   "outputs": [],
   "source": [
    "import os \n",
    "from tensorflow.keras import layers\n",
    "from tensorflow.keras import Model"
   ]
  },
  {
   "cell_type": "code",
   "execution_count": 2,
   "id": "977e7cc3",
   "metadata": {},
   "outputs": [],
   "source": [
    "import tensorflow as tf\n",
    "from tensorflow import keras\n",
    "from tensorflow.keras import layers\n",
    "from tensorflow.keras.preprocessing.image import ImageDataGenerator"
   ]
  },
  {
   "cell_type": "markdown",
   "id": "f4c15148",
   "metadata": {},
   "source": [
    "### LOAD THE PRE-TRAINED DATASET"
   ]
  },
  {
   "cell_type": "code",
   "execution_count": 3,
   "id": "40714c61",
   "metadata": {},
   "outputs": [
    {
     "name": "stdout",
     "output_type": "stream",
     "text": [
      "Found 8005 images belonging to 2 classes.\n",
      "Found 2023 images belonging to 2 classes.\n"
     ]
    }
   ],
   "source": [
    "train_datagen = ImageDataGenerator(rescale=1.0/255,rotation_range=20,width_shift_range=0.2,height_shift_range=0.2,shear_range=0.2,\n",
    "    zoom_range=0.2,horizontal_flip=True,fill_mode='nearest')\n",
    "\n",
    "train_generator = train_datagen.flow_from_directory(\n",
    "r\"C:\\Users\\Abinashkumar\\my diractory\\deep learning\\training_sets\\training_set\",target_size=(224, 224),batch_size=32,class_mode='binary')\n",
    "\n",
    "val_datagen = ImageDataGenerator(rescale=1.0/255)\n",
    "\n",
    "val_generator = val_datagen.flow_from_directory(r\"C:\\Users\\Abinashkumar\\my diractory\\deep learning\\test_set\\test_set\",target_size=(224, 224),\n",
    "    batch_size=32,class_mode='binary')"
   ]
  },
  {
   "cell_type": "code",
   "execution_count": 4,
   "id": "251017d2",
   "metadata": {},
   "outputs": [
    {
     "name": "stdout",
     "output_type": "stream",
     "text": [
      "Downloading data from https://storage.googleapis.com/tensorflow/keras-applications/mobilenet_v2/mobilenet_v2_weights_tf_dim_ordering_tf_kernels_1.0_224_no_top.h5\n",
      "9406464/9406464 [==============================] - 30s 3us/step\n"
     ]
    }
   ],
   "source": [
    "# Example: Load a pre-trained model from TensorFlow Hub\n",
    "base_model = keras.applications.MobileNetV2(input_shape=(224, 224, 3),include_top=False,weights='imagenet')\n",
    "\n",
    "# Freeze the base model's layers\n",
    "base_model.trainable = False"
   ]
  },
  {
   "cell_type": "markdown",
   "id": "dfef194c",
   "metadata": {},
   "source": [
    "### MODEL CREATION"
   ]
  },
  {
   "cell_type": "code",
   "execution_count": 5,
   "id": "7c2a2d8a",
   "metadata": {},
   "outputs": [],
   "source": [
    "# Add your custom classification head\n",
    "model = keras.Sequential([base_model,layers.GlobalAveragePooling2D(),layers.Dense(1, activation='sigmoid')])"
   ]
  },
  {
   "cell_type": "markdown",
   "id": "6a3af2a8",
   "metadata": {},
   "source": [
    "### COMPILE THE MODEL"
   ]
  },
  {
   "cell_type": "code",
   "execution_count": 6,
   "id": "c54ce8eb",
   "metadata": {},
   "outputs": [],
   "source": [
    "model.compile(optimizer='adam',loss='binary_crossentropy',metrics=['accuracy'])\n"
   ]
  },
  {
   "cell_type": "code",
   "execution_count": 7,
   "id": "6545690d",
   "metadata": {},
   "outputs": [
    {
     "name": "stdout",
     "output_type": "stream",
     "text": [
      "Epoch 1/10\n",
      "251/251 [==============================] - 809s 3s/step - loss: 0.1459 - accuracy: 0.9449 - val_loss: 0.0633 - val_accuracy: 0.9778\n",
      "Epoch 2/10\n",
      "251/251 [==============================] - 708s 3s/step - loss: 0.0839 - accuracy: 0.9658 - val_loss: 0.0485 - val_accuracy: 0.9812\n",
      "Epoch 3/10\n",
      "251/251 [==============================] - 675s 3s/step - loss: 0.0748 - accuracy: 0.9699 - val_loss: 0.0470 - val_accuracy: 0.9827\n",
      "Epoch 4/10\n",
      "251/251 [==============================] - 686s 3s/step - loss: 0.0672 - accuracy: 0.9721 - val_loss: 0.0421 - val_accuracy: 0.9837\n",
      "Epoch 5/10\n",
      "251/251 [==============================] - 676s 3s/step - loss: 0.0650 - accuracy: 0.9739 - val_loss: 0.0392 - val_accuracy: 0.9842\n",
      "Epoch 6/10\n",
      "251/251 [==============================] - 488s 2s/step - loss: 0.0698 - accuracy: 0.9711 - val_loss: 0.0423 - val_accuracy: 0.9847\n",
      "Epoch 7/10\n",
      "251/251 [==============================] - 293s 1s/step - loss: 0.0612 - accuracy: 0.9778 - val_loss: 0.0421 - val_accuracy: 0.9852\n",
      "Epoch 8/10\n",
      "251/251 [==============================] - 281s 1s/step - loss: 0.0639 - accuracy: 0.9748 - val_loss: 0.0497 - val_accuracy: 0.9807\n",
      "Epoch 9/10\n",
      "251/251 [==============================] - 291s 1s/step - loss: 0.0618 - accuracy: 0.9749 - val_loss: 0.0484 - val_accuracy: 0.9822\n",
      "Epoch 10/10\n",
      "251/251 [==============================] - 272s 1s/step - loss: 0.0627 - accuracy: 0.9765 - val_loss: 0.0376 - val_accuracy: 0.9881\n"
     ]
    }
   ],
   "source": [
    "history = model.fit(train_generator,steps_per_epoch=len(train_generator),epochs=10,validation_data=val_generator,\n",
    "                    validation_steps=len(val_generator))"
   ]
  },
  {
   "cell_type": "markdown",
   "id": "c0eb5418",
   "metadata": {},
   "source": [
    "### EVALUATE THE MODEL "
   ]
  },
  {
   "cell_type": "code",
   "execution_count": 10,
   "id": "8dab92b2",
   "metadata": {},
   "outputs": [
    {
     "name": "stdout",
     "output_type": "stream",
     "text": [
      "64/64 [==============================] - 41s 638ms/step - loss: 0.0376 - accuracy: 0.9881\n",
      "Test Accuracy: 98.81%\n"
     ]
    }
   ],
   "source": [
    "# Evaluate the model on a test dataset\n",
    "test_loss, test_accuracy = model.evaluate(val_generator)\n",
    "print(f'Test Accuracy: {test_accuracy * 100:.2f}%')\n"
   ]
  },
  {
   "cell_type": "code",
   "execution_count": null,
   "id": "422c1383",
   "metadata": {},
   "outputs": [],
   "source": []
  },
  {
   "cell_type": "code",
   "execution_count": null,
   "id": "83769443",
   "metadata": {},
   "outputs": [],
   "source": []
  }
 ],
 "metadata": {
  "kernelspec": {
   "display_name": "Python 3 (ipykernel)",
   "language": "python",
   "name": "python3"
  },
  "language_info": {
   "codemirror_mode": {
    "name": "ipython",
    "version": 3
   },
   "file_extension": ".py",
   "mimetype": "text/x-python",
   "name": "python",
   "nbconvert_exporter": "python",
   "pygments_lexer": "ipython3",
   "version": "3.9.13"
  }
 },
 "nbformat": 4,
 "nbformat_minor": 5
}
