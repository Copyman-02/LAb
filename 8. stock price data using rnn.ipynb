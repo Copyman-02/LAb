{
 "cells": [
  {
   "cell_type": "markdown",
   "metadata": {
    "id": "cszDR6CNLtCm"
   },
   "source": [
    "### Stock Market Prediction And Forecasting Using Stacked LSTM"
   ]
  },
  {
   "cell_type": "raw",
   "metadata": {
    "id": "gkZhsIVMLtCz"
   },
   "source": [
    "## Keras and Tensorflow >2.0"
   ]
  },
  {
   "cell_type": "code",
   "execution_count": 1,
   "metadata": {
    "id": "CzRpzXJ2LtC7"
   },
   "outputs": [],
   "source": [
    "import pandas as pd"
   ]
  },
  {
   "cell_type": "code",
   "execution_count": 2,
   "metadata": {
    "id": "lCbxOU1hLtC8"
   },
   "outputs": [],
   "source": [
    "df=pd.read_csv(r\"C:\\Users\\Abinashkumar\\my diractory\\deep learning\\stock market dataset for rnn 8\\NIFTY50_all.csv\")"
   ]
  },
  {
   "cell_type": "code",
   "execution_count": 4,
   "metadata": {
    "colab": {
     "base_uri": "https://localhost:8080/",
     "height": 206
    },
    "id": "-_D6IkZILtC-",
    "outputId": "6ab982f7-e9b0-4877-d251-185f26864dfa"
   },
   "outputs": [
    {
     "data": {
      "text/html": [
       "<div>\n",
       "<style scoped>\n",
       "    .dataframe tbody tr th:only-of-type {\n",
       "        vertical-align: middle;\n",
       "    }\n",
       "\n",
       "    .dataframe tbody tr th {\n",
       "        vertical-align: top;\n",
       "    }\n",
       "\n",
       "    .dataframe thead th {\n",
       "        text-align: right;\n",
       "    }\n",
       "</style>\n",
       "<table border=\"1\" class=\"dataframe\">\n",
       "  <thead>\n",
       "    <tr style=\"text-align: right;\">\n",
       "      <th></th>\n",
       "      <th>Date</th>\n",
       "      <th>Symbol</th>\n",
       "      <th>Series</th>\n",
       "      <th>Prev Close</th>\n",
       "      <th>Open</th>\n",
       "      <th>High</th>\n",
       "      <th>Low</th>\n",
       "      <th>Last</th>\n",
       "      <th>Close</th>\n",
       "      <th>VWAP</th>\n",
       "      <th>Volume</th>\n",
       "      <th>Turnover</th>\n",
       "      <th>Trades</th>\n",
       "      <th>Deliverable Volume</th>\n",
       "      <th>%Deliverble</th>\n",
       "    </tr>\n",
       "  </thead>\n",
       "  <tbody>\n",
       "    <tr>\n",
       "      <th>0</th>\n",
       "      <td>2007-11-27</td>\n",
       "      <td>MUNDRAPORT</td>\n",
       "      <td>EQ</td>\n",
       "      <td>440.00</td>\n",
       "      <td>770.00</td>\n",
       "      <td>1050.00</td>\n",
       "      <td>770.0</td>\n",
       "      <td>959.0</td>\n",
       "      <td>962.90</td>\n",
       "      <td>984.72</td>\n",
       "      <td>27294366</td>\n",
       "      <td>2.687719e+15</td>\n",
       "      <td>NaN</td>\n",
       "      <td>9859619.0</td>\n",
       "      <td>0.3612</td>\n",
       "    </tr>\n",
       "    <tr>\n",
       "      <th>1</th>\n",
       "      <td>2007-11-28</td>\n",
       "      <td>MUNDRAPORT</td>\n",
       "      <td>EQ</td>\n",
       "      <td>962.90</td>\n",
       "      <td>984.00</td>\n",
       "      <td>990.00</td>\n",
       "      <td>874.0</td>\n",
       "      <td>885.0</td>\n",
       "      <td>893.90</td>\n",
       "      <td>941.38</td>\n",
       "      <td>4581338</td>\n",
       "      <td>4.312765e+14</td>\n",
       "      <td>NaN</td>\n",
       "      <td>1453278.0</td>\n",
       "      <td>0.3172</td>\n",
       "    </tr>\n",
       "    <tr>\n",
       "      <th>2</th>\n",
       "      <td>2007-11-29</td>\n",
       "      <td>MUNDRAPORT</td>\n",
       "      <td>EQ</td>\n",
       "      <td>893.90</td>\n",
       "      <td>909.00</td>\n",
       "      <td>914.75</td>\n",
       "      <td>841.0</td>\n",
       "      <td>887.0</td>\n",
       "      <td>884.20</td>\n",
       "      <td>888.09</td>\n",
       "      <td>5124121</td>\n",
       "      <td>4.550658e+14</td>\n",
       "      <td>NaN</td>\n",
       "      <td>1069678.0</td>\n",
       "      <td>0.2088</td>\n",
       "    </tr>\n",
       "    <tr>\n",
       "      <th>3</th>\n",
       "      <td>2007-11-30</td>\n",
       "      <td>MUNDRAPORT</td>\n",
       "      <td>EQ</td>\n",
       "      <td>884.20</td>\n",
       "      <td>890.00</td>\n",
       "      <td>958.00</td>\n",
       "      <td>890.0</td>\n",
       "      <td>929.0</td>\n",
       "      <td>921.55</td>\n",
       "      <td>929.17</td>\n",
       "      <td>4609762</td>\n",
       "      <td>4.283257e+14</td>\n",
       "      <td>NaN</td>\n",
       "      <td>1260913.0</td>\n",
       "      <td>0.2735</td>\n",
       "    </tr>\n",
       "    <tr>\n",
       "      <th>4</th>\n",
       "      <td>2007-12-03</td>\n",
       "      <td>MUNDRAPORT</td>\n",
       "      <td>EQ</td>\n",
       "      <td>921.55</td>\n",
       "      <td>939.75</td>\n",
       "      <td>995.00</td>\n",
       "      <td>922.0</td>\n",
       "      <td>980.0</td>\n",
       "      <td>969.30</td>\n",
       "      <td>965.65</td>\n",
       "      <td>2977470</td>\n",
       "      <td>2.875200e+14</td>\n",
       "      <td>NaN</td>\n",
       "      <td>816123.0</td>\n",
       "      <td>0.2741</td>\n",
       "    </tr>\n",
       "  </tbody>\n",
       "</table>\n",
       "</div>"
      ],
      "text/plain": [
       "         Date      Symbol Series  Prev Close    Open     High    Low   Last  \\\n",
       "0  2007-11-27  MUNDRAPORT     EQ      440.00  770.00  1050.00  770.0  959.0   \n",
       "1  2007-11-28  MUNDRAPORT     EQ      962.90  984.00   990.00  874.0  885.0   \n",
       "2  2007-11-29  MUNDRAPORT     EQ      893.90  909.00   914.75  841.0  887.0   \n",
       "3  2007-11-30  MUNDRAPORT     EQ      884.20  890.00   958.00  890.0  929.0   \n",
       "4  2007-12-03  MUNDRAPORT     EQ      921.55  939.75   995.00  922.0  980.0   \n",
       "\n",
       "    Close    VWAP    Volume      Turnover  Trades  Deliverable Volume  \\\n",
       "0  962.90  984.72  27294366  2.687719e+15     NaN           9859619.0   \n",
       "1  893.90  941.38   4581338  4.312765e+14     NaN           1453278.0   \n",
       "2  884.20  888.09   5124121  4.550658e+14     NaN           1069678.0   \n",
       "3  921.55  929.17   4609762  4.283257e+14     NaN           1260913.0   \n",
       "4  969.30  965.65   2977470  2.875200e+14     NaN            816123.0   \n",
       "\n",
       "   %Deliverble  \n",
       "0       0.3612  \n",
       "1       0.3172  \n",
       "2       0.2088  \n",
       "3       0.2735  \n",
       "4       0.2741  "
      ]
     },
     "execution_count": 4,
     "metadata": {},
     "output_type": "execute_result"
    }
   ],
   "source": [
    "df.head()"
   ]
  },
  {
   "cell_type": "code",
   "execution_count": 5,
   "metadata": {
    "colab": {
     "base_uri": "https://localhost:8080/",
     "height": 206
    },
    "id": "t2TBsQZvLtDB",
    "outputId": "6e86c17c-9888-43d6-e3f2-c7c15db79e2e"
   },
   "outputs": [
    {
     "data": {
      "text/html": [
       "<div>\n",
       "<style scoped>\n",
       "    .dataframe tbody tr th:only-of-type {\n",
       "        vertical-align: middle;\n",
       "    }\n",
       "\n",
       "    .dataframe tbody tr th {\n",
       "        vertical-align: top;\n",
       "    }\n",
       "\n",
       "    .dataframe thead th {\n",
       "        text-align: right;\n",
       "    }\n",
       "</style>\n",
       "<table border=\"1\" class=\"dataframe\">\n",
       "  <thead>\n",
       "    <tr style=\"text-align: right;\">\n",
       "      <th></th>\n",
       "      <th>Date</th>\n",
       "      <th>Symbol</th>\n",
       "      <th>Series</th>\n",
       "      <th>Prev Close</th>\n",
       "      <th>Open</th>\n",
       "      <th>High</th>\n",
       "      <th>Low</th>\n",
       "      <th>Last</th>\n",
       "      <th>Close</th>\n",
       "      <th>VWAP</th>\n",
       "      <th>Volume</th>\n",
       "      <th>Turnover</th>\n",
       "      <th>Trades</th>\n",
       "      <th>Deliverable Volume</th>\n",
       "      <th>%Deliverble</th>\n",
       "    </tr>\n",
       "  </thead>\n",
       "  <tbody>\n",
       "    <tr>\n",
       "      <th>235187</th>\n",
       "      <td>2021-04-26</td>\n",
       "      <td>ZEEL</td>\n",
       "      <td>EQ</td>\n",
       "      <td>188.00</td>\n",
       "      <td>190.6</td>\n",
       "      <td>191.10</td>\n",
       "      <td>185.10</td>\n",
       "      <td>186.70</td>\n",
       "      <td>186.40</td>\n",
       "      <td>187.35</td>\n",
       "      <td>8542755</td>\n",
       "      <td>1.600451e+14</td>\n",
       "      <td>52374.0</td>\n",
       "      <td>2340188.0</td>\n",
       "      <td>0.2739</td>\n",
       "    </tr>\n",
       "    <tr>\n",
       "      <th>235188</th>\n",
       "      <td>2021-04-27</td>\n",
       "      <td>ZEEL</td>\n",
       "      <td>EQ</td>\n",
       "      <td>186.40</td>\n",
       "      <td>188.0</td>\n",
       "      <td>192.95</td>\n",
       "      <td>186.80</td>\n",
       "      <td>188.80</td>\n",
       "      <td>188.15</td>\n",
       "      <td>189.41</td>\n",
       "      <td>14247767</td>\n",
       "      <td>2.698636e+14</td>\n",
       "      <td>73673.0</td>\n",
       "      <td>5425957.0</td>\n",
       "      <td>0.3808</td>\n",
       "    </tr>\n",
       "    <tr>\n",
       "      <th>235189</th>\n",
       "      <td>2021-04-28</td>\n",
       "      <td>ZEEL</td>\n",
       "      <td>EQ</td>\n",
       "      <td>188.15</td>\n",
       "      <td>188.8</td>\n",
       "      <td>190.60</td>\n",
       "      <td>187.10</td>\n",
       "      <td>188.95</td>\n",
       "      <td>189.10</td>\n",
       "      <td>188.85</td>\n",
       "      <td>8429439</td>\n",
       "      <td>1.591917e+14</td>\n",
       "      <td>44056.0</td>\n",
       "      <td>2413974.0</td>\n",
       "      <td>0.2864</td>\n",
       "    </tr>\n",
       "    <tr>\n",
       "      <th>235190</th>\n",
       "      <td>2021-04-29</td>\n",
       "      <td>ZEEL</td>\n",
       "      <td>EQ</td>\n",
       "      <td>189.10</td>\n",
       "      <td>190.8</td>\n",
       "      <td>191.65</td>\n",
       "      <td>186.00</td>\n",
       "      <td>186.60</td>\n",
       "      <td>186.55</td>\n",
       "      <td>187.44</td>\n",
       "      <td>9483009</td>\n",
       "      <td>1.777471e+14</td>\n",
       "      <td>60932.0</td>\n",
       "      <td>2744472.0</td>\n",
       "      <td>0.2894</td>\n",
       "    </tr>\n",
       "    <tr>\n",
       "      <th>235191</th>\n",
       "      <td>2021-04-30</td>\n",
       "      <td>ZEEL</td>\n",
       "      <td>EQ</td>\n",
       "      <td>186.55</td>\n",
       "      <td>185.3</td>\n",
       "      <td>190.95</td>\n",
       "      <td>183.65</td>\n",
       "      <td>185.00</td>\n",
       "      <td>185.60</td>\n",
       "      <td>187.53</td>\n",
       "      <td>11435285</td>\n",
       "      <td>2.144440e+14</td>\n",
       "      <td>62607.0</td>\n",
       "      <td>3323909.0</td>\n",
       "      <td>0.2907</td>\n",
       "    </tr>\n",
       "  </tbody>\n",
       "</table>\n",
       "</div>"
      ],
      "text/plain": [
       "              Date Symbol Series  Prev Close   Open    High     Low    Last  \\\n",
       "235187  2021-04-26   ZEEL     EQ      188.00  190.6  191.10  185.10  186.70   \n",
       "235188  2021-04-27   ZEEL     EQ      186.40  188.0  192.95  186.80  188.80   \n",
       "235189  2021-04-28   ZEEL     EQ      188.15  188.8  190.60  187.10  188.95   \n",
       "235190  2021-04-29   ZEEL     EQ      189.10  190.8  191.65  186.00  186.60   \n",
       "235191  2021-04-30   ZEEL     EQ      186.55  185.3  190.95  183.65  185.00   \n",
       "\n",
       "         Close    VWAP    Volume      Turnover   Trades  Deliverable Volume  \\\n",
       "235187  186.40  187.35   8542755  1.600451e+14  52374.0           2340188.0   \n",
       "235188  188.15  189.41  14247767  2.698636e+14  73673.0           5425957.0   \n",
       "235189  189.10  188.85   8429439  1.591917e+14  44056.0           2413974.0   \n",
       "235190  186.55  187.44   9483009  1.777471e+14  60932.0           2744472.0   \n",
       "235191  185.60  187.53  11435285  2.144440e+14  62607.0           3323909.0   \n",
       "\n",
       "        %Deliverble  \n",
       "235187       0.2739  \n",
       "235188       0.3808  \n",
       "235189       0.2864  \n",
       "235190       0.2894  \n",
       "235191       0.2907  "
      ]
     },
     "execution_count": 5,
     "metadata": {},
     "output_type": "execute_result"
    }
   ],
   "source": [
    "df.tail()"
   ]
  },
  {
   "cell_type": "code",
   "execution_count": 6,
   "metadata": {
    "id": "5VlCZ7utLtDD"
   },
   "outputs": [],
   "source": [
    "df1=df.reset_index()['Close']"
   ]
  },
  {
   "cell_type": "code",
   "execution_count": 7,
   "metadata": {
    "colab": {
     "base_uri": "https://localhost:8080/"
    },
    "id": "y34t8OtWLtDE",
    "outputId": "dd1a84c9-034e-4402-bc00-c68f01bf443c"
   },
   "outputs": [
    {
     "data": {
      "text/plain": [
       "0         962.90\n",
       "1         893.90\n",
       "2         884.20\n",
       "3         921.55\n",
       "4         969.30\n",
       "           ...  \n",
       "235187    186.40\n",
       "235188    188.15\n",
       "235189    189.10\n",
       "235190    186.55\n",
       "235191    185.60\n",
       "Name: Close, Length: 235192, dtype: float64"
      ]
     },
     "execution_count": 7,
     "metadata": {},
     "output_type": "execute_result"
    }
   ],
   "source": [
    "df1"
   ]
  },
  {
   "cell_type": "code",
   "execution_count": 8,
   "metadata": {
    "colab": {
     "base_uri": "https://localhost:8080/",
     "height": 447
    },
    "id": "2kkomiNnLtDF",
    "outputId": "8ccf922e-1fc5-4c1d-8377-6c6a9babc0ba"
   },
   "outputs": [
    {
     "data": {
      "text/plain": [
       "[<matplotlib.lines.Line2D at 0x18906ad4130>]"
      ]
     },
     "execution_count": 8,
     "metadata": {},
     "output_type": "execute_result"
    },
    {
     "data": {
      "image/png": "[encoded data removed]",
      "text/plain": [
       "<Figure size 640x480 with 1 Axes>"
      ]
     },
     "metadata": {},
     "output_type": "display_data"
    }
   ],
   "source": [
    "import matplotlib.pyplot as plt\n",
    "plt.plot(df1)"
   ]
  },
  {
   "cell_type": "code",
   "execution_count": 9,
   "metadata": {
    "id": "EZzlH6oeLtDG"
   },
   "outputs": [],
   "source": [
    "### LSTM are sensitive to the scale of the data. so we apply MinMax scaler"
   ]
  },
  {
   "cell_type": "code",
   "execution_count": 10,
   "metadata": {
    "id": "5vPoMHz6LtDG"
   },
   "outputs": [],
   "source": [
    "import numpy as np\n",
    "import tensorflow.keras as ks"
   ]
  },
  {
   "cell_type": "code",
   "execution_count": 11,
   "metadata": {
    "colab": {
     "base_uri": "https://localhost:8080/"
    },
    "id": "eDZMuspeLtDH",
    "outputId": "7688e921-1841-436c-fb5c-04a54f2e6e38"
   },
   "outputs": [
    {
     "data": {
      "text/plain": [
       "0         962.90\n",
       "1         893.90\n",
       "2         884.20\n",
       "3         921.55\n",
       "4         969.30\n",
       "           ...  \n",
       "235187    186.40\n",
       "235188    188.15\n",
       "235189    189.10\n",
       "235190    186.55\n",
       "235191    185.60\n",
       "Name: Close, Length: 235192, dtype: float64"
      ]
     },
     "execution_count": 11,
     "metadata": {},
     "output_type": "execute_result"
    }
   ],
   "source": [
    "df1"
   ]
  },
  {
   "cell_type": "markdown",
   "metadata": {},
   "source": [
    "### PREPROCESSING THE DATA"
   ]
  },
  {
   "cell_type": "code",
   "execution_count": 12,
   "metadata": {
    "id": "dPAed3lpLtDI"
   },
   "outputs": [],
   "source": [
    "from sklearn.preprocessing import MinMaxScaler\n",
    "scaler=MinMaxScaler(feature_range=(0,1))\n",
    "df1=scaler.fit_transform(np.array(df1).reshape(-1,1))"
   ]
  },
  {
   "cell_type": "code",
   "execution_count": 13,
   "metadata": {
    "colab": {
     "base_uri": "https://localhost:8080/"
    },
    "id": "nUVuy1lHLtDI",
    "outputId": "11489b57-5df6-4f5e-a733-f5d47d9ba153"
   },
   "outputs": [
    {
     "name": "stdout",
     "output_type": "stream",
     "text": [
      "[[0.02903101]\n",
      " [0.02693073]\n",
      " [0.02663548]\n",
      " ...\n",
      " [0.00547746]\n",
      " [0.00539984]\n",
      " [0.00537093]]\n"
     ]
    }
   ],
   "source": [
    "print(df1)"
   ]
  },
  {
   "cell_type": "markdown",
   "metadata": {},
   "source": [
    "### SPLIT THE DATASET"
   ]
  },
  {
   "cell_type": "code",
   "execution_count": 14,
   "metadata": {
    "id": "BXosnU7JLtDJ"
   },
   "outputs": [],
   "source": [
    "##splitting dataset into train and test split\n",
    "training_size=int(len(df1)*0.65)\n",
    "test_size=len(df1)-training_size\n",
    "train_data,test_data=df1[0:training_size,:],df1[training_size:len(df1),:1]"
   ]
  },
  {
   "cell_type": "code",
   "execution_count": 15,
   "metadata": {
    "colab": {
     "base_uri": "https://localhost:8080/"
    },
    "id": "tAcYdQNCLtDJ",
    "outputId": "4612491e-b252-4d51-80ff-1942f2df3600"
   },
   "outputs": [
    {
     "data": {
      "text/plain": [
       "(152874, 82318)"
      ]
     },
     "execution_count": 15,
     "metadata": {},
     "output_type": "execute_result"
    }
   ],
   "source": [
    "training_size,test_size"
   ]
  },
  {
   "cell_type": "code",
   "execution_count": 16,
   "metadata": {
    "colab": {
     "base_uri": "https://localhost:8080/"
    },
    "id": "UeAghK_iLtDK",
    "outputId": "415aeb2f-59d7-4f76-c4fc-0e7753e4da1f"
   },
   "outputs": [
    {
     "data": {
      "text/plain": [
       "array([[0.02903101],\n",
       "       [0.02693073],\n",
       "       [0.02663548],\n",
       "       ...,\n",
       "       [0.29363555],\n",
       "       [0.29611936],\n",
       "       [0.29574953]])"
      ]
     },
     "execution_count": 16,
     "metadata": {},
     "output_type": "execute_result"
    }
   ],
   "source": [
    "train_data"
   ]
  },
  {
   "cell_type": "code",
   "execution_count": 17,
   "metadata": {
    "id": "hNU3FFhhLtDK"
   },
   "outputs": [],
   "source": [
    "import numpy\n",
    "# convert an array of values into a dataset matrix\n",
    "def create_dataset(dataset, time_step=1):\n",
    "    dataX, dataY = [], []\n",
    "    for i in range(len(dataset)-time_step-1):\n",
    "        a = dataset[i:(i+time_step), 0]   ###i=0, 0,1,2,3-----99   100\n",
    "        dataX.append(a)\n",
    "        dataY.append(dataset[i + time_step, 0])\n",
    "    return numpy.array(dataX), numpy.array(dataY)"
   ]
  },
  {
   "cell_type": "code",
   "execution_count": 18,
   "metadata": {
    "id": "4ScjkPBtLtDK"
   },
   "outputs": [],
   "source": [
    "# reshape into X=t,t+1,t+2,t+3 and Y=t+4\n",
    "time_step = 100\n",
    "X_train, y_train = create_dataset(train_data, time_step)\n",
    "X_test, ytest = create_dataset(test_data, time_step)"
   ]
  },
  {
   "cell_type": "code",
   "execution_count": 19,
   "metadata": {
    "colab": {
     "base_uri": "https://localhost:8080/"
    },
    "id": "P8mmhBKELtDL",
    "outputId": "a6eba14f-61e8-4b63-c7e4-099132d6f6ab"
   },
   "outputs": [
    {
     "name": "stdout",
     "output_type": "stream",
     "text": [
      "(152773, 100)\n",
      "(152773,)\n"
     ]
    },
    {
     "data": {
      "text/plain": [
       "(None, None)"
      ]
     },
     "execution_count": 19,
     "metadata": {},
     "output_type": "execute_result"
    }
   ],
   "source": [
    "print(X_train.shape), print(y_train.shape)"
   ]
  },
  {
   "cell_type": "code",
   "execution_count": 20,
   "metadata": {
    "colab": {
     "base_uri": "https://localhost:8080/"
    },
    "id": "pE43XEuRLtDL",
    "outputId": "31ebe8a1-96a2-4577-f420-9d86fdae23e7"
   },
   "outputs": [
    {
     "name": "stdout",
     "output_type": "stream",
     "text": [
      "(82217, 100)\n",
      "(82217,)\n"
     ]
    },
    {
     "data": {
      "text/plain": [
       "(None, None)"
      ]
     },
     "execution_count": 20,
     "metadata": {},
     "output_type": "execute_result"
    }
   ],
   "source": [
    "print(X_test.shape), print(ytest.shape)"
   ]
  },
  {
   "cell_type": "code",
   "execution_count": 21,
   "metadata": {
    "id": "7X_5A5bbLtDM"
   },
   "outputs": [],
   "source": [
    "# reshape input to be [samples, time steps, features] which is required for LSTM\n",
    "X_train =X_train.reshape(X_train.shape[0],X_train.shape[1] , 1)\n",
    "X_test = X_test.reshape(X_test.shape[0],X_test.shape[1] , 1)"
   ]
  },
  {
   "cell_type": "code",
   "execution_count": 22,
   "metadata": {
    "id": "0cI2NVxeLtDM"
   },
   "outputs": [],
   "source": [
    "### Create the Stacked LSTM model\n",
    "from tensorflow.keras.models import Sequential\n",
    "from tensorflow.keras.layers import Dense\n",
    "from tensorflow.keras.layers import LSTM"
   ]
  },
  {
   "cell_type": "markdown",
   "metadata": {},
   "source": [
    "### ADD THE LAYERS"
   ]
  },
  {
   "cell_type": "code",
   "execution_count": 23,
   "metadata": {
    "id": "kERJgvBnLtDN"
   },
   "outputs": [],
   "source": [
    "model=Sequential()\n",
    "model.add(LSTM(50,return_sequences=True,input_shape=(100,1)))\n",
    "model.add(LSTM(50,return_sequences=True))\n",
    "model.add(LSTM(50))\n",
    "model.add(Dense(1))\n",
    "model.compile(loss='mean_squared_error',optimizer='adam')\n"
   ]
  },
  {
   "cell_type": "code",
   "execution_count": 24,
   "metadata": {
    "colab": {
     "base_uri": "https://localhost:8080/"
    },
    "id": "zHJx-dOJLtDN",
    "outputId": "5075603a-00e3-4d75-90a9-aaef14476547"
   },
   "outputs": [
    {
     "name": "stdout",
     "output_type": "stream",
     "text": [
      "Model: \"sequential\"\n",
      "_________________________________________________________________\n",
      " Layer (type)                Output Shape              Param #   \n",
      "=================================================================\n",
      " lstm (LSTM)                 (None, 100, 50)           10400     \n",
      "                                                                 \n",
      " lstm_1 (LSTM)               (None, 100, 50)           20200     \n",
      "                                                                 \n",
      " lstm_2 (LSTM)               (None, 50)                20200     \n",
      "                                                                 \n",
      " dense (Dense)               (None, 1)                 51        \n",
      "                                                                 \n",
      "=================================================================\n",
      "Total params: 50851 (198.64 KB)\n",
      "Trainable params: 50851 (198.64 KB)\n",
      "Non-trainable params: 0 (0.00 Byte)\n",
      "_________________________________________________________________\n"
     ]
    }
   ],
   "source": [
    "model.summary()"
   ]
  },
  {
   "cell_type": "code",
   "execution_count": null,
   "metadata": {
    "colab": {
     "base_uri": "https://localhost:8080/"
    },
    "id": "7j35jHzfLtDN",
    "outputId": "f4350786-028d-433b-9a21-904d7903408b"
   },
   "outputs": [],
   "source": []
  },
  {
   "cell_type": "code",
   "execution_count": null,
   "metadata": {
    "id": "G_iLwqAWLtDO"
   },
   "outputs": [],
   "source": []
  },
  {
   "cell_type": "code",
   "execution_count": 25,
   "metadata": {
    "colab": {
     "base_uri": "https://localhost:8080/"
    },
    "id": "HTeK07v6LtDO",
    "outputId": "900472d0-1cfa-41ce-b5d1-a7890796c78a"
   },
   "outputs": [
    {
     "name": "stdout",
     "output_type": "stream",
     "text": [
      "2388/2388 [==============================] - 1042s 433ms/step - loss: 7.4870e-05 - val_loss: 3.7269e-05\n"
     ]
    },
    {
     "data": {
      "text/plain": [
       "<keras.src.callbacks.History at 0x2baf0a029d0>"
      ]
     },
     "execution_count": 25,
     "metadata": {},
     "output_type": "execute_result"
    }
   ],
   "source": [
    "model.fit(X_train,y_train,validation_data=(X_test,ytest),epochs=1,batch_size=64,verbose=1)"
   ]
  },
  {
   "cell_type": "code",
   "execution_count": 25,
   "metadata": {
    "id": "Hs363wLqLtDP"
   },
   "outputs": [],
   "source": [
    "import tensorflow as tf"
   ]
  },
  {
   "cell_type": "code",
   "execution_count": 26,
   "metadata": {
    "colab": {
     "base_uri": "https://localhost:8080/",
     "height": 36
    },
    "id": "NN_6uz4HLtDP",
    "outputId": "15c3d703-1423-4874-9d89-937ea75e78ba"
   },
   "outputs": [
    {
     "data": {
      "text/plain": [
       "'2.13.0'"
      ]
     },
     "execution_count": 26,
     "metadata": {},
     "output_type": "execute_result"
    }
   ],
   "source": [
    "tf.__version__"
   ]
  },
  {
   "cell_type": "code",
   "execution_count": 27,
   "metadata": {
    "colab": {
     "base_uri": "https://localhost:8080/"
    },
    "id": "I9RWt0MmLtDP",
    "outputId": "8a709230-b286-4737-df62-c89d7d2a57c5"
   },
   "outputs": [
    {
     "name": "stdout",
     "output_type": "stream",
     "text": [
      "4775/4775 [==============================] - 242s 50ms/step\n",
      "2570/2570 [==============================] - 133s 52ms/step\n"
     ]
    }
   ],
   "source": [
    "### Lets Do the prediction and check performance metrics\n",
    "train_predict=model.predict(X_train)\n",
    "test_predict=model.predict(X_test)"
   ]
  },
  {
   "cell_type": "markdown",
   "metadata": {},
   "source": [
    "### TRANSFORM THE DATA IN ORIGINAL FORMAT"
   ]
  },
  {
   "cell_type": "code",
   "execution_count": 28,
   "metadata": {
    "id": "7Anha9UHLtDQ"
   },
   "outputs": [],
   "source": [
    "##Transformback to original form\n",
    "train_predict=scaler.inverse_transform(train_predict)\n",
    "test_predict=scaler.inverse_transform(test_predict)"
   ]
  },
  {
   "cell_type": "code",
   "execution_count": 29,
   "metadata": {
    "colab": {
     "base_uri": "https://localhost:8080/"
    },
    "id": "4fAp8rMKLtDQ",
    "outputId": "aa827d8a-89ed-40ec-eac9-0ed6a373a834"
   },
   "outputs": [
    {
     "data": {
      "text/plain": [
       "273.41040082145827"
      ]
     },
     "execution_count": 29,
     "metadata": {},
     "output_type": "execute_result"
    }
   ],
   "source": [
    "### Calculate RMSE performance metrics\n",
    "import math\n",
    "from sklearn.metrics import mean_squared_error\n",
    "math.sqrt(mean_squared_error(y_train,train_predict))"
   ]
  },
  {
   "cell_type": "markdown",
   "metadata": {},
   "source": [
    "### CALCULATE MEAN SQUARED ERROR"
   ]
  },
  {
   "cell_type": "code",
   "execution_count": 30,
   "metadata": {
    "colab": {
     "base_uri": "https://localhost:8080/"
    },
    "id": "lquMp9N5LtDQ",
    "outputId": "cd170780-4b77-4931-f7b8-e73335b5def8"
   },
   "outputs": [
    {
     "data": {
      "text/plain": [
       "293.07652201244144"
      ]
     },
     "execution_count": 30,
     "metadata": {},
     "output_type": "execute_result"
    }
   ],
   "source": [
    "### Test Data RMSE\n",
    "math.sqrt(mean_squared_error(ytest,test_predict))"
   ]
  },
  {
   "cell_type": "code",
   "execution_count": 31,
   "metadata": {
    "colab": {
     "base_uri": "https://localhost:8080/",
     "height": 430
    },
    "id": "STgH-2R4LtDR",
    "outputId": "acdf6e21-9f80-4971-e474-bfb862fa910c"
   },
   "outputs": [
    {
     "data": {
      "image/png": "[encoded data removed]",
      "text/plain": [
       "<Figure size 640x480 with 1 Axes>"
      ]
     },
     "metadata": {},
     "output_type": "display_data"
    }
   ],
   "source": [
    "### Plotting\n",
    "# shift train predictions for plotting\n",
    "look_back=100\n",
    "trainPredictPlot = numpy.empty_like(df1)\n",
    "trainPredictPlot[:, :] = np.nan\n",
    "trainPredictPlot[look_back:len(train_predict)+look_back, :] = train_predict\n",
    "# shift test predictions for plotting\n",
    "testPredictPlot = numpy.empty_like(df1)\n",
    "testPredictPlot[:, :] = numpy.nan\n",
    "testPredictPlot[len(train_predict)+(look_back*2)+1:len(df1)-1, :] = test_predict\n",
    "# plot baseline and predictions\n",
    "plt.plot(scaler.inverse_transform(df1))\n",
    "plt.plot(trainPredictPlot)\n",
    "plt.plot(testPredictPlot)\n",
    "plt.show()"
   ]
  },
  {
   "cell_type": "code",
   "execution_count": 32,
   "metadata": {
    "colab": {
     "base_uri": "https://localhost:8080/"
    },
    "id": "_4PN3gVPLtDR",
    "outputId": "b54ef0ad-edff-4bb2-e014-0a75ba19e0d2"
   },
   "outputs": [
    {
     "data": {
      "text/plain": [
       "82318"
      ]
     },
     "execution_count": 32,
     "metadata": {},
     "output_type": "execute_result"
    }
   ],
   "source": [
    "len(test_data)"
   ]
  },
  {
   "cell_type": "code",
   "execution_count": 36,
   "metadata": {
    "colab": {
     "base_uri": "https://localhost:8080/"
    },
    "id": "Tv5pmIf9LtDT",
    "outputId": "d535e174-2fb1-42d4-b5ca-fb86d48f4564"
   },
   "outputs": [
    {
     "data": {
      "text/plain": [
       "(1, 70802)"
      ]
     },
     "execution_count": 36,
     "metadata": {},
     "output_type": "execute_result"
    }
   ],
   "source": [
    "x_input=test_data[11516:].reshape(1,-1)\n",
    "x_input.shape\n"
   ]
  },
  {
   "cell_type": "code",
   "execution_count": null,
   "metadata": {
    "id": "ss9gzCBbLtDU"
   },
   "outputs": [],
   "source": []
  },
  {
   "cell_type": "code",
   "execution_count": 34,
   "metadata": {
    "id": "7QM935GCLtDV"
   },
   "outputs": [],
   "source": [
    "temp_input=list(x_input)\n",
    "temp_input=temp_input[0].tolist()"
   ]
  },
  {
   "cell_type": "code",
   "execution_count": 35,
   "metadata": {
    "colab": {
     "base_uri": "https://localhost:8080/"
    },
    "id": "e4-liVq3LtDV",
    "outputId": "bca7a921-dfae-477d-dc13-4e86dc4077a9"
   },
   "outputs": [
    {
     "data": {
      "text/plain": [
       "[0.002733404763064336,\n",
       " 0.0026923123752008965,\n",
       " 0.0027501461062679595,\n",
       " 0.0027501461062679595,\n",
       " 0.0028247211805386458,\n",
       " 0.002783628792675206,\n",
       " 0.0027349267033555742,\n",
       " 0.0027714532703452983,\n",
       " 0.002727317001899382,\n",
       " 0.0027775410315102524,\n",
       " 0.00276993133005406,\n",
       " 0.002804935956752545,\n",
       " 0.0027014440169483276,\n",
       " 0.002716663419860713,\n",
       " 0.0026177373009302106,\n",
       " 0.0026512199873374572,\n",
       " 0.002614693420347733,\n",
       " 0.002645132226172503,\n",
       " 0.0026420883455900265,\n",
       " 0.0026238250620951643,\n",
       " 0.0026436102858812646,\n",
       " 0.0026436102858812646,\n",
       " 0.002654263867919934,\n",
       " 0.002614693420347733,\n",
       " 0.0025751229727755324,\n",
       " 0.002564469390736863,\n",
       " 0.002579688793649248,\n",
       " 0.0025872984951054406,\n",
       " 0.0025903423756879177,\n",
       " 0.002526420883455901,\n",
       " 0.002604039838309064,\n",
       " 0.0026162153606389717,\n",
       " 0.002570557151901817,\n",
       " 0.0025751229727755324,\n",
       " 0.0026314347635513565,\n",
       " 0.0026527419276286958,\n",
       " 0.002733404763064336,\n",
       " 0.002804935956752545,\n",
       " 0.002716663419860713,\n",
       " 0.0027044878975308047,\n",
       " 0.002702965957239566,\n",
       " 0.0026892684946184194,\n",
       " 0.0027349267033555742,\n",
       " 0.0027257950616081435,\n",
       " 0.0027653655091803443,\n",
       " 0.002742536404811767,\n",
       " 0.0027471022256854824,\n",
       " 0.0027562338674329136,\n",
       " 0.002721229240734428,\n",
       " 0.0027349267033555742,\n",
       " 0.00275927774801539,\n",
       " 0.0027349267033555742,\n",
       " 0.0027623216285978676,\n",
       " 0.0027501461062679595,\n",
       " 0.0028231992402474072,\n",
       " 0.002786672673257683,\n",
       " 0.0027623216285978676,\n",
       " 0.00272883894219062,\n",
       " 0.002727317001899382,\n",
       " 0.0027303608824818587,\n",
       " 0.0026877465543271814,\n",
       " 0.0027044878975308047,\n",
       " 0.0026877465543271814,\n",
       " 0.0026892684946184194,\n",
       " 0.002712097598986997,\n",
       " 0.0026816587931622273,\n",
       " 0.0027197073004431895,\n",
       " 0.0026999220766570887,\n",
       " 0.0027075317781132813,\n",
       " 0.0027060098378220428,\n",
       " 0.0027075317781132813,\n",
       " 0.002660351629084888,\n",
       " 0.0026618735693761265,\n",
       " 0.002634478644133834,\n",
       " 0.0026314347635513565,\n",
       " 0.00262839088296888,\n",
       " 0.0026192592412214487,\n",
       " 0.0026238250620951643,\n",
       " 0.002666439390249842,\n",
       " 0.0026496980470462187,\n",
       " 0.0026892684946184194,\n",
       " 0.0026740490917060347,\n",
       " 0.0026314347635513565,\n",
       " 0.002634478644133834,\n",
       " 0.002613171480056495,\n",
       " 0.0026207811815126872,\n",
       " 0.0026299128232601184,\n",
       " 0.0026360005844250725,\n",
       " 0.002610127599474018,\n",
       " 0.0026162153606389717,\n",
       " 0.0026223031218039258,\n",
       " 0.002614693420347733,\n",
       " 0.0026223031218039258,\n",
       " 0.0026192592412214487,\n",
       " 0.00259795207714411,\n",
       " 0.002604039838309064,\n",
       " 0.00264817610675498,\n",
       " 0.002654263867919934,\n",
       " 0.0026923123752008965,\n",
       " 0.0027349267033555742,\n",
       " 0.0027318828227730976,\n",
       " 0.0027303608824818587,\n",
       " 0.0027197073004431895,\n",
       " 0.00272883894219062,\n",
       " 0.002715141479569474,\n",
       " 0.0028095017776262605,\n",
       " 0.002835374762577315,\n",
       " 0.0027440583451030054,\n",
       " 0.0027912384941313987,\n",
       " 0.0028034140164613064,\n",
       " 0.002862769687819608,\n",
       " 0.0029358228217990553,\n",
       " 0.002887120732479424,\n",
       " 0.0029327789412165787,\n",
       " 0.00299213461257488,\n",
       " 0.002917559538304194,\n",
       " 0.0030088759557785035,\n",
       " 0.0030210514781084117,\n",
       " 0.0030301831198558424,\n",
       " 0.0029662616276238253,\n",
       " 0.002975393269371257,\n",
       " 0.002970827448497541,\n",
       " 0.0030027881946135494,\n",
       " 0.0029982223737398343,\n",
       " 0.003004310134904788,\n",
       " 0.0029997443140310723,\n",
       " 0.0029845249111186876,\n",
       " 0.0029464764038377254,\n",
       " 0.0029464764038377254,\n",
       " 0.0029358228217990553,\n",
       " 0.0029327789412165787,\n",
       " 0.0029510422247114405,\n",
       " 0.0029358228217990553,\n",
       " 0.0029419105829640094,\n",
       " 0.002903862075683047,\n",
       " 0.0029206034188866705,\n",
       " 0.002841462523742269,\n",
       " 0.002841462523742269,\n",
       " 0.002873423269858277,\n",
       " 0.002973871329080018,\n",
       " 0.003115411776165198,\n",
       " 0.003156504164028637,\n",
       " 0.003130631179077583,\n",
       " 0.0032052062533482694,\n",
       " 0.003358922222763357,\n",
       " 0.003442628938781474,\n",
       " 0.0035232917742171145,\n",
       " 0.003509594311595968,\n",
       " 0.0035385111771294997,\n",
       " 0.003704402668874495,\n",
       " 0.0036222178931476167,\n",
       " 0.0035841693858666545,\n",
       " 0.003521769833925876,\n",
       " 0.00352785759509083,\n",
       " 0.003435019237325282,\n",
       " 0.0035324234159645456,\n",
       " 0.003533945356255784,\n",
       " 0.003503506550431014,\n",
       " 0.0035841693858666545,\n",
       " 0.0036206959528563777,\n",
       " 0.0039022549067354996,\n",
       " 0.003859640578580821,\n",
       " 0.0037926752057663277,\n",
       " 0.003874859981493206,\n",
       " 0.0037820216237276585,\n",
       " 0.0037333195344080266,\n",
       " 0.0037850655043101355,\n",
       " 0.003798762966931282,\n",
       " 0.0037150562509131644,\n",
       " 0.003748538937320412,\n",
       " 0.0037211440120781193,\n",
       " 0.003751582817902889,\n",
       " 0.003751582817902889,\n",
       " 0.003756148638776604,\n",
       " 0.003877903862075684,\n",
       " 0.003958566697511323,\n",
       " 0.0039829177421711395,\n",
       " 0.00402248818974334,\n",
       " 0.003998137145083524,\n",
       " 0.004110760726635173,\n",
       " 0.004167072517410998,\n",
       " 0.003914430429065407,\n",
       " 0.003867250280037014,\n",
       " 0.003908342667900453,\n",
       " 0.003760714459650319,\n",
       " 0.003798762966931282,\n",
       " 0.0038352895339210063,\n",
       " 0.003868772220328253,\n",
       " 0.003943347294598938,\n",
       " 0.0038946452052793065,\n",
       " 0.0038885574441143533,\n",
       " 0.0038535528174158677,\n",
       " 0.003870294160619492,\n",
       " 0.003820070131008621,\n",
       " 0.003824635951882337,\n",
       " 0.0037759338625627044,\n",
       " 0.003821592071299859,\n",
       " 0.0037728899819802274,\n",
       " 0.0036724419227584875,\n",
       " 0.003753104758194127,\n",
       " 0.003753104758194127,\n",
       " 0.003801806847513759,\n",
       " 0.003815504310134905,\n",
       " 0.0037363634149905037,\n",
       " 0.0037378853552817418,\n",
       " 0.003747016997029173,\n",
       " 0.003748538937320412,\n",
       " 0.0037759338625627044,\n",
       " 0.003824635951882337,\n",
       " 0.003877903862075684,\n",
       " 0.0038946452052793065,\n",
       " 0.003874859981493206,\n",
       " 0.003804850728096236,\n",
       " 0.003753104758194127,\n",
       " 0.003708968489748211,\n",
       " 0.0036633102810110564,\n",
       " 0.0036541786392636244,\n",
       " 0.003751582817902889,\n",
       " 0.003754626698485366,\n",
       " 0.003762236399941558,\n",
       " 0.003804850728096236,\n",
       " 0.003813982369843666,\n",
       " 0.0037728899819802274,\n",
       " 0.003801806847513759,\n",
       " 0.003865728339745776,\n",
       " 0.0039174743096478835,\n",
       " 0.0038352895339210063,\n",
       " 0.0038839916232406373,\n",
       " 0.003859640578580821,\n",
       " 0.003865728339745776,\n",
       " 0.003877903862075684,\n",
       " 0.0038870355038231144,\n",
       " 0.0038916013246968304,\n",
       " 0.003876381921784445,\n",
       " 0.0038565966979983448,\n",
       " 0.00386116251887206,\n",
       " 0.0038916013246968304,\n",
       " 0.003969220279549993,\n",
       " 0.0038383334145034825,\n",
       " 0.003859640578580821,\n",
       " 0.0038992110261530225,\n",
       " 0.0039189962499391225,\n",
       " 0.0039235620708128385,\n",
       " 0.003862684459163299,\n",
       " 0.0038261578921735743,\n",
       " 0.003862684459163299,\n",
       " 0.003798762966931282,\n",
       " 0.003803328787804997,\n",
       " 0.0038337675936297674,\n",
       " 0.003981395801879901,\n",
       " 0.0039768299810061854,\n",
       " 0.0039783519212974235,\n",
       " 0.004045317294111918,\n",
       " 0.004059014756733064,\n",
       " 0.004060536697024303,\n",
       " 0.004118370428091365,\n",
       " 0.004159462815954805,\n",
       " 0.004130545950421273,\n",
       " 0.004057492816441825,\n",
       " 0.004132067890712512,\n",
       " 0.004229472069351775,\n",
       " 0.0042157746067306295,\n",
       " 0.00407271221935421,\n",
       " 0.004124458189256319,\n",
       " 0.004107716846052696,\n",
       " 0.004188379681488336,\n",
       " 0.004237081770807968,\n",
       " 0.004185335800905859,\n",
       " 0.004170116397993475,\n",
       " 0.004182291920323382,\n",
       " 0.004057492816441825,\n",
       " 0.003955522816928846,\n",
       " 0.003957044757220085,\n",
       " 0.004005746846539717,\n",
       " 0.004065102517898018,\n",
       " 0.003932693712560269,\n",
       " 0.0039235620708128385,\n",
       " 0.0038976890858617836,\n",
       " 0.003876381921784445,\n",
       " 0.0038839916232406373,\n",
       " 0.0038565966979983448,\n",
       " 0.0038292017727560514,\n",
       " 0.0038992110261530225,\n",
       " 0.003859640578580821,\n",
       " 0.003824635951882337,\n",
       " 0.003813982369843666,\n",
       " 0.0037713680416889893,\n",
       " 0.003708968489748211,\n",
       " 0.0037272317732430726,\n",
       " 0.0038550747577071067,\n",
       " 0.0038870355038231144,\n",
       " 0.003954000876637608,\n",
       " 0.003870294160619492,\n",
       " 0.0038946452052793065,\n",
       " 0.0038916013246968304,\n",
       " 0.00391138654848293,\n",
       " 0.0039220401305215995,\n",
       " 0.0038946452052793065,\n",
       " 0.003944869234890177,\n",
       " 0.003949435055763893,\n",
       " 0.0038550747577071067,\n",
       " 0.003914430429065407,\n",
       " 0.003932693712560269,\n",
       " 0.003935737593142746,\n",
       " 0.003876381921784445,\n",
       " 0.0038565966979983448,\n",
       " 0.003862684459163299,\n",
       " 0.00407271221935421,\n",
       " 0.0042066429649831975,\n",
       " 0.004221862367895583,\n",
       " 0.0042081649052744365,\n",
       " 0.004192945502362052,\n",
       " 0.004237081770807968,\n",
       " 0.0042736083377976925,\n",
       " 0.004285783860127599,\n",
       " 0.004270564457215215,\n",
       " 0.004250779233429114,\n",
       " 0.004226428188769299,\n",
       " 0.004221862367895583,\n",
       " 0.004202077144109482,\n",
       " 0.004173160278575951,\n",
       " 0.0040940193834315495,\n",
       " 0.004087931622266595,\n",
       " 0.004027054010617055,\n",
       " 0.004138155651877465,\n",
       " 0.0041579408756635666,\n",
       " 0.004294915501875031,\n",
       " 0.004332964009155993,\n",
       " 0.004371012516436955,\n",
       " 0.004431890128086495,\n",
       " 0.004418192665465349,\n",
       " 0.0043862319193493406,\n",
       " 0.004466894754784981,\n",
       " 0.0044927677397360345,\n",
       " 0.004425802366921541,\n",
       " 0.004371012516436955,\n",
       " 0.004503421321774705,\n",
       " 0.0044958116203185116,\n",
       " 0.004491245799444796,\n",
       " 0.004456241172746312,\n",
       " 0.004422758486339064,\n",
       " 0.0044440656504164035,\n",
       " 0.004294915501875031,\n",
       " 0.004241647591681683,\n",
       " 0.004223384308186822,\n",
       " 0.004276652218380169,\n",
       " 0.00418381386061462,\n",
       " 0.004188379681488336,\n",
       " 0.0042157746067306295,\n",
       " 0.004185335800905859,\n",
       " 0.004168594457702236,\n",
       " 0.004232515949934252,\n",
       " 0.0042629547557590216,\n",
       " 0.00422490624847806,\n",
       " 0.004180769980032144,\n",
       " 0.004138155651877465,\n",
       " 0.004127502069838796,\n",
       " 0.004135111771294989,\n",
       " 0.004142721472751181,\n",
       " 0.004179248039740905,\n",
       " 0.00422490624847806,\n",
       " 0.00422490624847806,\n",
       " 0.0042051210246919594,\n",
       " 0.004317744606243608,\n",
       " 0.004369490576145716,\n",
       " 0.004419714605756587,\n",
       " 0.004334485949447232,\n",
       " 0.004308612964496176,\n",
       " 0.004290349681001315,\n",
       " 0.004281218039253885,\n",
       " 0.004252301173720352,\n",
       " 0.004197511323235767,\n",
       " 0.004185335800905859,\n",
       " 0.004160984756246043,\n",
       " 0.00413358983100375,\n",
       " 0.004118370428091365,\n",
       " 0.004075756099936688,\n",
       " 0.004049883114985633,\n",
       " 0.004109238786343935,\n",
       " 0.004078799980519164,\n",
       " 0.004001181025666001,\n",
       " 0.003992049383918571,\n",
       " 0.0039829177421711395,\n",
       " 0.004074234159645449,\n",
       " 0.003961610578093801,\n",
       " 0.004008790727122194,\n",
       " 0.003964654458676277,\n",
       " 0.0039844396824623785,\n",
       " 0.0039844396824623785,\n",
       " 0.003944869234890177,\n",
       " 0.004007268786830956,\n",
       " 0.003967698339258754,\n",
       " 0.00401183460770467,\n",
       " 0.004077278040227926,\n",
       " 0.004075756099936688,\n",
       " 0.004080321920810402,\n",
       " 0.004080321920810402,\n",
       " 0.004095541323722788,\n",
       " 0.004077278040227926,\n",
       " 0.004059014756733064,\n",
       " 0.004080321920810402,\n",
       " 0.004115326547508888,\n",
       " 0.004132067890712512,\n",
       " 0.004170116397993475,\n",
       " 0.0042066429649831975,\n",
       " 0.004200555203818244,\n",
       " 0.004165550577119759,\n",
       " 0.0041472872936248965,\n",
       " 0.004019444309160863,\n",
       " 0.004107716846052696,\n",
       " 0.0040377075926557255,\n",
       " 0.004042273413529441,\n",
       " 0.0039829177421711395,\n",
       " 0.00402248818974334,\n",
       " 0.003964654458676277,\n",
       " 0.0039783519212974235,\n",
       " 0.00402248818974334,\n",
       " 0.003955522816928846,\n",
       " 0.003967698339258754,\n",
       " 0.003955522816928846,\n",
       " 0.004054448935859349,\n",
       " 0.004028575950908294,\n",
       " 0.004028575950908294,\n",
       " 0.0039829177421711395,\n",
       " 0.003940303414016461,\n",
       " 0.0039220401305215995,\n",
       " 0.0038916013246968304,\n",
       " 0.0039418253543077,\n",
       " 0.0039829177421711395,\n",
       " 0.003989005503336093,\n",
       " 0.0039753080407149465,\n",
       " 0.003970742219841231,\n",
       " 0.004019444309160863,\n",
       " 0.003989005503336093,\n",
       " 0.0039829177421711395,\n",
       " 0.004068146398480495,\n",
       " 0.004051405055276872,\n",
       " 0.004045317294111918,\n",
       " 0.003995093264501048,\n",
       " 0.004024010130034578,\n",
       " 0.0039829177421711395,\n",
       " 0.004055970876150587,\n",
       " 0.004043795353820679,\n",
       " 0.004001181025666001,\n",
       " 0.004013356547995909,\n",
       " 0.004005746846539717,\n",
       " 0.004014878488287148,\n",
       " 0.003970742219841231,\n",
       " 0.0039235620708128385,\n",
       " 0.0039205181902303606,\n",
       " 0.00386116251887206,\n",
       " 0.003915952369356646,\n",
       " 0.003932693712560269,\n",
       " 0.0039250840111040766,\n",
       " 0.0039037768470267385,\n",
       " 0.003874859981493206,\n",
       " 0.003864206399454537,\n",
       " 0.0037820216237276585,\n",
       " 0.0037120123703306873,\n",
       " 0.003635915355768763,\n",
       " 0.003707446549456972,\n",
       " 0.0038261578921735743,\n",
       " 0.0038352895339210063,\n",
       " 0.003698314907709541,\n",
       " 0.003651134758681148,\n",
       " 0.0035324234159645456,\n",
       " 0.003593301027614085,\n",
       " 0.0034837213266449133,\n",
       " 0.0034441508790727126,\n",
       " 0.0035582964009155996,\n",
       " 0.0035567744606243615,\n",
       " 0.003476111625188721,\n",
       " 0.0035050284907222526,\n",
       " 0.0036039546096527544,\n",
       " 0.0036267837140213323,\n",
       " 0.0037120123703306873,\n",
       " 0.0037850655043101355,\n",
       " 0.003877903862075684,\n",
       " 0.003708968489748211,\n",
       " 0.003611564311108947,\n",
       " 0.0035385111771294997,\n",
       " 0.003581125505284177,\n",
       " 0.0036283056543125708,\n",
       " 0.00375006087761165,\n",
       " 0.003695271027127065,\n",
       " 0.003754626698485366,\n",
       " 0.003747016997029173,\n",
       " 0.003756148638776604,\n",
       " 0.003753104758194127,\n",
       " 0.003756148638776604,\n",
       " 0.0037789777431451814,\n",
       " 0.0037713680416889893,\n",
       " 0.0037698461013977503,\n",
       " 0.0038322456533385293,\n",
       " 0.0038307237130472903,\n",
       " 0.0037941971460575667,\n",
       " 0.0038581186382895837,\n",
       " 0.0038581186382895837,\n",
       " 0.003871816100910729,\n",
       " 0.0038535528174158677,\n",
       " 0.0037972410266400437,\n",
       " 0.0037104904300394492,\n",
       " 0.0036222178931476167,\n",
       " 0.003640481176642479,\n",
       " 0.003646568937807432,\n",
       " 0.0037287537135343115,\n",
       " 0.0037150562509131644,\n",
       " 0.003707446549456972,\n",
       " 0.0037181001314956423,\n",
       " 0.0036800516242146797,\n",
       " 0.0036267837140213323,\n",
       " 0.0036617883407198174,\n",
       " 0.003684617445088395,\n",
       " 0.003648090878098671,\n",
       " 0.003701358788292018,\n",
       " 0.003705924609165734,\n",
       " 0.0037348414746992647,\n",
       " 0.003705924609165734,\n",
       " 0.0037211440120781193,\n",
       " 0.0037348414746992647,\n",
       " 0.0037941971460575667,\n",
       " 0.0037850655043101355,\n",
       " 0.003864206399454537,\n",
       " 0.00386116251887206,\n",
       " 0.0038428992353771985,\n",
       " 0.0037941971460575667,\n",
       " 0.003701358788292018,\n",
       " 0.0037135343106219263,\n",
       " 0.003684617445088395,\n",
       " 0.0036830955047971567,\n",
       " 0.003701358788292018,\n",
       " 0.003617652072273901,\n",
       " 0.0036222178931476167,\n",
       " 0.0036633102810110564,\n",
       " 0.0037804996834364195,\n",
       " 0.003817026250426144,\n",
       " 0.0038428992353771985,\n",
       " 0.003966176398967515,\n",
       " 0.003937259533433985,\n",
       " 0.0039844396824623785,\n",
       " 0.003985961622753617,\n",
       " 0.004048361174694395,\n",
       " 0.00401183460770467,\n",
       " 0.004013356547995909,\n",
       " 0.004017922368869625,\n",
       " 0.004013356547995909,\n",
       " 0.00401183460770467,\n",
       " 0.003957044757220085,\n",
       " 0.003967698339258754,\n",
       " 0.0039250840111040766,\n",
       " 0.0040331417717820095,\n",
       " 0.004081843861101641,\n",
       " 0.004066624458189256,\n",
       " 0.004071190279062972,\n",
       " 0.004069668338771733,\n",
       " 0.003955522816928846,\n",
       " 0.0039266059513953155,\n",
       " 0.003859640578580821,\n",
       " 0.003820070131008621,\n",
       " 0.003745495056737934,\n",
       " 0.0037728899819802274,\n",
       " 0.0037698461013977503,\n",
       " 0.003929649831977792,\n",
       " 0.004095541323722788,\n",
       " 0.004221862367895583,\n",
       " 0.004188379681488336,\n",
       " 0.004173160278575951,\n",
       " 0.004081843861101641,\n",
       " 0.004189901621779575,\n",
       " 0.004142721472751181,\n",
       " 0.004057492816441825,\n",
       " 0.004042273413529441,\n",
       " 0.004084887741684118,\n",
       " 0.0038824696829493984,\n",
       " 0.003932693712560269,\n",
       " 0.003943347294598938,\n",
       " 0.003961610578093801,\n",
       " 0.003970742219841231,\n",
       " 0.0039783519212974235,\n",
       " 0.004013356547995909,\n",
       " 0.00397226416013247,\n",
       " 0.0038946452052793065,\n",
       " 0.003973786100423708,\n",
       " 0.0037317975941167886,\n",
       " 0.0037896313251838515,\n",
       " 0.0036800516242146797,\n",
       " 0.0037926752057663277,\n",
       " 0.0038428992353771985,\n",
       " 0.0038505089368333907,\n",
       " 0.0039418253543077,\n",
       " 0.003912908488774168,\n",
       " 0.0039753080407149465,\n",
       " 0.00397226416013247,\n",
       " 0.003928127891686554,\n",
       " 0.003940303414016461,\n",
       " 0.003950956996055131,\n",
       " 0.003944869234890177,\n",
       " 0.0039220401305215995,\n",
       " 0.0038870355038231144,\n",
       " 0.0039220401305215995,\n",
       " 0.003928127891686554,\n",
       " 0.0039052987873179766,\n",
       " 0.003955522816928846,\n",
       " 0.0039266059513953155,\n",
       " 0.0039753080407149465,\n",
       " 0.003955522816928846,\n",
       " 0.003931171772269031,\n",
       " 0.003940303414016461,\n",
       " 0.003954000876637608,\n",
       " 0.003973786100423708,\n",
       " 0.003989005503336093,\n",
       " 0.004010312667413432,\n",
       " 0.004051405055276872,\n",
       " 0.004078799980519164,\n",
       " 0.004135111771294989,\n",
       " 0.00416402863682852,\n",
       " 0.004226428188769299,\n",
       " 0.004170116397993475,\n",
       " 0.004167072517410998,\n",
       " 0.0040985852043052655,\n",
       " 0.004139677592168704,\n",
       " 0.004115326547508888,\n",
       " 0.0040392295329469636,\n",
       " 0.004086409681975357,\n",
       " 0.004069668338771733,\n",
       " 0.004141199532459942,\n",
       " 0.004066624458189256,\n",
       " 0.004081843861101641,\n",
       " 0.004057492816441825,\n",
       " 0.004089453562557834,\n",
       " 0.0040392295329469636,\n",
       " 0.004027054010617055,\n",
       " 0.004101629084887742,\n",
       " 0.004127502069838796,\n",
       " 0.004118370428091365,\n",
       " 0.004132067890712512,\n",
       " 0.004075756099936688,\n",
       " 0.004116848487800127,\n",
       " 0.004129024010130035,\n",
       " 0.004230994009643014,\n",
       " 0.004186857741197097,\n",
       " 0.004278174158671407,\n",
       " 0.0043055690839137,\n",
       " 0.004313178785369892,\n",
       " 0.004340573710612186,\n",
       " 0.004287305800418838,\n",
       " 0.004253823114011591,\n",
       " 0.004293393561583792,\n",
       " 0.004299481322748746,\n",
       " 0.0042644766960502605,\n",
       " 0.004284261919836362,\n",
       " 0.004364924755272002,\n",
       " 0.004372534456728194,\n",
       " 0.004421236546047826,\n",
       " 0.004342095650903425,\n",
       " 0.004304047143622462,\n",
       " 0.004421236546047826,\n",
       " 0.004427324307212779,\n",
       " 0.0045018993814834665,\n",
       " 0.004489723859153558,\n",
       " 0.004469938635367457,\n",
       " 0.00445776311303755,\n",
       " 0.004489723859153558,\n",
       " 0.004463850874202504,\n",
       " 0.004409061023717918,\n",
       " 0.004453197292163834,\n",
       " 0.00456886475429796,\n",
       " 0.004686054156723324,\n",
       " 0.004748453708664102,\n",
       " 0.004756063410120295,\n",
       " 0.0046297423659475,\n",
       " 0.004693663858179516,\n",
       " 0.004727146544586763,\n",
       " 0.004792589977110018,\n",
       " 0.004792589977110018,\n",
       " 0.004648005649442361,\n",
       " 0.004745409828081626,\n",
       " 0.004721058783421809,\n",
       " 0.0046890980373058,\n",
       " 0.0047865022159450646,\n",
       " 0.004845857887303366,\n",
       " 0.0046677908732284615,\n",
       " 0.004784980275653826,\n",
       " 0.004864121170798227,\n",
       " 0.004938696245068914,\n",
       " 0.004970656991184922,\n",
       " 0.005084802513027809,\n",
       " 0.005078714751862856,\n",
       " 0.005115241318852578,\n",
       " 0.005166987288754688,\n",
       " 0.005075670871280379,\n",
       " 0.005145680124677349,\n",
       " 0.00509393415477524,\n",
       " 0.00515481176642478,\n",
       " 0.005081758632445332,\n",
       " 0.005030012662543224,\n",
       " 0.0050193590805045546,\n",
       " 0.005141114303803634,\n",
       " 0.00512437296060001,\n",
       " 0.005037622363999416,\n",
       " 0.005261347586811475,\n",
       " 0.005229386840695465,\n",
       " 0.005259825646520236,\n",
       " 0.00526591340768519,\n",
       " 0.005270479228558906,\n",
       " 0.005268957288267667,\n",
       " 0.005224821019821751,\n",
       " 0.005208079676618127,\n",
       " 0.0053009180343836755,\n",
       " 0.005313093556713583,\n",
       " 0.005331356840208446,\n",
       " 0.005316137437296061,\n",
       " 0.005401366093605416,\n",
       " 0.005345054302829591,\n",
       " 0.005395278332440462,\n",
       " 0.005316137437296061,\n",
       " 0.005208079676618127,\n",
       " 0.00517459699021088,\n",
       " 0.005042188184873132,\n",
       " 0.005080236692154094,\n",
       " 0.005121329080017533,\n",
       " 0.005142636244094872,\n",
       " 0.005057407587785516,\n",
       " 0.005156333706716019,\n",
       " 0.005077192811571617,\n",
       " 0.005069583110115424,\n",
       " 0.005084802513027809,\n",
       " 0.005153289826133541,\n",
       " 0.004999573856718453,\n",
       " 0.005095456095066479,\n",
       " 0.0052369965421516585,\n",
       " 0.005230908780986704,\n",
       " 0.0052430843033166126,\n",
       " 0.005136548482929919,\n",
       " 0.005107631617396386,\n",
       " 0.005141114303803634,\n",
       " 0.005048275946038085,\n",
       " 0.005130460721764964,\n",
       " 0.005080236692154094,\n",
       " 0.005090890274192764,\n",
       " 0.005156333706716019,\n",
       " 0.005159377587298496,\n",
       " 0.005107631617396386,\n",
       " 0.005081758632445332,\n",
       " 0.005150245945551064,\n",
       " 0.00506349534895047,\n",
       " 0.00506349534895047,\n",
       " 0.005075670871280379,\n",
       " 0.005049797886329324,\n",
       " 0.005106109677105148,\n",
       " 0.005051319826620562,\n",
       " 0.005046754005746846,\n",
       " 0.005004139677592169,\n",
       " 0.005017837140213316,\n",
       " 0.005109153557687625,\n",
       " 0.005206557736326888,\n",
       " 0.00545767788438124,\n",
       " 0.0052948302732187215,\n",
       " 0.0053511420639945455,\n",
       " 0.005459199824672479,\n",
       " 0.005593130570301467,\n",
       " 0.005564213704767934,\n",
       " 0.005354185944577023,\n",
       " 0.005314615497004822,\n",
       " 0.005250694004772806,\n",
       " 0.005354185944577023,\n",
       " 0.005463765645546194,\n",
       " 0.005520077436322018,\n",
       " 0.00548811669020601,\n",
       " 0.005562691764476697,\n",
       " 0.005331356840208446,\n",
       " 0.005316137437296061,\n",
       " 0.005355707884868261,\n",
       " 0.005288742512053767,\n",
       " 0.005275045049432621,\n",
       " 0.005372449228071885,\n",
       " 0.00533592266108216,\n",
       " 0.005345054302829591,\n",
       " 0.005360273705741977,\n",
       " 0.005259825646520236,\n",
       " 0.005302439974674914,\n",
       " 0.005316137437296061,\n",
       " 0.005325269079043491,\n",
       " 0.005259825646520236,\n",
       " 0.005299396094092437,\n",
       " 0.005253737885355282,\n",
       " 0.005270479228558906,\n",
       " 0.005163943408172211,\n",
       " 0.005232430721277943,\n",
       " 0.005200469975161935,\n",
       " 0.005201991915453174,\n",
       " 0.00530700579554863,\n",
       " 0.005311571616422345,\n",
       " 0.005445502362051333,\n",
       " 0.005405931914479131,\n",
       " 0.005530731018360688,\n",
       " 0.00546833146641991,\n",
       " 0.005399844153314178,\n",
       " 0.005399844153314178,\n",
       " 0.00549877027224468,\n",
       " 0.005748368480007792,\n",
       " 0.005722495495056739,\n",
       " 0.005790982808162471,\n",
       " 0.0057407587785516,\n",
       " 0.005762065942628939,\n",
       " 0.005864035942141918,\n",
       " 0.005790982808162471,\n",
       " 0.0058153338528222865,\n",
       " 0.005911216091170311,\n",
       " 0.005903606389714119,\n",
       " 0.005947742658160036,\n",
       " 0.0059827472848585205,\n",
       " 0.006028405493595675,\n",
       " 0.005985791165440998,\n",
       " 0.0059294793746651735,\n",
       " 0.005860992061559441,\n",
       " 0.005842728778064579,\n",
       " 0.005806202211074855,\n",
       " 0.005842728778064579,\n",
       " 0.005874689524180588,\n",
       " 0.005806202211074855,\n",
       " 0.005902084449422881,\n",
       " 0.005835119076608387,\n",
       " 0.005853382360103248,\n",
       " 0.005844250718355818,\n",
       " 0.005886865046510496,\n",
       " 0.006005576389227098,\n",
       " 0.005996444747479668,\n",
       " 0.005857948180976964,\n",
       " 0.005783373106706278,\n",
       " 0.005588564749427751,\n",
       " 0.005570301465932889,\n",
       " 0.0055855208688452744,\n",
       " 0.005497248331953441,\n",
       " 0.005530731018360688,\n",
       " 0.005622047435834997,\n",
       " 0.005643354599912337,\n",
       " 0.005675315346028345,\n",
       " 0.0056403107193298595,\n",
       " 0.005582476988262797,\n",
       " 0.005615959674670044,\n",
       " 0.005594652510592705,\n",
       " 0.00566009594311596,\n",
       " 0.005626613256708713,\n",
       " 0.005614437734378805,\n",
       " 0.005603784152340136,\n",
       " 0.00556877952564165,\n",
       " 0.005597696391175182,\n",
       " 0.005619003555252521,\n",
       " 0.005652486241659768,\n",
       " 0.005708798032435592,\n",
       " 0.005713363853309307,\n",
       " 0.005670749525154629,\n",
       " 0.005727061315930454,\n",
       " 0.0056935786295232065,\n",
       " 0.005657052062533483,\n",
       " 0.005724017435347976,\n",
       " 0.005657052062533483,\n",
       " 0.005666183704280915,\n",
       " 0.005783373106706278,\n",
       " 0.005736192957677884,\n",
       " 0.0058092460916573324,\n",
       " 0.005879255345054304,\n",
       " 0.005880777285345542,\n",
       " 0.0061501607168947545,\n",
       " 0.006080151463497785,\n",
       " 0.0059797034042760435,\n",
       " 0.005956874299907466,\n",
       " 0.006071019821750353,\n",
       " 0.0059827472848585205,\n",
       " 0.0060451468367992995,\n",
       " 0.006052756538255492,\n",
       " 0.005991878926605952,\n",
       " 0.00614559489602104,\n",
       " 0.006133419373691132,\n",
       " 0.006083195344080261,\n",
       " 0.006113634149905032,\n",
       " 0.006063410120294161,\n",
       " 0.006128853552817416,\n",
       " 0.006058844299420445,\n",
       " 0.005999488628062145,\n",
       " 0.00601318609068329,\n",
       " 0.00603449325476063,\n",
       " 0.006077107582915308,\n",
       " 0.006060366239711684,\n",
       " 0.0059842692251497595,\n",
       " 0.005885343106219257,\n",
       " 0.00585186041981201,\n",
       " 0.005806202211074855,\n",
       " 0.005777285345541324,\n",
       " 0.005876211464471826,\n",
       " 0.006086239224662738,\n",
       " 0.005934045195538889,\n",
       " 0.006051234597964253,\n",
       " 0.0060421029562168225,\n",
       " 0.005994922807188429,\n",
       " 0.005970571762528613,\n",
       " 0.005914259971752788,\n",
       " 0.005962962061072421,\n",
       " 0.006032971314469391,\n",
       " 0.006028405493595675,\n",
       " 0.005997966687770906,\n",
       " 0.006121243851361224,\n",
       " 0.006128853552817416,\n",
       " 0.006124287731943701,\n",
       " 0.006112112209613793,\n",
       " 0.006186687283884479,\n",
       " 0.006061888180002923,\n",
       " 0.0059827472848585205,\n",
       " 0.005879255345054304,\n",
       " 0.005991878926605952,\n",
       " 0.0059842692251497595,\n",
       " 0.0060405810159255835,\n",
       " 0.006052756538255492,\n",
       " 0.006130375493108655,\n",
       " 0.0061577704183509475,\n",
       " 0.00613494131398237,\n",
       " 0.006115156090196271,\n",
       " 0.006109068329031316,\n",
       " 0.0060968928067014075,\n",
       " 0.0061547265377684705,\n",
       " 0.006172989821263332,\n",
       " 0.006235389373204111,\n",
       " 0.0062688720596113575,\n",
       " 0.0062719159401938345,\n",
       " 0.006317574148930989,\n",
       " 0.006278003701358789,\n",
       " 0.006376929820289291,\n",
       " 0.006378451760580529,\n",
       " 0.0062749598207763125,\n",
       " 0.006319096089222228,\n",
       " 0.0063267057906784205,\n",
       " 0.006335837432425852,\n",
       " 0.006316052208639751,\n",
       " 0.006255174596990211,\n",
       " 0.006518470267374471,\n",
       " 0.006551952953781718,\n",
       " 0.006472812058637316,\n",
       " 0.006507816685335801,\n",
       " 0.0065580407149466715,\n",
       " 0.00659913310281011,\n",
       " 0.0065062947450445635,\n",
       " 0.006475855939219793,\n",
       " 0.006338881313008329,\n",
       " 0.0063845395217454835,\n",
       " 0.0065017289241708475,\n",
       " 0.0064393293722300685,\n",
       " 0.006401280864949107,\n",
       " 0.006507816685335801,\n",
       " 0.006427153849900161,\n",
       " 0.006402802805240346,\n",
       " 0.006410412506696538,\n",
       " 0.006446939073686262,\n",
       " 0.0063297496712608975,\n",
       " 0.0062749598207763125,\n",
       " 0.006284091462523743,\n",
       " 0.006395193103784153,\n",
       " 0.006311486387766035,\n",
       " 0.006344969074173283,\n",
       " 0.006302354746018604,\n",
       " 0.006244521014951542,\n",
       " 0.006293223104271174,\n",
       " 0.0062079944479618175,\n",
       " 0.006284091462523743,\n",
       " 0.0062749598207763125,\n",
       " 0.006227779671747919,\n",
       " 0.006233867432912872,\n",
       " 0.006189731164466956,\n",
       " 0.0062764817610675505,\n",
       " 0.006291701163979935,\n",
       " 0.006201906686796864,\n",
       " 0.0061608142989334255,\n",
       " 0.006099936687283885,\n",
       " 0.006118199970778747,\n",
       " 0.006136463254273609,\n",
       " 0.006057322359129208,\n",
       " 0.006083195344080261,\n",
       " 0.006144072955729801,\n",
       " 0.005996444747479668,\n",
       " 0.0060847172843715,\n",
       " 0.005959918180489943,\n",
       " 0.00595383041932499,\n",
       " 0.005838162957190864,\n",
       " 0.00595383041932499,\n",
       " 0.005895996688257927,\n",
       " 0.005879255345054304,\n",
       " 0.005981225344567282,\n",
       " 0.0059842692251497595,\n",
       " 0.005958396240198705,\n",
       " 0.006221691910582965,\n",
       " 0.006133419373691132,\n",
       " 0.006221691910582965,\n",
       " 0.006267350119320119,\n",
       " 0.006299310865436128,\n",
       " 0.006174511761554571,\n",
       " 0.006166902060098379,\n",
       " 0.006186687283884479,\n",
       " 0.006169945940680856,\n",
       " 0.006124287731943701,\n",
       " 0.0062719159401938345,\n",
       " ...]"
      ]
     },
     "execution_count": 35,
     "metadata": {},
     "output_type": "execute_result"
    }
   ],
   "source": [
    "temp_input"
   ]
  },
  {
   "cell_type": "code",
   "execution_count": 37,
   "metadata": {
    "colab": {
     "base_uri": "https://localhost:8080/"
    },
    "id": "cizWtT_lLtDV",
    "outputId": "725b9c10-ad64-442e-e96b-3fd2fcbb915b"
   },
   "outputs": [
    {
     "name": "stdout",
     "output_type": "stream",
     "text": [
      "0 day input [0.00269231 0.00275015 0.00275015 ... 0.00547746 0.00539984 0.00537093]\n",
      "0 day output [[0.00054192]]\n",
      "1 day input [0.00275015 0.00275015 0.00282472 ... 0.00539984 0.00537093 0.00054192]\n",
      "1 day output [[0.00054477]]\n",
      "2 day input [0.00275015 0.00282472 0.00278363 ... 0.00537093 0.00054192 0.00054477]\n",
      "2 day output [[0.0005521]]\n",
      "3 day input [0.00282472 0.00278363 0.00273493 ... 0.00054192 0.00054477 0.0005521 ]\n",
      "3 day output [[0.00056054]]\n",
      "4 day input [0.00278363 0.00273493 0.00277145 ... 0.00054477 0.0005521  0.00056054]\n",
      "4 day output [[0.00056676]]\n",
      "5 day input [0.00273493 0.00277145 0.00272732 ... 0.0005521  0.00056054 0.00056676]\n",
      "5 day output [[0.00056831]]\n",
      "6 day input [0.00277145 0.00272732 0.00277754 ... 0.00056054 0.00056676 0.00056831]\n",
      "6 day output [[0.00056389]]\n",
      "7 day input [0.00272732 0.00277754 0.00276993 ... 0.00056676 0.00056831 0.00056389]\n",
      "7 day output [[0.0005532]]\n",
      "8 day input [0.00277754 0.00276993 0.00280494 ... 0.00056831 0.00056389 0.0005532 ]\n",
      "8 day output [[0.00053668]]\n",
      "9 day input [0.00276993 0.00280494 0.00270144 ... 0.00056389 0.0005532  0.00053668]\n",
      "9 day output [[0.00051523]]\n",
      "[[0.0005419168155640364], [0.0005447704461403191], [0.0005520955892279744], [0.0005605424521490932], [0.0005667571676895022], [0.0005683057243004441], [0.0005638866568915546], [0.0005531990900635719], [0.0005366802215576172], [0.0005152273806743324]]\n"
     ]
    }
   ],
   "source": [
    "# demonstrate prediction for next 10 days\n",
    "from numpy import array\n",
    "\n",
    "lst_output=[]\n",
    "n_steps=70801\n",
    "i=0\n",
    "while(i<10):\n",
    "\n",
    "    if(len(temp_input)>1516):\n",
    "        #print(temp_input)\n",
    "        x_input=np.array(temp_input[1:])\n",
    "        print(\"{} day input {}\".format(i,x_input))\n",
    "        x_input=x_input.reshape(1,-1)\n",
    "        x_input = x_input.reshape((1, n_steps, 1))\n",
    "        #print(x_input)\n",
    "        yhat = model.predict(x_input, verbose=0)\n",
    "        print(\"{} day output {}\".format(i,yhat))\n",
    "        temp_input.extend(yhat[0].tolist())\n",
    "        temp_input=temp_input[1:]\n",
    "        #print(temp_input)\n",
    "        lst_output.extend(yhat.tolist())\n",
    "        i=i+1\n",
    "    else:\n",
    "        x_input = x_input.reshape((1, n_steps,1))\n",
    "        yhat = model.predict(x_input, verbose=0)\n",
    "        print(yhat[0])\n",
    "        temp_input.extend(yhat[0].tolist())\n",
    "        print(len(temp_input))\n",
    "        lst_output.extend(yhat.tolist())\n",
    "        i=i+1\n",
    "\n",
    "\n",
    "print(lst_output)"
   ]
  },
  {
   "cell_type": "code",
   "execution_count": 56,
   "metadata": {
    "id": "OArYOnkfLtDW"
   },
   "outputs": [],
   "source": [
    "day_new=np.arange(101,101)\n",
    "day_pred=np.arange(101,131)"
   ]
  },
  {
   "cell_type": "code",
   "execution_count": 57,
   "metadata": {
    "id": "PlFzCIbdLtDW"
   },
   "outputs": [],
   "source": [
    "import matplotlib.pyplot as plt"
   ]
  },
  {
   "cell_type": "code",
   "execution_count": 58,
   "metadata": {
    "colab": {
     "base_uri": "https://localhost:8080/"
    },
    "id": "ecLVnp0cLtDX",
    "outputId": "2c15cd98-c4c3-46b7-8479-7d661d3bdeff"
   },
   "outputs": [
    {
     "data": {
      "text/plain": [
       "235192"
      ]
     },
     "execution_count": 58,
     "metadata": {},
     "output_type": "execute_result"
    }
   ],
   "source": [
    "len(df1)"
   ]
  },
  {
   "cell_type": "code",
   "execution_count": null,
   "metadata": {
    "id": "DED2Z8L5LtDX"
   },
   "outputs": [],
   "source": []
  },
  {
   "cell_type": "code",
   "execution_count": 62,
   "metadata": {
    "colab": {
     "base_uri": "https://localhost:8080/",
     "height": 447
    },
    "id": "Si2qvI8cLtDZ",
    "outputId": "945c9a66-53ec-48f9-bebb-f49ee2c0e3bb"
   },
   "outputs": [
    {
     "data": {
      "text/plain": [
       "[<matplotlib.lines.Line2D at 0x189153052e0>]"
      ]
     },
     "execution_count": 62,
     "metadata": {},
     "output_type": "execute_result"
    },
    {
     "data": {
      "image/png": "[encoded data removed]",
      "text/plain": [
       "<Figure size 640x480 with 1 Axes>"
      ]
     },
     "metadata": {},
     "output_type": "display_data"
    }
   ],
   "source": [
    "df3=df1.tolist()\n",
    "df3.extend(lst_output)\n",
    "plt.plot(df3[10:])"
   ]
  },
  {
   "cell_type": "code",
   "execution_count": 43,
   "metadata": {
    "id": "Xt8zSC41LtDa"
   },
   "outputs": [],
   "source": [
    "df3=scaler.inverse_transform(df3).tolist()"
   ]
  },
  {
   "cell_type": "code",
   "execution_count": 44,
   "metadata": {
    "colab": {
     "base_uri": "https://localhost:8080/",
     "height": 447
    },
    "id": "AfiwCUgnLtDa",
    "outputId": "5d349f78-1b12-42ea-bcc6-da67c915f8c4"
   },
   "outputs": [
    {
     "data": {
      "text/plain": [
       "[<matplotlib.lines.Line2D at 0x1891527a1c0>]"
      ]
     },
     "execution_count": 44,
     "metadata": {},
     "output_type": "execute_result"
    },
    {
     "data": {
      "image/png": "[encoded data removed]",
      "text/plain": [
       "<Figure size 640x480 with 1 Axes>"
      ]
     },
     "metadata": {},
     "output_type": "display_data"
    }
   ],
   "source": [
    "plt.plot(df3)"
   ]
  },
  {
   "cell_type": "code",
   "execution_count": null,
   "metadata": {
    "id": "24vUjmYmLtDb"
   },
   "outputs": [],
   "source": [
    "\n"
   ]
  },
  {
   "cell_type": "code",
   "execution_count": null,
   "metadata": {},
   "outputs": [],
   "source": []
  },
  {
   "cell_type": "code",
   "execution_count": null,
   "metadata": {},
   "outputs": [],
   "source": []
  },
  {
   "cell_type": "code",
   "execution_count": null,
   "metadata": {},
   "outputs": [],
   "source": []
  },
  {
   "cell_type": "code",
   "execution_count": null,
   "metadata": {},
   "outputs": [],
   "source": []
  },
  {
   "cell_type": "code",
   "execution_count": null,
   "metadata": {},
   "outputs": [],
   "source": []
  },
  {
   "cell_type": "code",
   "execution_count": null,
   "metadata": {},
   "outputs": [],
   "source": []
  },
  {
   "cell_type": "code",
   "execution_count": null,
   "metadata": {},
   "outputs": [],
   "source": []
  },
  {
   "cell_type": "code",
   "execution_count": null,
   "metadata": {},
   "outputs": [],
   "source": []
  }
 ],
 "metadata": {
  "colab": {
   "provenance": []
  },
  "kernelspec": {
   "display_name": "Python 3 (ipykernel)",
   "language": "python",
   "name": "python3"
  },
  "language_info": {
   "codemirror_mode": {
    "name": "ipython",
    "version": 3
   },
   "file_extension": ".py",
   "mimetype": "text/x-python",
   "name": "python",
   "nbconvert_exporter": "python",
   "pygments_lexer": "ipython3",
   "version": "3.9.13"
  }
 },
 "nbformat": 4,
 "nbformat_minor": 1
}
