{
 "cells": [
  {
   "cell_type": "code",
   "execution_count": 15,
   "id": "a6cc93f1",
   "metadata": {},
   "outputs": [],
   "source": [
    "import cv2\n",
    "import os\n",
    "import numpy as np\n",
    "from sklearn.model_selection import train_test_split\n",
    "from keras.models import Sequential\n",
    "from keras.layers import Dense, Flatten\n",
    "from keras.utils import to_categorical\n",
    "from PIL import Image"
   ]
  },
  {
   "cell_type": "code",
   "execution_count": 12,
   "id": "d0f2ec0d",
   "metadata": {},
   "outputs": [],
   "source": [
    "# Step 1: Data Collection\n",
    "data_dir = r\"C:\\Users\\Abinashkumar\\Desktop\\Weed\"\n",
    "weed_species = os.listdir(data_dir)\n",
    "images = []\n",
    "labels = []\n",
    "#image.shape"
   ]
  },
  {
   "cell_type": "code",
   "execution_count": 25,
   "id": "e948cea4",
   "metadata": {},
   "outputs": [
    {
     "ename": "AttributeError",
     "evalue": "'str' object has no attribute 'size'",
     "output_type": "error",
     "traceback": [
      "\u001b[1;31m---------------------------------------------------------------------------\u001b[0m",
      "\u001b[1;31mAttributeError\u001b[0m                            Traceback (most recent call last)",
      "\u001b[1;32m~\\AppData\\Local\\Temp\\ipykernel_24816\\3318244225.py\u001b[0m in \u001b[0;36m<module>\u001b[1;34m\u001b[0m\n\u001b[0;32m     15\u001b[0m \u001b[1;31m# Size of the image in pixels (size of original image)\u001b[0m\u001b[1;33m\u001b[0m\u001b[1;33m\u001b[0m\u001b[0m\n\u001b[0;32m     16\u001b[0m \u001b[1;31m# (This is not mandatory)\u001b[0m\u001b[1;33m\u001b[0m\u001b[1;33m\u001b[0m\u001b[0m\n\u001b[1;32m---> 17\u001b[1;33m \u001b[0mwidth\u001b[0m\u001b[1;33m,\u001b[0m \u001b[0mheight\u001b[0m \u001b[1;33m=\u001b[0m \u001b[0mdata_dir\u001b[0m\u001b[1;33m.\u001b[0m\u001b[0msize\u001b[0m\u001b[1;33m\u001b[0m\u001b[1;33m\u001b[0m\u001b[0m\n\u001b[0m\u001b[0;32m     18\u001b[0m \u001b[1;33m\u001b[0m\u001b[0m\n\u001b[0;32m     19\u001b[0m \u001b[1;31m# Setting the points for cropped image\u001b[0m\u001b[1;33m\u001b[0m\u001b[1;33m\u001b[0m\u001b[0m\n",
      "\u001b[1;31mAttributeError\u001b[0m: 'str' object has no attribute 'size'"
     ]
    }
   ],
   "source": [
    "# Load images and assign labels\n",
    "for species_id, species_name in enumerate(weed_species):\n",
    "    species_dir = os.path.join(data_dir, species_name)\n",
    "    for image_name in os.listdir(species_dir):\n",
    "        image_path = os.path.join(species_dir, image_name)\n",
    "        image = cv2.imread(image_path)\n",
    "        \n",
    "        \n",
    "        # Importing Image class from PIL module\n",
    "from PIL import Image\n",
    "\n",
    "# Opens a image in RGB mode\n",
    "\n",
    "\n",
    "# Size of the image in pixels (size of original image)\n",
    "# (This is not mandatory)\n",
    "width, height = data_dir.size\n",
    "\n",
    "# Setting the points for cropped image\n",
    "left = 4\n",
    "top = height / 5\n",
    "right = 154\n",
    "bottom = 3 * height / 5\n",
    "\n",
    "# Cropped image of above dimension\n",
    "# (It will not change original image)\n",
    "im1 = data_dir.crop((left, top, right, bottom))\n",
    "newsize = (300, 300)\n",
    "im1 = im1.resize(newsize)\n",
    "# Shows the image in image viewer\n",
    "im1.show()\n",
    "\n",
    "        \n",
    "        \n",
    "image = image.resize(image, (50, 50))  # Resize the image to a common size\n",
    "images.append(image)\n",
    "labels.append(species_id)"
   ]
  },
  {
   "cell_type": "code",
   "execution_count": 14,
   "id": "1aa177a0",
   "metadata": {},
   "outputs": [
    {
     "ename": "ValueError",
     "evalue": "setting an array element with a sequence. The requested array has an inhomogeneous shape after 1 dimensions. The detected shape was (257,) + inhomogeneous part.",
     "output_type": "error",
     "traceback": [
      "\u001b[1;31m---------------------------------------------------------------------------\u001b[0m",
      "\u001b[1;31mValueError\u001b[0m                                Traceback (most recent call last)",
      "\u001b[1;32m~\\AppData\\Local\\Temp\\ipykernel_24816\\190884069.py\u001b[0m in \u001b[0;36m<module>\u001b[1;34m\u001b[0m\n\u001b[0;32m      1\u001b[0m \u001b[1;31m# Step 2: Data Preprocessing\u001b[0m\u001b[1;33m\u001b[0m\u001b[1;33m\u001b[0m\u001b[0m\n\u001b[1;32m----> 2\u001b[1;33m \u001b[0mimages\u001b[0m \u001b[1;33m=\u001b[0m \u001b[0mnp\u001b[0m\u001b[1;33m.\u001b[0m\u001b[0marray\u001b[0m\u001b[1;33m(\u001b[0m\u001b[0mimages\u001b[0m\u001b[1;33m)\u001b[0m \u001b[1;33m/\u001b[0m \u001b[1;36m255.0\u001b[0m  \u001b[1;31m# Normalize pixel values to range [0, 1]\u001b[0m\u001b[1;33m\u001b[0m\u001b[1;33m\u001b[0m\u001b[0m\n\u001b[0m\u001b[0;32m      3\u001b[0m \u001b[0mlabels\u001b[0m \u001b[1;33m=\u001b[0m \u001b[0mto_categorical\u001b[0m\u001b[1;33m(\u001b[0m\u001b[0mlabels\u001b[0m\u001b[1;33m)\u001b[0m  \u001b[1;31m# One-hot encode the labels\u001b[0m\u001b[1;33m\u001b[0m\u001b[1;33m\u001b[0m\u001b[0m\n",
      "\u001b[1;31mValueError\u001b[0m: setting an array element with a sequence. The requested array has an inhomogeneous shape after 1 dimensions. The detected shape was (257,) + inhomogeneous part."
     ]
    }
   ],
   "source": [
    "# Step 2: Data Preprocessing\n",
    "images = np.array(images) / 255.0  # Normalize pixel values to range [0, 1]\n",
    "labels = to_categorical(labels)  # One-hot encode the labels"
   ]
  },
  {
   "cell_type": "code",
   "execution_count": null,
   "id": "37ac3125",
   "metadata": {},
   "outputs": [],
   "source": [
    "# Step 3: Model Training\n",
    "X_train, X_test, y_train, y_test = train_test_split(images, labels, test_size=0.3)\n",
    "X_train"
   ]
  },
  {
   "cell_type": "code",
   "execution_count": null,
   "id": "4e403b8c",
   "metadata": {},
   "outputs": [],
   "source": [
    "y_train"
   ]
  },
  {
   "cell_type": "code",
   "execution_count": null,
   "id": "1f38fbf0",
   "metadata": {},
   "outputs": [],
   "source": [
    "X_test"
   ]
  },
  {
   "cell_type": "code",
   "execution_count": null,
   "id": "61a18cc6",
   "metadata": {},
   "outputs": [],
   "source": [
    "y_test"
   ]
  },
  {
   "cell_type": "code",
   "execution_count": null,
   "id": "7b4eaf3d",
   "metadata": {},
   "outputs": [],
   "source": [
    "model = Sequential()\n",
    "model.add(Flatten(input_shape=(100, 100, 3)))\n",
    "model.add(Dense(128, activation='relu'))\n",
    "model.add(Dense(len(weed_species), activation='softmax'))"
   ]
  },
  {
   "cell_type": "code",
   "execution_count": 35,
   "id": "911cb386",
   "metadata": {
    "scrolled": false
   },
   "outputs": [
    {
     "name": "stdout",
     "output_type": "stream",
     "text": [
      "Epoch 1/40\n",
      "5/5 [==============================] - 2s 196ms/step - loss: 0.9881 - accuracy: 0.7333 - val_loss: 0.9733 - val_accuracy: 0.5172\n",
      "Epoch 2/40\n",
      "5/5 [==============================] - 1s 114ms/step - loss: 0.7211 - accuracy: 0.7556 - val_loss: 0.8738 - val_accuracy: 0.6724\n",
      "Epoch 3/40\n",
      "5/5 [==============================] - 1s 117ms/step - loss: 0.3094 - accuracy: 0.8593 - val_loss: 1.0962 - val_accuracy: 0.6552\n",
      "Epoch 4/40\n",
      "5/5 [==============================] - 1s 122ms/step - loss: 0.2787 - accuracy: 0.8741 - val_loss: 0.8433 - val_accuracy: 0.6897\n",
      "Epoch 5/40\n",
      "5/5 [==============================] - 1s 133ms/step - loss: 0.1700 - accuracy: 0.9481 - val_loss: 0.8254 - val_accuracy: 0.6552\n",
      "Epoch 6/40\n",
      "5/5 [==============================] - 1s 108ms/step - loss: 0.0850 - accuracy: 0.9852 - val_loss: 0.9160 - val_accuracy: 0.6034\n",
      "Epoch 7/40\n",
      "5/5 [==============================] - 1s 117ms/step - loss: 0.0907 - accuracy: 1.0000 - val_loss: 0.8197 - val_accuracy: 0.6552\n",
      "Epoch 8/40\n",
      "5/5 [==============================] - 1s 133ms/step - loss: 0.0709 - accuracy: 1.0000 - val_loss: 0.6840 - val_accuracy: 0.7069\n",
      "Epoch 9/40\n",
      "5/5 [==============================] - 1s 119ms/step - loss: 0.0595 - accuracy: 1.0000 - val_loss: 0.6946 - val_accuracy: 0.6897\n",
      "Epoch 10/40\n",
      "5/5 [==============================] - 1s 136ms/step - loss: 0.0568 - accuracy: 1.0000 - val_loss: 0.7534 - val_accuracy: 0.6552\n",
      "Epoch 11/40\n",
      "5/5 [==============================] - 1s 117ms/step - loss: 0.0536 - accuracy: 1.0000 - val_loss: 0.7001 - val_accuracy: 0.7069\n",
      "Epoch 12/40\n",
      "5/5 [==============================] - 1s 115ms/step - loss: 0.0486 - accuracy: 1.0000 - val_loss: 0.6814 - val_accuracy: 0.6724\n",
      "Epoch 13/40\n",
      "5/5 [==============================] - 1s 137ms/step - loss: 0.0475 - accuracy: 1.0000 - val_loss: 0.7078 - val_accuracy: 0.6724\n",
      "Epoch 14/40\n",
      "5/5 [==============================] - 1s 113ms/step - loss: 0.0443 - accuracy: 1.0000 - val_loss: 0.6947 - val_accuracy: 0.7069\n",
      "Epoch 15/40\n",
      "5/5 [==============================] - 1s 107ms/step - loss: 0.0444 - accuracy: 1.0000 - val_loss: 0.6828 - val_accuracy: 0.6724\n",
      "Epoch 16/40\n",
      "5/5 [==============================] - 1s 118ms/step - loss: 0.0411 - accuracy: 1.0000 - val_loss: 0.6782 - val_accuracy: 0.7069\n",
      "Epoch 17/40\n",
      "5/5 [==============================] - 1s 117ms/step - loss: 0.0375 - accuracy: 1.0000 - val_loss: 0.6790 - val_accuracy: 0.7069\n",
      "Epoch 18/40\n",
      "5/5 [==============================] - 1s 128ms/step - loss: 0.0375 - accuracy: 1.0000 - val_loss: 0.6766 - val_accuracy: 0.7069\n",
      "Epoch 19/40\n",
      "5/5 [==============================] - 1s 120ms/step - loss: 0.0356 - accuracy: 1.0000 - val_loss: 0.6797 - val_accuracy: 0.7069\n",
      "Epoch 20/40\n",
      "5/5 [==============================] - 1s 140ms/step - loss: 0.0354 - accuracy: 1.0000 - val_loss: 0.6964 - val_accuracy: 0.6552\n",
      "Epoch 21/40\n",
      "5/5 [==============================] - 1s 126ms/step - loss: 0.0353 - accuracy: 1.0000 - val_loss: 0.6804 - val_accuracy: 0.7069\n",
      "Epoch 22/40\n",
      "5/5 [==============================] - 1s 114ms/step - loss: 0.0404 - accuracy: 1.0000 - val_loss: 0.6971 - val_accuracy: 0.6552\n",
      "Epoch 23/40\n",
      "5/5 [==============================] - 1s 108ms/step - loss: 0.0418 - accuracy: 1.0000 - val_loss: 0.7345 - val_accuracy: 0.6724\n",
      "Epoch 24/40\n",
      "5/5 [==============================] - 1s 113ms/step - loss: 0.0343 - accuracy: 1.0000 - val_loss: 0.6948 - val_accuracy: 0.7241\n",
      "Epoch 25/40\n",
      "5/5 [==============================] - 1s 117ms/step - loss: 0.0357 - accuracy: 1.0000 - val_loss: 0.7141 - val_accuracy: 0.6724\n",
      "Epoch 26/40\n",
      "5/5 [==============================] - 1s 117ms/step - loss: 0.0309 - accuracy: 1.0000 - val_loss: 0.6834 - val_accuracy: 0.7069\n",
      "Epoch 27/40\n",
      "5/5 [==============================] - 1s 136ms/step - loss: 0.0295 - accuracy: 1.0000 - val_loss: 0.6992 - val_accuracy: 0.6207\n",
      "Epoch 28/40\n",
      "5/5 [==============================] - 1s 147ms/step - loss: 0.0290 - accuracy: 1.0000 - val_loss: 0.7125 - val_accuracy: 0.6552\n",
      "Epoch 29/40\n",
      "5/5 [==============================] - 1s 119ms/step - loss: 0.0276 - accuracy: 1.0000 - val_loss: 0.6843 - val_accuracy: 0.7241\n",
      "Epoch 30/40\n",
      "5/5 [==============================] - 1s 109ms/step - loss: 0.0276 - accuracy: 1.0000 - val_loss: 0.6900 - val_accuracy: 0.6379\n",
      "Epoch 31/40\n",
      "5/5 [==============================] - 1s 119ms/step - loss: 0.0271 - accuracy: 1.0000 - val_loss: 0.7020 - val_accuracy: 0.6724\n",
      "Epoch 32/40\n",
      "5/5 [==============================] - 1s 120ms/step - loss: 0.0255 - accuracy: 1.0000 - val_loss: 0.6773 - val_accuracy: 0.7241\n",
      "Epoch 33/40\n",
      "5/5 [==============================] - 1s 110ms/step - loss: 0.0258 - accuracy: 1.0000 - val_loss: 0.6994 - val_accuracy: 0.6207\n",
      "Epoch 34/40\n",
      "5/5 [==============================] - 1s 120ms/step - loss: 0.0245 - accuracy: 1.0000 - val_loss: 0.7143 - val_accuracy: 0.6897\n",
      "Epoch 35/40\n",
      "5/5 [==============================] - 1s 115ms/step - loss: 0.0246 - accuracy: 1.0000 - val_loss: 0.6946 - val_accuracy: 0.6897\n",
      "Epoch 36/40\n",
      "5/5 [==============================] - 1s 118ms/step - loss: 0.0230 - accuracy: 1.0000 - val_loss: 0.6957 - val_accuracy: 0.6379\n",
      "Epoch 37/40\n",
      "5/5 [==============================] - 1s 118ms/step - loss: 0.0227 - accuracy: 1.0000 - val_loss: 0.6873 - val_accuracy: 0.7241\n",
      "Epoch 38/40\n",
      "5/5 [==============================] - 1s 146ms/step - loss: 0.0229 - accuracy: 1.0000 - val_loss: 0.6851 - val_accuracy: 0.7069\n",
      "Epoch 39/40\n",
      "5/5 [==============================] - 1s 125ms/step - loss: 0.0220 - accuracy: 1.0000 - val_loss: 0.7157 - val_accuracy: 0.6552\n",
      "Epoch 40/40\n",
      "5/5 [==============================] - 1s 138ms/step - loss: 0.0216 - accuracy: 1.0000 - val_loss: 0.7072 - val_accuracy: 0.6897\n"
     ]
    },
    {
     "data": {
      "text/plain": [
       "<keras.src.callbacks.History at 0x1d83d1d2460>"
      ]
     },
     "execution_count": 35,
     "metadata": {},
     "output_type": "execute_result"
    }
   ],
   "source": [
    "model.compile(optimizer='adam', loss='categorical_crossentropy', metrics=['accuracy'])\n",
    "model.fit(X_train, y_train, epochs=40, batch_size=32, validation_data=(X_test, y_test))\n"
   ]
  },
  {
   "cell_type": "code",
   "execution_count": 34,
   "id": "2a5be6a7",
   "metadata": {},
   "outputs": [
    {
     "name": "stdout",
     "output_type": "stream",
     "text": [
      "2/2 [==============================] - 0s 29ms/step - loss: 0.6595 - accuracy: 0.7069\n",
      "Test accuracy: 0.7068965435028076\n"
     ]
    }
   ],
   "source": [
    "\n",
    "# Step 5: Model Evaluation\n",
    "loss, accuracy = model.evaluate(X_test, y_test)\n",
    "print(f\"Test accuracy: {accuracy}\")\n"
   ]
  },
  {
   "cell_type": "code",
   "execution_count": null,
   "id": "3aeefaff",
   "metadata": {},
   "outputs": [],
   "source": [
    "# model save file \n",
    "\n",
    "model.save(r\"C:\\Users\\Abinashkumar\\Desktop\\Student Projects\")"
   ]
  },
  {
   "cell_type": "code",
   "execution_count": null,
   "id": "c35842e5",
   "metadata": {},
   "outputs": [],
   "source": []
  },
  {
   "cell_type": "code",
   "execution_count": null,
   "id": "f1c66113",
   "metadata": {},
   "outputs": [],
   "source": []
  },
  {
   "cell_type": "code",
   "execution_count": null,
   "id": "13288ce0",
   "metadata": {},
   "outputs": [],
   "source": []
  },
  {
   "cell_type": "code",
   "execution_count": null,
   "id": "f4cbd69a",
   "metadata": {},
   "outputs": [],
   "source": []
  },
  {
   "cell_type": "code",
   "execution_count": null,
   "id": "787044b6",
   "metadata": {},
   "outputs": [],
   "source": []
  },
  {
   "cell_type": "code",
   "execution_count": null,
   "id": "0e0b809b",
   "metadata": {},
   "outputs": [],
   "source": []
  },
  {
   "cell_type": "code",
   "execution_count": null,
   "id": "591e7bdf",
   "metadata": {},
   "outputs": [],
   "source": [
    "import cv2\n",
    "import numpy as np\n",
    "from keras.models import load_model\n",
    "\n",
    "# Load the trained model\n",
    "model = load_model(r\"C:\\Users\\Abinashkumar\\Desktop\\Student Projects\")\n",
    "\n",
    "# Load the list of weed species names (optional but useful for displaying predictions)\n",
    "weed_species = ['weed_species_1', 'weed_species_2', 'weed_species_3']\n",
    "\n",
    "# Function to preprocess the frame for model input\n",
    "def preprocess_frame(frame):\n",
    "    frame = cv2.resize(frame, (100, 100))  # Resize to the input size used during training\n",
    "    frame = frame.astype(np.float32) / 255.0  # Normalize pixel values to [0, 1]\n",
    "    frame = np.expand_dims(frame, axis=0)  # Add batch dimension\n",
    "    return frame\n",
    "\n",
    "# Function to classify the frame using the model\n",
    "def classify_frame(frame):\n",
    "    preprocessed_frame = preprocess_frame(frame)\n",
    "    predictions = model.predict(preprocessed_frame)\n",
    "    predicted_class_id = np.argmax(predictions)\n",
    "    predicted_class = weed_species[predicted_class_id]\n",
    "    return predicted_class\n",
    "\n",
    "# Open the webcam\n",
    "cap = cv2.VideoCapture(0)  # Use 0 for the default camera, or specify the index for a specific camera\n",
    "\n",
    "while True:\n",
    "    ret, frame = cap.read()\n",
    "\n",
    "    if not ret:\n",
    "        break\n",
    "\n",
    "    # Perform weed classification on the frame\n",
    "    predicted_species = classify_frame(frame)\n",
    "\n",
    "    # Display the result on the frame\n",
    "    cv2.putText(frame, predicted_species, (10, 30), cv2.FONT_HERSHEY_SIMPLEX, 1, (0, 255, 0), 2)\n",
    "    cv2.imshow(\"Weed Classification\", frame)\n",
    "\n",
    "    # Exit the loop if 'q' is pressed\n",
    "    if cv2.waitKey(1) & 0xFF == ord('s'):\n",
    "        break\n",
    "\n",
    "# Release the webcam and close the window\n",
    "cap.release()\n",
    "cv2.destroyAllWindows()\n",
    "\n"
   ]
  },
  {
   "cell_type": "code",
   "execution_count": null,
   "id": "b82bb241",
   "metadata": {},
   "outputs": [],
   "source": []
  }
 ],
 "metadata": {
  "kernelspec": {
   "display_name": "Python 3 (ipykernel)",
   "language": "python",
   "name": "python3"
  },
  "language_info": {
   "codemirror_mode": {
    "name": "ipython",
    "version": 3
   },
   "file_extension": ".py",
   "mimetype": "text/x-python",
   "name": "python",
   "nbconvert_exporter": "python",
   "pygments_lexer": "ipython3",
   "version": "3.9.13"
  }
 },
 "nbformat": 4,
 "nbformat_minor": 5
}
