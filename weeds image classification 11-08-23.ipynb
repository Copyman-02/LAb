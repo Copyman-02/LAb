{
 "cells": [
  {
   "cell_type": "code",
   "execution_count": 2,
   "id": "994340ae",
   "metadata": {},
   "outputs": [],
   "source": [
    "import os\n",
    "import cv2 as cv\n",
    "import matplotlib.pyplot as plt"
   ]
  },
  {
   "cell_type": "code",
   "execution_count": 14,
   "id": "6c61d907",
   "metadata": {},
   "outputs": [],
   "source": [
    "path = r\"C:\\Users\\Abinashkumar\\Desktop\\Student Projects\\CELOSIA ARGENTEA L\""
   ]
  },
  {
   "cell_type": "code",
   "execution_count": 15,
   "id": "cbffdaae",
   "metadata": {},
   "outputs": [
    {
     "data": {
      "text/plain": [
       "list"
      ]
     },
     "execution_count": 15,
     "metadata": {},
     "output_type": "execute_result"
    }
   ],
   "source": [
    "images = os.listdir(path)\n",
    "type(images)"
   ]
  },
  {
   "cell_type": "code",
   "execution_count": 16,
   "id": "1e5e0d0c",
   "metadata": {},
   "outputs": [
    {
     "data": {
      "text/plain": [
       "['00ab26d4-71a6-4185-970f-e03166ad10ae.jpeg',\n",
       " '02c1e6be-7874-4522-8f0e-f31721338e4b.jpeg',\n",
       " '05b2dc2d-457e-45e5-8673-978b103c206e (1).jpeg',\n",
       " '05b2dc2d-457e-45e5-8673-978b103c206e.jpeg',\n",
       " '0a972387-eec9-4fc8-8665-0658a2332af7.jpeg',\n",
       " '0cb3e491-1cd9-4328-850b-cdea2d399b13.jpeg',\n",
       " '15414227-4fdc-4415-887e-54653f2150ed.jpeg',\n",
       " '1cffda84-d376-48da-b8a3-e0caca6c16b6.jpeg',\n",
       " '1fb852ef-7c1d-4f2a-9331-812a14060f34.jpeg',\n",
       " '23988564-b739-4e67-87ad-38d9394847c3.jpeg',\n",
       " '2a46ffe4-0700-4af2-a1ad-eaccd90efa63.jpeg',\n",
       " '338a9356-339c-4c73-ac4e-9a483989577e.jpeg',\n",
       " '3b955a9c-1adc-4cb9-a2ec-553dfed2b5e0.jpeg',\n",
       " '3d00c0c0-f3ae-44ce-921a-818a54574046.jpeg',\n",
       " '3d5e4c59-73eb-4ec0-95f8-4590f9ff2117.jpeg',\n",
       " '3f0961a7-4364-42bd-9025-b0a6d3fb0923.jpeg',\n",
       " '4231fcf3-5ab6-4e52-8b64-9666619bc9ad.jpeg',\n",
       " '43482207-db7f-4d88-bbf3-ce73c2d8680b (1).jpeg',\n",
       " '43482207-db7f-4d88-bbf3-ce73c2d8680b.jpeg',\n",
       " '434a17ff-0b5b-4196-a956-e67dae6d08bb.jpeg',\n",
       " '4781db71-8d0e-4777-ba19-6dce8fc3a159.jpeg',\n",
       " '510b366b-de0c-48a4-8fad-df0f2fe0712a.jpeg',\n",
       " '607b2a48-0ed3-405e-a7e1-8df4c0d37c6f.jpeg',\n",
       " '60daf254-d604-42b1-9f41-3d63ee868664 (1).jpeg',\n",
       " '60daf254-d604-42b1-9f41-3d63ee868664.jpeg',\n",
       " '63ce7940-3889-4cdb-ba67-54d20538c9ba.jpeg',\n",
       " '6504e7f0-a611-4eb7-bcfb-10c187f6cfc1 (1).jpeg',\n",
       " '6504e7f0-a611-4eb7-bcfb-10c187f6cfc1.jpeg',\n",
       " '66c7c19d-f970-4d6b-8f0c-71d0e434e78c.jpeg',\n",
       " '67257790-5375-401f-829f-4d33bd886d5c.jpeg',\n",
       " '6e754f92-c81b-43b5-8d58-c3573435b8ac.jpeg',\n",
       " '7240b058-4a61-4f0b-924e-93ae525701a5.jpeg',\n",
       " '7a7e4f93-5ba7-42db-97ef-c7323b418fb8.jpeg',\n",
       " '7ed81c5a-f288-4b2c-8926-496cec969d87.jpeg',\n",
       " '8708cd32-d8aa-47fc-b9d4-65106f73833f.jpeg',\n",
       " '92c775a9-c20e-44a4-8492-a2a284195aaf.jpeg',\n",
       " '9333d48a-6a2c-47cd-97b4-5e51734e5cf8.jpeg',\n",
       " '9509a98f-a9cd-4364-9455-b54f9fc341c6.jpeg',\n",
       " '9b14a11d-f59c-490d-a3d8-96bb24c4a337.jpeg',\n",
       " '9d132792-89f2-42f9-b2fd-a228e54c5a85.jpeg',\n",
       " 'a4b64121-2055-4a8e-9466-e2e6e121cbfe.jpeg',\n",
       " 'a7cb052b-90d3-48a8-a31c-9f178e17e45d.jpeg',\n",
       " 'a9e5a499-b617-445d-be3d-93eb2b2cf7d4.jpeg',\n",
       " 'add28c3c-0356-4039-a157-74bd95993b91.jpeg',\n",
       " 'af4ea350-94bb-49cb-b45d-cc49cd2c1a34.jpeg',\n",
       " 'b026dedf-fc04-435a-8f93-43a14888b5c0.jpeg',\n",
       " 'b91be9ef-1124-4a0e-84ba-5a169fae426a.jpeg',\n",
       " 'ba0ab72f-54d0-47da-8a2e-440cda1c8906.jpeg',\n",
       " 'bb0383ef-3430-411f-bc73-0d9704fd6ed9.jpeg',\n",
       " 'bdc810c8-8399-4dcd-ac08-a8221e3a90eb.jpeg',\n",
       " 'cc77e56e-87b1-46d6-becf-88fe4ba8a61d.jpeg',\n",
       " 'd959381c-58ae-41a3-8168-546770656226.jpeg',\n",
       " 'e21a9b1a-1c02-4011-b701-e04178ab1328.jpeg',\n",
       " 'e7465b31-a2e4-4f5d-af64-ac9f6af51b95.jpeg',\n",
       " 'e7f862ce-c848-4b24-8bdf-00ea737afa0e (1).jpeg',\n",
       " 'e7f862ce-c848-4b24-8bdf-00ea737afa0e.jpeg',\n",
       " 'e7f9e9b3-888b-4f26-969c-7d92f3eb8a25.jpeg',\n",
       " 'eab313df-e7fc-4000-9c02-d9a35e590a97.jpeg',\n",
       " 'f1f4cf54-0606-49f2-893f-d098d6c4f635.jpeg',\n",
       " 'f7a403f2-e5bf-47e6-b7fd-853679009b1d.jpeg']"
      ]
     },
     "execution_count": 16,
     "metadata": {},
     "output_type": "execute_result"
    }
   ],
   "source": [
    "images"
   ]
  },
  {
   "cell_type": "code",
   "execution_count": 17,
   "id": "842be619",
   "metadata": {},
   "outputs": [
    {
     "data": {
      "text/plain": [
       "60"
      ]
     },
     "execution_count": 17,
     "metadata": {},
     "output_type": "execute_result"
    }
   ],
   "source": [
    "len(images)"
   ]
  },
  {
   "cell_type": "code",
   "execution_count": 19,
   "id": "128667e4",
   "metadata": {},
   "outputs": [
    {
     "ename": "SyntaxError",
     "evalue": "(unicode error) 'unicodeescape' codec can't decode bytes in position 2-3: truncated \\UXXXXXXXX escape (1662316657.py, line 2)",
     "output_type": "error",
     "traceback": [
      "\u001b[1;36m  File \u001b[1;32m\"C:\\Users\\Abinashkumar\\AppData\\Local\\Temp\\ipykernel_9664\\1662316657.py\"\u001b[1;36m, line \u001b[1;32m2\u001b[0m\n\u001b[1;33m    cv.imread(\"C:\\Users\\Abinashkumar\\Desktop\\Student Projects\\CELOSIA ARGENTEA L\")\u001b[0m\n\u001b[1;37m                                                                                 ^\u001b[0m\n\u001b[1;31mSyntaxError\u001b[0m\u001b[1;31m:\u001b[0m (unicode error) 'unicodeescape' codec can't decode bytes in position 2-3: truncated \\UXXXXXXXX escape\n"
     ]
    }
   ],
   "source": [
    "for img in images:\n",
    "    cv.imread(\"C:\\Users\\Abinashkumar\\Desktop\\Student Projects\\CELOSIA ARGENTEA L\")"
   ]
  },
  {
   "cell_type": "code",
   "execution_count": null,
   "id": "72e3ae6e",
   "metadata": {},
   "outputs": [],
   "source": []
  }
 ],
 "metadata": {
  "kernelspec": {
   "display_name": "Python 3 (ipykernel)",
   "language": "python",
   "name": "python3"
  },
  "language_info": {
   "codemirror_mode": {
    "name": "ipython",
    "version": 3
   },
   "file_extension": ".py",
   "mimetype": "text/x-python",
   "name": "python",
   "nbconvert_exporter": "python",
   "pygments_lexer": "ipython3",
   "version": "3.9.13"
  }
 },
 "nbformat": 4,
 "nbformat_minor": 5
}
