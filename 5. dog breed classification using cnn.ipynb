{
 "cells": [
  {
   "cell_type": "code",
   "execution_count": 1,
   "id": "51d12a73",
   "metadata": {
    "execution": {
     "iopub.execute_input": "2021-10-05T16:43:21.435897Z",
     "iopub.status.busy": "2021-10-05T16:43:21.433456Z",
     "iopub.status.idle": "2021-10-05T16:43:28.240763Z",
     "shell.execute_reply": "2021-10-05T16:43:28.239940Z",
     "shell.execute_reply.started": "2021-10-05T15:37:46.233861Z"
    },
    "papermill": {
     "duration": 6.839247,
     "end_time": "2021-10-05T16:43:28.240947",
     "exception": false,
     "start_time": "2021-10-05T16:43:21.401700",
     "status": "completed"
    },
    "tags": []
   },
   "outputs": [
    {
     "name": "stderr",
     "output_type": "stream",
     "text": [
      "2021-10-05 16:43:22.080040: W tensorflow/stream_executor/platform/default/dso_loader.cc:60] Could not load dynamic library 'libcudart.so.11.0'; dlerror: libcudart.so.11.0: cannot open shared object file: No such file or directory; LD_LIBRARY_PATH: /opt/conda/lib\n",
      "2021-10-05 16:43:22.080147: I tensorflow/stream_executor/cuda/cudart_stub.cc:29] Ignore above cudart dlerror if you do not have a GPU set up on your machine.\n"
     ]
    }
   ],
   "source": [
    "# Important library imports\n",
    "import numpy as np \n",
    "import pandas as pd \n",
    "import matplotlib.pyplot as plt\n",
    "\n",
    "from tqdm import tqdm\n",
    "from tensorflow.keras.preprocessing import image\n",
    "from sklearn.preprocessing import label_binarize\n",
    "from sklearn.model_selection import train_test_split\n",
    "from tensorflow.keras.models import Sequential\n",
    "from tensorflow.keras.layers import Dense, Dropout, Flatten, Conv2D, MaxPool2D\n",
    "from tensorflow.keras.optimizers import Adam"
   ]
  },
  {
   "cell_type": "markdown",
   "id": "3975229e",
   "metadata": {
    "papermill": {
     "duration": 0.017541,
     "end_time": "2021-10-05T16:43:28.275978",
     "exception": false,
     "start_time": "2021-10-05T16:43:28.258437",
     "status": "completed"
    },
    "tags": []
   },
   "source": [
    "Importing required libraries."
   ]
  },
  {
   "cell_type": "code",
   "execution_count": 2,
   "id": "34cfa76c",
   "metadata": {
    "execution": {
     "iopub.execute_input": "2021-10-05T16:43:28.316318Z",
     "iopub.status.busy": "2021-10-05T16:43:28.315532Z",
     "iopub.status.idle": "2021-10-05T16:43:28.368136Z",
     "shell.execute_reply": "2021-10-05T16:43:28.367565Z",
     "shell.execute_reply.started": "2021-10-05T15:38:16.110737Z"
    },
    "papermill": {
     "duration": 0.074716,
     "end_time": "2021-10-05T16:43:28.368291",
     "exception": false,
     "start_time": "2021-10-05T16:43:28.293575",
     "status": "completed"
    },
    "tags": []
   },
   "outputs": [
    {
     "name": "stdout",
     "output_type": "stream",
     "text": [
      "(10222, 2)\n"
     ]
    },
    {
     "data": {
      "text/html": [
       "<div>\n",
       "<style scoped>\n",
       "    .dataframe tbody tr th:only-of-type {\n",
       "        vertical-align: middle;\n",
       "    }\n",
       "\n",
       "    .dataframe tbody tr th {\n",
       "        vertical-align: top;\n",
       "    }\n",
       "\n",
       "    .dataframe thead th {\n",
       "        text-align: right;\n",
       "    }\n",
       "</style>\n",
       "<table border=\"1\" class=\"dataframe\">\n",
       "  <thead>\n",
       "    <tr style=\"text-align: right;\">\n",
       "      <th></th>\n",
       "      <th>id</th>\n",
       "      <th>breed</th>\n",
       "    </tr>\n",
       "  </thead>\n",
       "  <tbody>\n",
       "    <tr>\n",
       "      <th>0</th>\n",
       "      <td>000bec180eb18c7604dcecc8fe0dba07</td>\n",
       "      <td>boston_bull</td>\n",
       "    </tr>\n",
       "    <tr>\n",
       "      <th>1</th>\n",
       "      <td>001513dfcb2ffafc82cccf4d8bbaba97</td>\n",
       "      <td>dingo</td>\n",
       "    </tr>\n",
       "    <tr>\n",
       "      <th>2</th>\n",
       "      <td>001cdf01b096e06d78e9e5112d419397</td>\n",
       "      <td>pekinese</td>\n",
       "    </tr>\n",
       "    <tr>\n",
       "      <th>3</th>\n",
       "      <td>00214f311d5d2247d5dfe4fe24b2303d</td>\n",
       "      <td>bluetick</td>\n",
       "    </tr>\n",
       "    <tr>\n",
       "      <th>4</th>\n",
       "      <td>0021f9ceb3235effd7fcde7f7538ed62</td>\n",
       "      <td>golden_retriever</td>\n",
       "    </tr>\n",
       "  </tbody>\n",
       "</table>\n",
       "</div>"
      ],
      "text/plain": [
       "                                 id             breed\n",
       "0  000bec180eb18c7604dcecc8fe0dba07       boston_bull\n",
       "1  001513dfcb2ffafc82cccf4d8bbaba97             dingo\n",
       "2  001cdf01b096e06d78e9e5112d419397          pekinese\n",
       "3  00214f311d5d2247d5dfe4fe24b2303d          bluetick\n",
       "4  0021f9ceb3235effd7fcde7f7538ed62  golden_retriever"
      ]
     },
     "execution_count": 2,
     "metadata": {},
     "output_type": "execute_result"
    }
   ],
   "source": [
    "# Read the labels.csv file and checking shape and records\n",
    "labels_all = pd.read_csv(r\"C:\\Users\\MMM\\Downloads\\deep learning - Copy\\dog breed dataset\\dog breeds image dataset\")\n",
    "print(labels_all.shape)\n",
    "labels_all.head()"
   ]
  },
  {
   "cell_type": "markdown",
   "id": "3ba91642",
   "metadata": {
    "papermill": {
     "duration": 0.01776,
     "end_time": "2021-10-05T16:43:28.404024",
     "exception": false,
     "start_time": "2021-10-05T16:43:28.386264",
     "status": "completed"
    },
    "tags": []
   },
   "source": [
    "Loading the labels data into dataframe and viewing it. Here we analysed that labels contains 10222 rows and 2 columns.  "
   ]
  },
  {
   "cell_type": "code",
   "execution_count": 3,
   "id": "a78f4d89",
   "metadata": {
    "execution": {
     "iopub.execute_input": "2021-10-05T16:43:28.452576Z",
     "iopub.status.busy": "2021-10-05T16:43:28.451850Z",
     "iopub.status.idle": "2021-10-05T16:43:28.458676Z",
     "shell.execute_reply": "2021-10-05T16:43:28.457994Z",
     "shell.execute_reply.started": "2021-10-05T15:38:48.262017Z"
    },
    "papermill": {
     "duration": 0.036813,
     "end_time": "2021-10-05T16:43:28.458834",
     "exception": false,
     "start_time": "2021-10-05T16:43:28.422021",
     "status": "completed"
    },
    "tags": []
   },
   "outputs": [
    {
     "data": {
      "text/plain": [
       "scottish_deerhound      126\n",
       "maltese_dog             117\n",
       "afghan_hound            116\n",
       "entlebucher             115\n",
       "bernese_mountain_dog    114\n",
       "Name: breed, dtype: int64"
      ]
     },
     "execution_count": 3,
     "metadata": {},
     "output_type": "execute_result"
    }
   ],
   "source": [
    "# Visualize the number of each breeds\n",
    "breeds_all = labels_all[\"breed\"]\n",
    "breed_counts = breeds_all.value_counts()\n",
    "breed_counts.head()"
   ]
  },
  {
   "cell_type": "markdown",
   "id": "71e4e6a9",
   "metadata": {
    "papermill": {
     "duration": 0.017695,
     "end_time": "2021-10-05T16:43:28.495792",
     "exception": false,
     "start_time": "2021-10-05T16:43:28.478097",
     "status": "completed"
    },
    "tags": []
   },
   "source": [
    "Here we are finding out the count per class i.e. total data in each class using value_counts() function."
   ]
  },
  {
   "cell_type": "code",
   "execution_count": 4,
   "id": "4fdff873",
   "metadata": {
    "execution": {
     "iopub.execute_input": "2021-10-05T16:43:28.535189Z",
     "iopub.status.busy": "2021-10-05T16:43:28.534492Z",
     "iopub.status.idle": "2021-10-05T16:43:28.550563Z",
     "shell.execute_reply": "2021-10-05T16:43:28.549718Z",
     "shell.execute_reply.started": "2021-10-05T15:39:16.188118Z"
    },
    "papermill": {
     "duration": 0.037056,
     "end_time": "2021-10-05T16:43:28.550819",
     "exception": false,
     "start_time": "2021-10-05T16:43:28.513763",
     "status": "completed"
    },
    "tags": []
   },
   "outputs": [
    {
     "data": {
      "text/html": [
       "<div>\n",
       "<style scoped>\n",
       "    .dataframe tbody tr th:only-of-type {\n",
       "        vertical-align: middle;\n",
       "    }\n",
       "\n",
       "    .dataframe tbody tr th {\n",
       "        vertical-align: top;\n",
       "    }\n",
       "\n",
       "    .dataframe thead th {\n",
       "        text-align: right;\n",
       "    }\n",
       "</style>\n",
       "<table border=\"1\" class=\"dataframe\">\n",
       "  <thead>\n",
       "    <tr style=\"text-align: right;\">\n",
       "      <th></th>\n",
       "      <th>index</th>\n",
       "      <th>id</th>\n",
       "      <th>breed</th>\n",
       "    </tr>\n",
       "  </thead>\n",
       "  <tbody>\n",
       "    <tr>\n",
       "      <th>0</th>\n",
       "      <td>9</td>\n",
       "      <td>0042188c895a2f14ef64a918ed9c7b64</td>\n",
       "      <td>scottish_deerhound</td>\n",
       "    </tr>\n",
       "    <tr>\n",
       "      <th>1</th>\n",
       "      <td>12</td>\n",
       "      <td>00693b8bc2470375cc744a6391d397ec</td>\n",
       "      <td>maltese_dog</td>\n",
       "    </tr>\n",
       "    <tr>\n",
       "      <th>2</th>\n",
       "      <td>79</td>\n",
       "      <td>01e787576c003930f96c966f9c3e1d44</td>\n",
       "      <td>scottish_deerhound</td>\n",
       "    </tr>\n",
       "    <tr>\n",
       "      <th>3</th>\n",
       "      <td>90</td>\n",
       "      <td>022b34fd8734b39995a9f38a4f3e7b6b</td>\n",
       "      <td>maltese_dog</td>\n",
       "    </tr>\n",
       "    <tr>\n",
       "      <th>4</th>\n",
       "      <td>118</td>\n",
       "      <td>02d54f0dfb40038765e838459ae8c956</td>\n",
       "      <td>bernese_mountain_dog</td>\n",
       "    </tr>\n",
       "  </tbody>\n",
       "</table>\n",
       "</div>"
      ],
      "text/plain": [
       "   index                                id                 breed\n",
       "0      9  0042188c895a2f14ef64a918ed9c7b64    scottish_deerhound\n",
       "1     12  00693b8bc2470375cc744a6391d397ec           maltese_dog\n",
       "2     79  01e787576c003930f96c966f9c3e1d44    scottish_deerhound\n",
       "3     90  022b34fd8734b39995a9f38a4f3e7b6b           maltese_dog\n",
       "4    118  02d54f0dfb40038765e838459ae8c956  bernese_mountain_dog"
      ]
     },
     "execution_count": 4,
     "metadata": {},
     "output_type": "execute_result"
    }
   ],
   "source": [
    "# Selecting first 3 breeds (Limitation due to computation power)\n",
    "CLASS_NAMES = ['scottish_deerhound','maltese_dog','bernese_mountain_dog']\n",
    "labels = labels_all[(labels_all['breed'].isin(CLASS_NAMES))]\n",
    "labels = labels.reset_index()\n",
    "labels.head()"
   ]
  },
  {
   "cell_type": "markdown",
   "id": "5dd8be91",
   "metadata": {
    "papermill": {
     "duration": 0.018613,
     "end_time": "2021-10-05T16:43:28.588333",
     "exception": false,
     "start_time": "2021-10-05T16:43:28.569720",
     "status": "completed"
    },
    "tags": []
   },
   "source": [
    "We will work on only 3 breeds due to limited computational power. You can consider more classes as per your system computational power."
   ]
  },
  {
   "cell_type": "code",
   "execution_count": 5,
   "id": "d942bd8f",
   "metadata": {
    "execution": {
     "iopub.execute_input": "2021-10-05T16:43:28.638226Z",
     "iopub.status.busy": "2021-10-05T16:43:28.629186Z",
     "iopub.status.idle": "2021-10-05T16:43:31.822078Z",
     "shell.execute_reply": "2021-10-05T16:43:31.821176Z",
     "shell.execute_reply.started": "2021-10-05T15:40:20.127459Z"
    },
    "papermill": {
     "duration": 3.215462,
     "end_time": "2021-10-05T16:43:31.822283",
     "exception": false,
     "start_time": "2021-10-05T16:43:28.606821",
     "status": "completed"
    },
    "tags": []
   },
   "outputs": [
    {
     "name": "stderr",
     "output_type": "stream",
     "text": [
      "100%|██████████| 357/357 [00:03<00:00, 112.50it/s]"
     ]
    },
    {
     "name": "stdout",
     "output_type": "stream",
     "text": [
      "\n",
      "Train Images shape:  (357, 224, 224, 3)  size: 53,738,496\n",
      "One-hot encoded output shape:  (357, 3)  size: 1,071\n"
     ]
    },
    {
     "name": "stderr",
     "output_type": "stream",
     "text": [
      "\n"
     ]
    }
   ],
   "source": [
    "# Creating numpy matrix with zeros\n",
    "X_data = np.zeros((len(labels), 224, 224, 3), dtype='float32')\n",
    "# One hot encoding\n",
    "Y_data = label_binarize(labels['breed'], classes = CLASS_NAMES)\n",
    "\n",
    "# Reading and converting image to numpy array and normalizing dataset\n",
    "for i in tqdm(range(len(labels))):\n",
    "    img = image.load_img('/kaggle/input/dogbreedidfromcomp/train/%s.jpg' % labels['id'][i], target_size=(224, 224))\n",
    "    img = image.img_to_array(img)\n",
    "    x = np.expand_dims(img.copy(), axis=0)\n",
    "    X_data[i] = x / 255.0\n",
    "    \n",
    "# Printing train image and one hot encode shape & size\n",
    "print('\\nTrain Images shape: ',X_data.shape,' size: {:,}'.format(X_data.size))\n",
    "print('One-hot encoded output shape: ',Y_data.shape,' size: {:,}'.format(Y_data.size))"
   ]
  },
  {
   "cell_type": "markdown",
   "id": "97a3216b",
   "metadata": {
    "papermill": {
     "duration": 0.028703,
     "end_time": "2021-10-05T16:43:31.882893",
     "exception": false,
     "start_time": "2021-10-05T16:43:31.854190",
     "status": "completed"
    },
    "tags": []
   },
   "source": [
    "As we are working with the classification dataset first we need to one hot encode the target value i.e. the classes. After that we will read images and convert them into numpy array and finally normalizing the array."
   ]
  },
  {
   "cell_type": "code",
   "execution_count": 6,
   "id": "b8dd69b4",
   "metadata": {
    "execution": {
     "iopub.execute_input": "2021-10-05T16:43:31.955032Z",
     "iopub.status.busy": "2021-10-05T16:43:31.954286Z",
     "iopub.status.idle": "2021-10-05T16:43:32.328098Z",
     "shell.execute_reply": "2021-10-05T16:43:32.327318Z",
     "shell.execute_reply.started": "2021-10-05T15:41:06.265298Z"
    },
    "papermill": {
     "duration": 0.416024,
     "end_time": "2021-10-05T16:43:32.328319",
     "exception": false,
     "start_time": "2021-10-05T16:43:31.912295",
     "status": "completed"
    },
    "tags": []
   },
   "outputs": [
    {
     "name": "stderr",
     "output_type": "stream",
     "text": [
      "2021-10-05 16:43:31.966294: I tensorflow/compiler/jit/xla_cpu_device.cc:41] Not creating XLA devices, tf_xla_enable_xla_devices not set\n",
      "2021-10-05 16:43:31.969315: W tensorflow/stream_executor/platform/default/dso_loader.cc:60] Could not load dynamic library 'libcuda.so.1'; dlerror: libcuda.so.1: cannot open shared object file: No such file or directory; LD_LIBRARY_PATH: /opt/conda/lib\n",
      "2021-10-05 16:43:31.969352: W tensorflow/stream_executor/cuda/cuda_driver.cc:326] failed call to cuInit: UNKNOWN ERROR (303)\n",
      "2021-10-05 16:43:31.969377: I tensorflow/stream_executor/cuda/cuda_diagnostics.cc:156] kernel driver does not appear to be running on this host (4ba37814d23c): /proc/driver/nvidia/version does not exist\n",
      "2021-10-05 16:43:31.970525: I tensorflow/core/platform/cpu_feature_guard.cc:142] This TensorFlow binary is optimized with oneAPI Deep Neural Network Library (oneDNN) to use the following CPU instructions in performance-critical operations:  AVX2 FMA\n",
      "To enable them in other operations, rebuild TensorFlow with the appropriate compiler flags.\n",
      "2021-10-05 16:43:31.970912: I tensorflow/compiler/jit/xla_gpu_device.cc:99] Not creating XLA devices, tf_xla_enable_xla_devices not set\n"
     ]
    },
    {
     "name": "stdout",
     "output_type": "stream",
     "text": [
      "Model: \"sequential\"\n",
      "_________________________________________________________________\n",
      "Layer (type)                 Output Shape              Param #   \n",
      "=================================================================\n",
      "conv2d (Conv2D)              (None, 220, 220, 64)      4864      \n",
      "_________________________________________________________________\n",
      "max_pooling2d (MaxPooling2D) (None, 110, 110, 64)      0         \n",
      "_________________________________________________________________\n",
      "conv2d_1 (Conv2D)            (None, 108, 108, 32)      18464     \n",
      "_________________________________________________________________\n",
      "max_pooling2d_1 (MaxPooling2 (None, 54, 54, 32)        0         \n",
      "_________________________________________________________________\n",
      "conv2d_2 (Conv2D)            (None, 48, 48, 16)        25104     \n",
      "_________________________________________________________________\n",
      "max_pooling2d_2 (MaxPooling2 (None, 24, 24, 16)        0         \n",
      "_________________________________________________________________\n",
      "conv2d_3 (Conv2D)            (None, 20, 20, 8)         3208      \n",
      "_________________________________________________________________\n",
      "max_pooling2d_3 (MaxPooling2 (None, 10, 10, 8)         0         \n",
      "_________________________________________________________________\n",
      "flatten (Flatten)            (None, 800)               0         \n",
      "_________________________________________________________________\n",
      "dense (Dense)                (None, 128)               102528    \n",
      "_________________________________________________________________\n",
      "dense_1 (Dense)              (None, 64)                8256      \n",
      "_________________________________________________________________\n",
      "dense_2 (Dense)              (None, 3)                 195       \n",
      "=================================================================\n",
      "Total params: 162,619\n",
      "Trainable params: 162,619\n",
      "Non-trainable params: 0\n",
      "_________________________________________________________________\n"
     ]
    }
   ],
   "source": [
    "# Building the Model\n",
    "model = Sequential()\n",
    "\n",
    "model.add(Conv2D(filters = 64, kernel_size = (5,5), activation ='relu', input_shape = (224,224,3)))\n",
    "model.add(MaxPool2D(pool_size=(2,2)))\n",
    "\n",
    "model.add(Conv2D(filters = 32, kernel_size = (3,3), activation ='relu', kernel_regularizer = 'l2'))\n",
    "model.add(MaxPool2D(pool_size=(2,2)))\n",
    "\n",
    "model.add(Conv2D(filters = 16, kernel_size = (7,7), activation ='relu', kernel_regularizer = 'l2'))\n",
    "model.add(MaxPool2D(pool_size=(2,2)))\n",
    "\n",
    "model.add(Conv2D(filters = 8, kernel_size = (5,5), activation ='relu', kernel_regularizer = 'l2'))\n",
    "model.add(MaxPool2D(pool_size=(2,2)))\n",
    "\n",
    "model.add(Flatten())\n",
    "model.add(Dense(128, activation = \"relu\", kernel_regularizer = 'l2'))\n",
    "model.add(Dense(64, activation = \"relu\", kernel_regularizer = 'l2'))\n",
    "model.add(Dense(len(CLASS_NAMES), activation = \"softmax\"))\n",
    "\n",
    "model.compile(loss = 'categorical_crossentropy', optimizer = Adam(0.0001),metrics=['accuracy'])\n",
    "\n",
    "model.summary()"
   ]
  },
  {
   "cell_type": "markdown",
   "id": "581e6c06",
   "metadata": {
    "papermill": {
     "duration": 0.030941,
     "end_time": "2021-10-05T16:43:32.391743",
     "exception": false,
     "start_time": "2021-10-05T16:43:32.360802",
     "status": "completed"
    },
    "tags": []
   },
   "source": [
    "Next we will create a network architecture for the model. We have used different types of layers according to their features namely Conv_2d (It is used to create a convolutional kernel that is convolved with the input layer to produce the output tensor), max_pooling2d (It is a downsampling technique which takes out the maximum value over the window defined by poolsize), flatten (It flattens the input and creates a 1D output), Dense (Dense layer produce the output as the dot product of input and kernel).\n",
    "\n",
    "\n",
    "After defining the network architecture we found out the total parameters as 162,619."
   ]
  },
  {
   "cell_type": "code",
   "execution_count": 7,
   "id": "4e473ae6",
   "metadata": {
    "execution": {
     "iopub.execute_input": "2021-10-05T16:43:32.462602Z",
     "iopub.status.busy": "2021-10-05T16:43:32.461073Z",
     "iopub.status.idle": "2021-10-05T16:43:32.641235Z",
     "shell.execute_reply": "2021-10-05T16:43:32.641861Z",
     "shell.execute_reply.started": "2021-10-05T15:41:34.467124Z"
    },
    "papermill": {
     "duration": 0.220331,
     "end_time": "2021-10-05T16:43:32.642046",
     "exception": false,
     "start_time": "2021-10-05T16:43:32.421715",
     "status": "completed"
    },
    "tags": []
   },
   "outputs": [],
   "source": [
    "# Splitting the data set into training and testing data sets\n",
    "X_train_and_val, X_test, Y_train_and_val, Y_test = train_test_split(X_data, Y_data, test_size = 0.1)\n",
    "# Splitting the training data set into training and validation data sets\n",
    "X_train, X_val, Y_train, Y_val = train_test_split(X_train_and_val, Y_train_and_val, test_size = 0.2)"
   ]
  },
  {
   "cell_type": "markdown",
   "id": "f5435b7e",
   "metadata": {
    "papermill": {
     "duration": 0.030213,
     "end_time": "2021-10-05T16:43:32.703936",
     "exception": false,
     "start_time": "2021-10-05T16:43:32.673723",
     "status": "completed"
    },
    "tags": []
   },
   "source": [
    "After defining the network architecture we will start with splitting the test and train data then dividing train data in train and validation data. "
   ]
  },
  {
   "cell_type": "markdown",
   "id": "a8537871",
   "metadata": {
    "papermill": {
     "duration": 0.029631,
     "end_time": "2021-10-05T16:43:32.764041",
     "exception": false,
     "start_time": "2021-10-05T16:43:32.734410",
     "status": "completed"
    },
    "tags": []
   },
   "source": [
    "Now we will train our model on 100 epochs and a batch size of 128. You can try using more number of epochs to increase accuracy. During each epochs we can see how the model is performing by viewing the training and validation accuracy."
   ]
  },
  {
   "cell_type": "code",
   "execution_count": 8,
   "id": "0bdc306c",
   "metadata": {
    "execution": {
     "iopub.execute_input": "2021-10-05T16:43:32.831038Z",
     "iopub.status.busy": "2021-10-05T16:43:32.830279Z",
     "iopub.status.idle": "2021-10-05T17:20:17.388008Z",
     "shell.execute_reply": "2021-10-05T17:20:17.388636Z",
     "shell.execute_reply.started": "2021-10-05T15:41:54.367129Z"
    },
    "papermill": {
     "duration": 2204.594169,
     "end_time": "2021-10-05T17:20:17.388949",
     "exception": false,
     "start_time": "2021-10-05T16:43:32.794780",
     "status": "completed"
    },
    "tags": []
   },
   "outputs": [
    {
     "name": "stderr",
     "output_type": "stream",
     "text": [
      "2021-10-05 16:43:33.082791: I tensorflow/compiler/mlir/mlir_graph_optimization_pass.cc:116] None of the MLIR optimization passes are enabled (registered 2)\n",
      "2021-10-05 16:43:33.098628: I tensorflow/core/platform/profile_utils/cpu_utils.cc:112] CPU Frequency: 2199995000 Hz\n"
     ]
    },
    {
     "name": "stdout",
     "output_type": "stream",
     "text": [
      "Epoch 1/100\n"
     ]
    },
    {
     "name": "stderr",
     "output_type": "stream",
     "text": [
      "2021-10-05 16:43:34.073165: W tensorflow/core/framework/cpu_allocator_impl.cc:80] Allocation of 1585971200 exceeds 10% of free system memory.\n",
      "2021-10-05 16:43:43.586777: W tensorflow/core/framework/cpu_allocator_impl.cc:80] Allocation of 1585971200 exceeds 10% of free system memory.\n"
     ]
    },
    {
     "name": "stdout",
     "output_type": "stream",
     "text": [
      "1/2 [==============>...............] - ETA: 17s - loss: 4.9213 - accuracy: 0.3516"
     ]
    },
    {
     "name": "stderr",
     "output_type": "stream",
     "text": [
      "2021-10-05 16:43:50.177737: W tensorflow/core/framework/cpu_allocator_impl.cc:80] Allocation of 1585971200 exceeds 10% of free system memory.\n",
      "2021-10-05 16:43:56.549444: W tensorflow/core/framework/cpu_allocator_impl.cc:80] Allocation of 1585971200 exceeds 10% of free system memory.\n"
     ]
    },
    {
     "name": "stdout",
     "output_type": "stream",
     "text": [
      "2/2 [==============================] - 30s 13s/step - loss: 4.9149 - accuracy: 0.3490 - val_loss: 4.8854 - val_accuracy: 0.3846\n",
      "Epoch 2/100\n"
     ]
    },
    {
     "name": "stderr",
     "output_type": "stream",
     "text": [
      "2021-10-05 16:44:03.195568: W tensorflow/core/framework/cpu_allocator_impl.cc:80] Allocation of 1585971200 exceeds 10% of free system memory.\n"
     ]
    },
    {
     "name": "stdout",
     "output_type": "stream",
     "text": [
      "2/2 [==============================] - 21s 11s/step - loss: 4.8862 - accuracy: 0.3385 - val_loss: 4.8606 - val_accuracy: 0.3692\n",
      "Epoch 3/100\n",
      "2/2 [==============================] - 21s 11s/step - loss: 4.8603 - accuracy: 0.3568 - val_loss: 4.8352 - val_accuracy: 0.3692\n",
      "Epoch 4/100\n",
      "2/2 [==============================] - 21s 12s/step - loss: 4.8339 - accuracy: 0.3620 - val_loss: 4.8093 - val_accuracy: 0.3846\n",
      "Epoch 5/100\n",
      "2/2 [==============================] - 21s 11s/step - loss: 4.8098 - accuracy: 0.3464 - val_loss: 4.7841 - val_accuracy: 0.3846\n",
      "Epoch 6/100\n",
      "2/2 [==============================] - 21s 11s/step - loss: 4.7841 - accuracy: 0.3594 - val_loss: 4.7586 - val_accuracy: 0.3846\n",
      "Epoch 7/100\n",
      "2/2 [==============================] - 21s 11s/step - loss: 4.7589 - accuracy: 0.3490 - val_loss: 4.7331 - val_accuracy: 0.3846\n",
      "Epoch 8/100\n",
      "2/2 [==============================] - 21s 11s/step - loss: 4.7369 - accuracy: 0.3307 - val_loss: 4.7083 - val_accuracy: 0.3846\n",
      "Epoch 9/100\n",
      "2/2 [==============================] - 21s 11s/step - loss: 4.7088 - accuracy: 0.3516 - val_loss: 4.6825 - val_accuracy: 0.3846\n",
      "Epoch 10/100\n",
      "2/2 [==============================] - 21s 11s/step - loss: 4.6868 - accuracy: 0.3359 - val_loss: 4.6574 - val_accuracy: 0.3846\n",
      "Epoch 11/100\n",
      "2/2 [==============================] - 21s 11s/step - loss: 4.6596 - accuracy: 0.3411 - val_loss: 4.6324 - val_accuracy: 0.3846\n",
      "Epoch 12/100\n",
      "2/2 [==============================] - 21s 11s/step - loss: 4.6354 - accuracy: 0.3359 - val_loss: 4.6073 - val_accuracy: 0.3846\n",
      "Epoch 13/100\n",
      "2/2 [==============================] - 21s 11s/step - loss: 4.6062 - accuracy: 0.3542 - val_loss: 4.5820 - val_accuracy: 0.3846\n",
      "Epoch 14/100\n",
      "2/2 [==============================] - 21s 11s/step - loss: 4.5840 - accuracy: 0.3464 - val_loss: 4.5569 - val_accuracy: 0.3846\n",
      "Epoch 15/100\n",
      "2/2 [==============================] - 21s 12s/step - loss: 4.5558 - accuracy: 0.3620 - val_loss: 4.5314 - val_accuracy: 0.3846\n",
      "Epoch 16/100\n",
      "2/2 [==============================] - 21s 11s/step - loss: 4.5305 - accuracy: 0.3698 - val_loss: 4.5057 - val_accuracy: 0.3846\n",
      "Epoch 17/100\n",
      "2/2 [==============================] - 24s 11s/step - loss: 4.5041 - accuracy: 0.3594 - val_loss: 4.4797 - val_accuracy: 0.4462\n",
      "Epoch 18/100\n",
      "2/2 [==============================] - 21s 11s/step - loss: 4.4835 - accuracy: 0.3542 - val_loss: 4.4545 - val_accuracy: 0.4615\n",
      "Epoch 19/100\n",
      "2/2 [==============================] - 22s 12s/step - loss: 4.4486 - accuracy: 0.3880 - val_loss: 4.4276 - val_accuracy: 0.4615\n",
      "Epoch 20/100\n",
      "2/2 [==============================] - 21s 11s/step - loss: 4.4245 - accuracy: 0.3906 - val_loss: 4.4008 - val_accuracy: 0.4615\n",
      "Epoch 21/100\n",
      "2/2 [==============================] - 21s 11s/step - loss: 4.3898 - accuracy: 0.4245 - val_loss: 4.3733 - val_accuracy: 0.4923\n",
      "Epoch 22/100\n",
      "2/2 [==============================] - 21s 11s/step - loss: 4.3620 - accuracy: 0.4688 - val_loss: 4.3458 - val_accuracy: 0.5077\n",
      "Epoch 23/100\n",
      "2/2 [==============================] - 22s 12s/step - loss: 4.3248 - accuracy: 0.5417 - val_loss: 4.3166 - val_accuracy: 0.5385\n",
      "Epoch 24/100\n",
      "2/2 [==============================] - 21s 11s/step - loss: 4.2937 - accuracy: 0.5729 - val_loss: 4.2844 - val_accuracy: 0.5538\n",
      "Epoch 25/100\n",
      "2/2 [==============================] - 21s 11s/step - loss: 4.2509 - accuracy: 0.5938 - val_loss: 4.2537 - val_accuracy: 0.5692\n",
      "Epoch 26/100\n",
      "2/2 [==============================] - 21s 11s/step - loss: 4.2113 - accuracy: 0.6042 - val_loss: 4.2203 - val_accuracy: 0.5385\n",
      "Epoch 27/100\n",
      "2/2 [==============================] - 21s 11s/step - loss: 4.1785 - accuracy: 0.5964 - val_loss: 4.1865 - val_accuracy: 0.5385\n",
      "Epoch 28/100\n",
      "2/2 [==============================] - 21s 11s/step - loss: 4.1398 - accuracy: 0.6276 - val_loss: 4.1587 - val_accuracy: 0.5385\n",
      "Epoch 29/100\n",
      "2/2 [==============================] - 35s 26s/step - loss: 4.0982 - accuracy: 0.6016 - val_loss: 4.1306 - val_accuracy: 0.5231\n",
      "Epoch 30/100\n",
      "2/2 [==============================] - 23s 11s/step - loss: 4.0692 - accuracy: 0.5859 - val_loss: 4.0905 - val_accuracy: 0.5385\n",
      "Epoch 31/100\n",
      "2/2 [==============================] - 21s 11s/step - loss: 4.0414 - accuracy: 0.5990 - val_loss: 4.0601 - val_accuracy: 0.5692\n",
      "Epoch 32/100\n",
      "2/2 [==============================] - 21s 11s/step - loss: 4.0036 - accuracy: 0.6016 - val_loss: 4.0333 - val_accuracy: 0.5846\n",
      "Epoch 33/100\n",
      "2/2 [==============================] - 22s 12s/step - loss: 3.9618 - accuracy: 0.6042 - val_loss: 4.0120 - val_accuracy: 0.5692\n",
      "Epoch 34/100\n",
      "2/2 [==============================] - 21s 11s/step - loss: 3.8988 - accuracy: 0.6510 - val_loss: 3.9830 - val_accuracy: 0.5692\n",
      "Epoch 35/100\n",
      "2/2 [==============================] - 21s 11s/step - loss: 3.8905 - accuracy: 0.6510 - val_loss: 3.9661 - val_accuracy: 0.5538\n",
      "Epoch 36/100\n",
      "2/2 [==============================] - 21s 11s/step - loss: 3.8520 - accuracy: 0.6797 - val_loss: 3.9250 - val_accuracy: 0.6000\n",
      "Epoch 37/100\n",
      "2/2 [==============================] - 21s 11s/step - loss: 3.8432 - accuracy: 0.6458 - val_loss: 3.9012 - val_accuracy: 0.5692\n",
      "Epoch 38/100\n",
      "2/2 [==============================] - 21s 11s/step - loss: 3.8111 - accuracy: 0.6432 - val_loss: 3.8976 - val_accuracy: 0.6000\n",
      "Epoch 39/100\n",
      "2/2 [==============================] - 21s 11s/step - loss: 3.8066 - accuracy: 0.6745 - val_loss: 3.8560 - val_accuracy: 0.5692\n",
      "Epoch 40/100\n",
      "2/2 [==============================] - 21s 11s/step - loss: 3.7613 - accuracy: 0.6641 - val_loss: 3.8519 - val_accuracy: 0.5692\n",
      "Epoch 41/100\n",
      "2/2 [==============================] - 21s 11s/step - loss: 3.7406 - accuracy: 0.6693 - val_loss: 3.8271 - val_accuracy: 0.5692\n",
      "Epoch 42/100\n",
      "2/2 [==============================] - 21s 11s/step - loss: 3.7165 - accuracy: 0.7240 - val_loss: 3.8059 - val_accuracy: 0.6000\n",
      "Epoch 43/100\n",
      "2/2 [==============================] - 21s 11s/step - loss: 3.6773 - accuracy: 0.7109 - val_loss: 3.7645 - val_accuracy: 0.6308\n",
      "Epoch 44/100\n",
      "2/2 [==============================] - 21s 11s/step - loss: 3.6509 - accuracy: 0.7083 - val_loss: 3.7372 - val_accuracy: 0.6462\n",
      "Epoch 45/100\n",
      "2/2 [==============================] - 21s 11s/step - loss: 3.6383 - accuracy: 0.6953 - val_loss: 3.7372 - val_accuracy: 0.6462\n",
      "Epoch 46/100\n",
      "2/2 [==============================] - 22s 11s/step - loss: 3.5984 - accuracy: 0.7292 - val_loss: 3.7100 - val_accuracy: 0.5846\n",
      "Epoch 47/100\n",
      "2/2 [==============================] - 21s 12s/step - loss: 3.5731 - accuracy: 0.7344 - val_loss: 3.6947 - val_accuracy: 0.6000\n",
      "Epoch 48/100\n",
      "2/2 [==============================] - 21s 11s/step - loss: 3.5385 - accuracy: 0.7630 - val_loss: 3.6656 - val_accuracy: 0.6308\n",
      "Epoch 49/100\n",
      "2/2 [==============================] - 22s 12s/step - loss: 3.5125 - accuracy: 0.7318 - val_loss: 3.6296 - val_accuracy: 0.7077\n",
      "Epoch 50/100\n",
      "2/2 [==============================] - 21s 12s/step - loss: 3.5206 - accuracy: 0.7031 - val_loss: 3.6124 - val_accuracy: 0.6769\n",
      "Epoch 51/100\n",
      "2/2 [==============================] - 21s 11s/step - loss: 3.4819 - accuracy: 0.7422 - val_loss: 3.6134 - val_accuracy: 0.6308\n",
      "Epoch 52/100\n",
      "2/2 [==============================] - 21s 12s/step - loss: 3.4853 - accuracy: 0.7396 - val_loss: 3.5892 - val_accuracy: 0.6308\n",
      "Epoch 53/100\n",
      "2/2 [==============================] - 21s 11s/step - loss: 3.4408 - accuracy: 0.7526 - val_loss: 3.5644 - val_accuracy: 0.6769\n",
      "Epoch 54/100\n",
      "2/2 [==============================] - 21s 11s/step - loss: 3.4151 - accuracy: 0.7370 - val_loss: 3.5405 - val_accuracy: 0.6923\n",
      "Epoch 55/100\n",
      "2/2 [==============================] - 21s 11s/step - loss: 3.3993 - accuracy: 0.7396 - val_loss: 3.5305 - val_accuracy: 0.6615\n",
      "Epoch 56/100\n",
      "2/2 [==============================] - 21s 11s/step - loss: 3.3812 - accuracy: 0.7474 - val_loss: 3.5154 - val_accuracy: 0.6769\n",
      "Epoch 57/100\n",
      "2/2 [==============================] - 21s 11s/step - loss: 3.3456 - accuracy: 0.7630 - val_loss: 3.4923 - val_accuracy: 0.7077\n",
      "Epoch 58/100\n",
      "2/2 [==============================] - 37s 20s/step - loss: 3.3360 - accuracy: 0.7474 - val_loss: 3.4975 - val_accuracy: 0.6462\n",
      "Epoch 59/100\n",
      "2/2 [==============================] - 22s 11s/step - loss: 3.3180 - accuracy: 0.7734 - val_loss: 3.4591 - val_accuracy: 0.7385\n",
      "Epoch 60/100\n",
      "2/2 [==============================] - 29s 17s/step - loss: 3.3075 - accuracy: 0.7604 - val_loss: 3.4624 - val_accuracy: 0.6462\n",
      "Epoch 61/100\n",
      "2/2 [==============================] - 22s 11s/step - loss: 3.2756 - accuracy: 0.7786 - val_loss: 3.4342 - val_accuracy: 0.7077\n",
      "Epoch 62/100\n",
      "2/2 [==============================] - 21s 11s/step - loss: 3.2358 - accuracy: 0.7917 - val_loss: 3.4340 - val_accuracy: 0.6615\n",
      "Epoch 63/100\n",
      "2/2 [==============================] - 21s 12s/step - loss: 3.2427 - accuracy: 0.7682 - val_loss: 3.4123 - val_accuracy: 0.6769\n",
      "Epoch 64/100\n",
      "2/2 [==============================] - 21s 11s/step - loss: 3.2239 - accuracy: 0.7786 - val_loss: 3.4029 - val_accuracy: 0.6923\n",
      "Epoch 65/100\n",
      "2/2 [==============================] - 21s 11s/step - loss: 3.2034 - accuracy: 0.7943 - val_loss: 3.4063 - val_accuracy: 0.6462\n",
      "Epoch 66/100\n",
      "2/2 [==============================] - 21s 11s/step - loss: 3.1655 - accuracy: 0.8125 - val_loss: 3.3688 - val_accuracy: 0.6923\n",
      "Epoch 67/100\n",
      "2/2 [==============================] - 21s 11s/step - loss: 3.1524 - accuracy: 0.7891 - val_loss: 3.3624 - val_accuracy: 0.6769\n",
      "Epoch 68/100\n",
      "2/2 [==============================] - 21s 11s/step - loss: 3.1514 - accuracy: 0.7865 - val_loss: 3.3571 - val_accuracy: 0.6462\n",
      "Epoch 69/100\n",
      "2/2 [==============================] - 21s 11s/step - loss: 3.1394 - accuracy: 0.7995 - val_loss: 3.3358 - val_accuracy: 0.6769\n",
      "Epoch 70/100\n",
      "2/2 [==============================] - 21s 11s/step - loss: 3.1035 - accuracy: 0.8099 - val_loss: 3.3488 - val_accuracy: 0.6615\n",
      "Epoch 71/100\n",
      "2/2 [==============================] - 21s 11s/step - loss: 3.1100 - accuracy: 0.8021 - val_loss: 3.3029 - val_accuracy: 0.7077\n",
      "Epoch 72/100\n",
      "2/2 [==============================] - 24s 12s/step - loss: 3.0887 - accuracy: 0.7786 - val_loss: 3.2955 - val_accuracy: 0.7077\n",
      "Epoch 73/100\n",
      "2/2 [==============================] - 22s 12s/step - loss: 3.0822 - accuracy: 0.8047 - val_loss: 3.3057 - val_accuracy: 0.6462\n",
      "Epoch 74/100\n",
      "2/2 [==============================] - 22s 12s/step - loss: 3.0237 - accuracy: 0.8255 - val_loss: 3.2710 - val_accuracy: 0.6923\n",
      "Epoch 75/100\n",
      "2/2 [==============================] - 22s 12s/step - loss: 3.0587 - accuracy: 0.7995 - val_loss: 3.2565 - val_accuracy: 0.7077\n",
      "Epoch 76/100\n",
      "2/2 [==============================] - 22s 12s/step - loss: 3.0204 - accuracy: 0.7995 - val_loss: 3.2930 - val_accuracy: 0.6154\n",
      "Epoch 77/100\n",
      "2/2 [==============================] - 22s 12s/step - loss: 3.0182 - accuracy: 0.7969 - val_loss: 3.2330 - val_accuracy: 0.7077\n",
      "Epoch 78/100\n",
      "2/2 [==============================] - 22s 12s/step - loss: 3.0090 - accuracy: 0.8047 - val_loss: 3.2200 - val_accuracy: 0.7231\n",
      "Epoch 79/100\n",
      "2/2 [==============================] - 22s 12s/step - loss: 2.9781 - accuracy: 0.7969 - val_loss: 3.2737 - val_accuracy: 0.6462\n",
      "Epoch 80/100\n",
      "2/2 [==============================] - 21s 11s/step - loss: 2.9823 - accuracy: 0.7995 - val_loss: 3.2049 - val_accuracy: 0.7077\n",
      "Epoch 81/100\n",
      "2/2 [==============================] - 22s 11s/step - loss: 2.9565 - accuracy: 0.8255 - val_loss: 3.1912 - val_accuracy: 0.7077\n",
      "Epoch 82/100\n",
      "2/2 [==============================] - 22s 12s/step - loss: 2.9369 - accuracy: 0.8151 - val_loss: 3.2065 - val_accuracy: 0.6769\n",
      "Epoch 83/100\n",
      "2/2 [==============================] - 24s 11s/step - loss: 2.9355 - accuracy: 0.8203 - val_loss: 3.1650 - val_accuracy: 0.7385\n",
      "Epoch 84/100\n",
      "2/2 [==============================] - 22s 11s/step - loss: 2.9221 - accuracy: 0.8151 - val_loss: 3.1551 - val_accuracy: 0.7077\n",
      "Epoch 85/100\n",
      "2/2 [==============================] - 24s 14s/step - loss: 2.9008 - accuracy: 0.8073 - val_loss: 3.1922 - val_accuracy: 0.6154\n",
      "Epoch 86/100\n",
      "2/2 [==============================] - 36s 13s/step - loss: 2.9211 - accuracy: 0.8047 - val_loss: 3.1277 - val_accuracy: 0.7231\n",
      "Epoch 87/100\n",
      "2/2 [==============================] - 21s 11s/step - loss: 2.8674 - accuracy: 0.8229 - val_loss: 3.1208 - val_accuracy: 0.7231\n",
      "Epoch 88/100\n",
      "2/2 [==============================] - 22s 11s/step - loss: 2.8440 - accuracy: 0.8333 - val_loss: 3.1136 - val_accuracy: 0.6923\n",
      "Epoch 89/100\n",
      "2/2 [==============================] - 22s 12s/step - loss: 2.8254 - accuracy: 0.8151 - val_loss: 3.1018 - val_accuracy: 0.7077\n",
      "Epoch 90/100\n",
      "2/2 [==============================] - 21s 11s/step - loss: 2.8298 - accuracy: 0.8203 - val_loss: 3.0901 - val_accuracy: 0.6923\n",
      "Epoch 91/100\n",
      "2/2 [==============================] - 22s 12s/step - loss: 2.8306 - accuracy: 0.8177 - val_loss: 3.0834 - val_accuracy: 0.7385\n",
      "Epoch 92/100\n",
      "2/2 [==============================] - 22s 12s/step - loss: 2.7794 - accuracy: 0.8490 - val_loss: 3.0614 - val_accuracy: 0.7385\n",
      "Epoch 93/100\n",
      "2/2 [==============================] - 21s 11s/step - loss: 2.8084 - accuracy: 0.8047 - val_loss: 3.0689 - val_accuracy: 0.7385\n",
      "Epoch 94/100\n",
      "2/2 [==============================] - 22s 11s/step - loss: 2.7732 - accuracy: 0.8255 - val_loss: 3.0537 - val_accuracy: 0.7231\n",
      "Epoch 95/100\n",
      "2/2 [==============================] - 22s 12s/step - loss: 2.7648 - accuracy: 0.8359 - val_loss: 3.0329 - val_accuracy: 0.7385\n",
      "Epoch 96/100\n",
      "2/2 [==============================] - 21s 11s/step - loss: 2.7360 - accuracy: 0.8385 - val_loss: 3.0229 - val_accuracy: 0.7231\n",
      "Epoch 97/100\n",
      "2/2 [==============================] - 21s 11s/step - loss: 2.7461 - accuracy: 0.8333 - val_loss: 3.0317 - val_accuracy: 0.7231\n",
      "Epoch 98/100\n",
      "2/2 [==============================] - 21s 11s/step - loss: 2.7155 - accuracy: 0.8438 - val_loss: 3.0290 - val_accuracy: 0.7231\n",
      "Epoch 99/100\n",
      "2/2 [==============================] - 21s 11s/step - loss: 2.7359 - accuracy: 0.8125 - val_loss: 3.0073 - val_accuracy: 0.7538\n",
      "Epoch 100/100\n",
      "2/2 [==============================] - 21s 11s/step - loss: 2.6964 - accuracy: 0.8411 - val_loss: 2.9923 - val_accuracy: 0.7077\n"
     ]
    }
   ],
   "source": [
    "# Training the model\n",
    "epochs = 100\n",
    "batch_size = 128\n",
    "history = model.fit(X_train, Y_train, batch_size = batch_size, epochs = epochs, \n",
    "                    validation_data = (X_val, Y_val))"
   ]
  },
  {
   "cell_type": "code",
   "execution_count": 9,
   "id": "b1019649",
   "metadata": {
    "execution": {
     "iopub.execute_input": "2021-10-05T17:20:17.738433Z",
     "iopub.status.busy": "2021-10-05T17:20:17.731957Z",
     "iopub.status.idle": "2021-10-05T17:20:18.006871Z",
     "shell.execute_reply": "2021-10-05T17:20:18.006102Z",
     "shell.execute_reply.started": "2021-10-05T16:20:26.279667Z"
    },
    "papermill": {
     "duration": 0.460694,
     "end_time": "2021-10-05T17:20:18.007057",
     "exception": false,
     "start_time": "2021-10-05T17:20:17.546363",
     "status": "completed"
    },
    "tags": []
   },
   "outputs": [
    {
     "data": {
      "image/png": "[encoded data removed]",
      "text/plain": [
       "<Figure size 864x360 with 1 Axes>"
      ]
     },
     "metadata": {
      "needs_background": "light"
     },
     "output_type": "display_data"
    }
   ],
   "source": [
    "# Plot the training history\n",
    "plt.figure(figsize=(12, 5))\n",
    "plt.plot(history.history['accuracy'], color='r')\n",
    "plt.plot(history.history['val_accuracy'], color='b')\n",
    "plt.title('Model Accuracy')\n",
    "plt.ylabel('Accuracy')\n",
    "plt.xlabel('Epochs')\n",
    "plt.legend(['train', 'val'])\n",
    "\n",
    "plt.show()"
   ]
  },
  {
   "cell_type": "markdown",
   "id": "1c697aa4",
   "metadata": {
    "papermill": {
     "duration": 0.158305,
     "end_time": "2021-10-05T17:20:18.326068",
     "exception": false,
     "start_time": "2021-10-05T17:20:18.167763",
     "status": "completed"
    },
    "tags": []
   },
   "source": [
    "Here we analyse how the model is learning with each epoch in terms of accuracy."
   ]
  },
  {
   "cell_type": "code",
   "execution_count": 10,
   "id": "d9dc61f4",
   "metadata": {
    "execution": {
     "iopub.execute_input": "2021-10-05T17:20:18.659875Z",
     "iopub.status.busy": "2021-10-05T17:20:18.650285Z",
     "iopub.status.idle": "2021-10-05T17:20:20.269633Z",
     "shell.execute_reply": "2021-10-05T17:20:20.269075Z",
     "shell.execute_reply.started": "2021-10-05T16:23:33.015651Z"
    },
    "papermill": {
     "duration": 1.777995,
     "end_time": "2021-10-05T17:20:20.269784",
     "exception": false,
     "start_time": "2021-10-05T17:20:18.491789",
     "status": "completed"
    },
    "tags": []
   },
   "outputs": [
    {
     "name": "stdout",
     "output_type": "stream",
     "text": [
      "2/2 [==============================] - 1s 78ms/step - loss: 3.2469 - accuracy: 0.6389\n",
      "Accuracy over the test set: \n",
      "  63.89 %\n"
     ]
    }
   ],
   "source": [
    "Y_pred = model.predict(X_test)\n",
    "score = model.evaluate(X_test, Y_test)\n",
    "print('Accuracy over the test set: \\n ', round((score[1]*100), 2), '%')"
   ]
  },
  {
   "cell_type": "markdown",
   "id": "2b0dc7c6",
   "metadata": {
    "papermill": {
     "duration": 0.157766,
     "end_time": "2021-10-05T17:20:20.589151",
     "exception": false,
     "start_time": "2021-10-05T17:20:20.431385",
     "status": "completed"
    },
    "tags": []
   },
   "source": [
    "We will use predict function to make predictions using this model also we are finding out the accuracy on the test set."
   ]
  },
  {
   "cell_type": "code",
   "execution_count": 11,
   "id": "e6a75661",
   "metadata": {
    "execution": {
     "iopub.execute_input": "2021-10-05T17:20:20.934420Z",
     "iopub.status.busy": "2021-10-05T17:20:20.924494Z",
     "iopub.status.idle": "2021-10-05T17:20:21.187957Z",
     "shell.execute_reply": "2021-10-05T17:20:21.187374Z",
     "shell.execute_reply.started": "2021-10-05T16:26:10.032312Z"
    },
    "papermill": {
     "duration": 0.438958,
     "end_time": "2021-10-05T17:20:21.188110",
     "exception": false,
     "start_time": "2021-10-05T17:20:20.749152",
     "status": "completed"
    },
    "tags": []
   },
   "outputs": [
    {
     "data": {
      "image/png": "[encoded data removed]",
      "text/plain": [
       "<Figure size 432x288 with 1 Axes>"
      ]
     },
     "metadata": {
      "needs_background": "light"
     },
     "output_type": "display_data"
    },
    {
     "name": "stdout",
     "output_type": "stream",
     "text": [
      "Originally :  scottish_deerhound\n",
      "Predicted :  scottish_deerhound\n"
     ]
    }
   ],
   "source": [
    "# Plotting image to compare\n",
    "plt.imshow(X_test[2,:,:,:])\n",
    "plt.show()\n",
    "\n",
    "# Finding max value from predition list and comaparing original value vs predicted\n",
    "print(\"Originally : \",labels['breed'][np.argmax(Y_test[2])])\n",
    "print(\"Predicted : \",labels['breed'][np.argmax(Y_pred[2])])"
   ]
  },
  {
   "cell_type": "markdown",
   "id": "25de58d0",
   "metadata": {
    "papermill": {
     "duration": 0.170497,
     "end_time": "2021-10-05T17:20:21.523716",
     "exception": false,
     "start_time": "2021-10-05T17:20:21.353219",
     "status": "completed"
    },
    "tags": []
   },
   "source": [
    "Here you can see image with its original and predicted label."
   ]
  },
  {
   "cell_type": "markdown",
   "id": "e5b3a871",
   "metadata": {
    "papermill": {
     "duration": 0.170825,
     "end_time": "2021-10-05T17:20:21.872003",
     "exception": false,
     "start_time": "2021-10-05T17:20:21.701178",
     "status": "completed"
    },
    "tags": []
   },
   "source": [
    "## Conclusion:\n",
    "\n",
    "We started with importing dataset, creating the model and finding out the predictions using the model. We can optimize different hyper parameters in order to tune this model for a higher accuracy. This model can be used to predict different breeds of dogs which can be further used by different NGO's working on saving animals and for educational purposes also."
   ]
  }
 ],
 "metadata": {
  "kernelspec": {
   "display_name": "Python 3 (ipykernel)",
   "language": "python",
   "name": "python3"
  },
  "language_info": {
   "codemirror_mode": {
    "name": "ipython",
    "version": 3
   },
   "file_extension": ".py",
   "mimetype": "text/x-python",
   "name": "python",
   "nbconvert_exporter": "python",
   "pygments_lexer": "ipython3",
   "version": "3.9.12"
  },
  "papermill": {
   "default_parameters": {},
   "duration": 2232.783655,
   "end_time": "2021-10-05T17:20:25.619994",
   "environment_variables": {},
   "exception": null,
   "input_path": "__notebook__.ipynb",
   "output_path": "__notebook__.ipynb",
   "parameters": {},
   "start_time": "2021-10-05T16:43:12.836339",
   "version": "2.3.3"
  }
 },
 "nbformat": 4,
 "nbformat_minor": 5
}
