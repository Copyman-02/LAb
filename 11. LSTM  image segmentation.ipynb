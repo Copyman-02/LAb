{
 "cells": [
  {
   "cell_type": "markdown",
   "metadata": {},
   "source": [
    "### IMPORT THE LIBRARIES"
   ]
  },
  {
   "cell_type": "code",
   "execution_count": 1,
   "metadata": {},
   "outputs": [],
   "source": [
    "import numpy as np\n",
    "import matplotlib.pyplot as plt\n",
    "import tensorflow as tf \n",
    "from tensorflow.keras.models import Sequential\n",
    "from tensorflow.keras.layers import LSTM,Dense\n",
    "from tensorflow.keras import datasets"
   ]
  },
  {
   "cell_type": "markdown",
   "metadata": {},
   "source": [
    "### LOAD THE INBUILD DATSET "
   ]
  },
  {
   "cell_type": "code",
   "execution_count": 2,
   "metadata": {},
   "outputs": [],
   "source": [
    "(train_images, train_labels), (test_images, test_labels) = tf.keras.datasets.mnist.load_data()"
   ]
  },
  {
   "cell_type": "markdown",
   "metadata": {},
   "source": [
    "### PREPROCESSING THE DATA - NORMALIZATION"
   ]
  },
  {
   "cell_type": "code",
   "execution_count": 3,
   "metadata": {},
   "outputs": [],
   "source": [
    "train_images, test_images = train_images / 255.0, test_images/255.0"
   ]
  },
  {
   "cell_type": "code",
   "execution_count": 4,
   "metadata": {},
   "outputs": [],
   "source": [
    "class_names = ['Zero','one', 'two','three','four','five','six','seven','eight','nine']"
   ]
  },
  {
   "cell_type": "code",
   "execution_count": 5,
   "metadata": {},
   "outputs": [],
   "source": [
    "### EXPLORE THE DATA "
   ]
  },
  {
   "cell_type": "markdown",
   "metadata": {},
   "source": [
    "### SHAPE OF TRAINING AND TEST IMAGES"
   ]
  },
  {
   "cell_type": "code",
   "execution_count": 6,
   "metadata": {},
   "outputs": [
    {
     "name": "stdout",
     "output_type": "stream",
     "text": [
      "shape of training images :  (60000, 28, 28)\n",
      "shape of training images :  (60000,)\n"
     ]
    }
   ],
   "source": [
    "print('shape of training images : ',train_images.shape)\n",
    "print('shape of training images : ',train_labels.shape)"
   ]
  },
  {
   "cell_type": "code",
   "execution_count": 7,
   "metadata": {},
   "outputs": [
    {
     "name": "stdout",
     "output_type": "stream",
     "text": [
      "shape of testing images :  (10000, 28, 28)\n",
      "shape of testing label :  (10000,)\n"
     ]
    }
   ],
   "source": [
    "print('shape of testing images : ',test_images.shape)\n",
    "print('shape of testing label : ',test_labels.shape)"
   ]
  },
  {
   "cell_type": "markdown",
   "metadata": {},
   "source": [
    "### LABEL VALUES"
   ]
  },
  {
   "cell_type": "code",
   "execution_count": 8,
   "metadata": {},
   "outputs": [
    {
     "name": "stdout",
     "output_type": "stream",
     "text": [
      "label values : 0.0 to 1.0\n"
     ]
    }
   ],
   "source": [
    "print('label values :',np.min(train_images), \"to\" ,np.max(train_images))"
   ]
  },
  {
   "cell_type": "code",
   "execution_count": 9,
   "metadata": {},
   "outputs": [],
   "source": [
    "### pixcel values"
   ]
  },
  {
   "cell_type": "code",
   "execution_count": null,
   "metadata": {},
   "outputs": [],
   "source": []
  },
  {
   "cell_type": "markdown",
   "metadata": {},
   "source": [
    "### BUILD THE MODEL"
   ]
  },
  {
   "cell_type": "code",
   "execution_count": 10,
   "metadata": {},
   "outputs": [],
   "source": [
    "model = Sequential()\n",
    "model.add(LSTM(100,input_shape=(28,28)))\n",
    "model.add(Dense(10, activation = 'softmax'))"
   ]
  },
  {
   "cell_type": "code",
   "execution_count": 11,
   "metadata": {},
   "outputs": [
    {
     "name": "stdout",
     "output_type": "stream",
     "text": [
      "Model: \"sequential\"\n",
      "_________________________________________________________________\n",
      " Layer (type)                Output Shape              Param #   \n",
      "=================================================================\n",
      " lstm (LSTM)                 (None, 100)               51600     \n",
      "                                                                 \n",
      " dense (Dense)               (None, 10)                1010      \n",
      "                                                                 \n",
      "=================================================================\n",
      "Total params: 52610 (205.51 KB)\n",
      "Trainable params: 52610 (205.51 KB)\n",
      "Non-trainable params: 0 (0.00 Byte)\n",
      "_________________________________________________________________\n"
     ]
    }
   ],
   "source": [
    "model.summary()"
   ]
  },
  {
   "cell_type": "markdown",
   "metadata": {},
   "source": [
    "### COMPILE THE MODEL"
   ]
  },
  {
   "cell_type": "code",
   "execution_count": 12,
   "metadata": {},
   "outputs": [],
   "source": [
    "model.compile(optimizer='adam',loss=tf.keras.losses.SparseCategoricalCrossentropy(from_logits=False),\n",
    "             metrics=['accuracy'])\n"
   ]
  },
  {
   "cell_type": "code",
   "execution_count": 13,
   "metadata": {},
   "outputs": [],
   "source": [
    "#model = tf.keras.Sequential()\n",
    "#model.add(tf.keras.layers.Flatten(input_shape = (28,28)))\n",
    "#model.add(tf.keras.layers.Dense(128,activation = 'relu'))\n",
    "#model.add(tf.keras.layers.Dense(10))\n",
    "#model.summary()"
   ]
  },
  {
   "cell_type": "markdown",
   "metadata": {},
   "source": [
    "### FEED THE MODEL"
   ]
  },
  {
   "cell_type": "code",
   "execution_count": 14,
   "metadata": {},
   "outputs": [
    {
     "name": "stdout",
     "output_type": "stream",
     "text": [
      "Epoch 1/20\n",
      "1875/1875 [==============================] - 61s 31ms/step - loss: 0.3455 - accuracy: 0.8913 - val_loss: 0.1264 - val_accuracy: 0.9613\n",
      "Epoch 2/20\n",
      "1875/1875 [==============================] - 60s 32ms/step - loss: 0.1093 - accuracy: 0.9679 - val_loss: 0.1037 - val_accuracy: 0.9694\n",
      "Epoch 3/20\n",
      "1875/1875 [==============================] - 54s 29ms/step - loss: 0.0741 - accuracy: 0.9779 - val_loss: 0.0775 - val_accuracy: 0.9771\n",
      "Epoch 4/20\n",
      "1875/1875 [==============================] - 47s 25ms/step - loss: 0.0606 - accuracy: 0.9819 - val_loss: 0.0627 - val_accuracy: 0.9815\n",
      "Epoch 5/20\n",
      "1875/1875 [==============================] - 44s 23ms/step - loss: 0.0501 - accuracy: 0.9850 - val_loss: 0.0550 - val_accuracy: 0.9835\n",
      "Epoch 6/20\n",
      "1875/1875 [==============================] - 45s 24ms/step - loss: 0.0413 - accuracy: 0.9874 - val_loss: 0.0564 - val_accuracy: 0.9816\n",
      "Epoch 7/20\n",
      "1875/1875 [==============================] - 46s 24ms/step - loss: 0.0362 - accuracy: 0.9890 - val_loss: 0.0512 - val_accuracy: 0.9842\n",
      "Epoch 8/20\n",
      "1875/1875 [==============================] - 47s 25ms/step - loss: 0.0309 - accuracy: 0.9903 - val_loss: 0.0505 - val_accuracy: 0.9850\n",
      "Epoch 9/20\n",
      "1875/1875 [==============================] - 48s 25ms/step - loss: 0.0269 - accuracy: 0.9915 - val_loss: 0.0402 - val_accuracy: 0.9876\n",
      "Epoch 10/20\n",
      "1875/1875 [==============================] - 50s 27ms/step - loss: 0.0251 - accuracy: 0.9923 - val_loss: 0.0510 - val_accuracy: 0.9837\n",
      "Epoch 11/20\n",
      "1875/1875 [==============================] - 50s 27ms/step - loss: 0.0216 - accuracy: 0.9934 - val_loss: 0.0421 - val_accuracy: 0.9881\n",
      "Epoch 12/20\n",
      "1875/1875 [==============================] - 52s 28ms/step - loss: 0.0191 - accuracy: 0.9938 - val_loss: 0.0446 - val_accuracy: 0.9865\n",
      "Epoch 13/20\n",
      "1875/1875 [==============================] - 54s 29ms/step - loss: 0.0178 - accuracy: 0.9944 - val_loss: 0.0347 - val_accuracy: 0.9903\n",
      "Epoch 14/20\n",
      "1875/1875 [==============================] - 46s 25ms/step - loss: 0.0157 - accuracy: 0.9950 - val_loss: 0.0383 - val_accuracy: 0.9889\n",
      "Epoch 15/20\n",
      "1875/1875 [==============================] - 44s 23ms/step - loss: 0.0148 - accuracy: 0.9955 - val_loss: 0.0420 - val_accuracy: 0.9885\n",
      "Epoch 16/20\n",
      "1875/1875 [==============================] - 45s 24ms/step - loss: 0.0137 - accuracy: 0.9957 - val_loss: 0.0429 - val_accuracy: 0.9880\n",
      "Epoch 17/20\n",
      "1875/1875 [==============================] - 46s 24ms/step - loss: 0.0132 - accuracy: 0.9959 - val_loss: 0.0470 - val_accuracy: 0.9880\n",
      "Epoch 18/20\n",
      "1875/1875 [==============================] - 53s 28ms/step - loss: 0.0127 - accuracy: 0.9959 - val_loss: 0.0411 - val_accuracy: 0.9892\n",
      "Epoch 19/20\n",
      "1875/1875 [==============================] - 47s 25ms/step - loss: 0.0108 - accuracy: 0.9966 - val_loss: 0.0467 - val_accuracy: 0.9885\n",
      "Epoch 20/20\n",
      "1875/1875 [==============================] - 51s 27ms/step - loss: 0.0106 - accuracy: 0.9964 - val_loss: 0.0498 - val_accuracy: 0.9871\n"
     ]
    }
   ],
   "source": [
    "history = model.fit(train_images,train_labels, epochs=20,validation_data= (test_images,test_labels))"
   ]
  },
  {
   "cell_type": "markdown",
   "metadata": {},
   "source": [
    "### plot accuracy and Epoch"
   ]
  },
  {
   "cell_type": "code",
   "execution_count": 60,
   "metadata": {},
   "outputs": [
    {
     "data": {
      "text/plain": [
       "(0.75, 1.0)"
      ]
     },
     "execution_count": 60,
     "metadata": {},
     "output_type": "execute_result"
    },
    {
     "data": {
      "image/png": "[encoded data removed]",
      "text/plain": [
       "<Figure size 640x480 with 1 Axes>"
      ]
     },
     "metadata": {},
     "output_type": "display_data"
    }
   ],
   "source": [
    "plt.plot(history.history['accuracy'],label='Accuracy')\n",
    "plt.plot(history.history['val_accuracy'],label='Validation_accuracy')\n",
    "plt.xlabel('Epoch')\n",
    "plt.ylabel('Accuracy')\n",
    "figsize=(2,2)\n",
    "plt.ylim([0.75,1])\n",
    "#plt.legent(loc='lower right')"
   ]
  },
  {
   "cell_type": "code",
   "execution_count": 20,
   "metadata": {},
   "outputs": [
    {
     "name": "stdout",
     "output_type": "stream",
     "text": [
      "313/313 - 3s - loss: 0.0498 - accuracy: 0.9871 - 3s/epoch - 11ms/step\n",
      "Test accuracy :  99 %\n"
     ]
    }
   ],
   "source": [
    "test_loss,test_acc = model.evaluate(test_images, test_labels, verbose = 2)\n",
    "print('Test accuracy : ', round(test_acc*100), '%')"
   ]
  },
  {
   "cell_type": "markdown",
   "metadata": {},
   "source": [
    "### VERIFY AND VISULIZE PREDICTION"
   ]
  },
  {
   "cell_type": "code",
   "execution_count": 41,
   "metadata": {},
   "outputs": [
    {
     "name": "stdout",
     "output_type": "stream",
     "text": [
      "313/313 [==============================] - 4s 11ms/step\n"
     ]
    },
    {
     "data": {
      "image/png": "[encoded data removed]",
      "text/plain": [
       "<Figure size 1700x800 with 32 Axes>"
      ]
     },
     "metadata": {},
     "output_type": "display_data"
    }
   ],
   "source": [
    "predictions = model.predict(test_images)\n",
    "\n",
    "plt.figure(figsize = (17,8))\n",
    "\n",
    "for i in range(16):\n",
    "    plt.subplot(4,8,2*i+1)\n",
    "    plt.xticks([])\n",
    "    plt.yticks([])\n",
    "    if np.argmax(prediction[i]) == test_labels[i]:\n",
    "        color = 'blue'\n",
    "    else:\n",
    "        color = 'red'\n",
    "    plt.imshow(test_images[i], cmap=plt.cm.binary)\n",
    "    plt.xlabel('{} {:2.0f}% ({})'.format(class_names[np.argmax(predictions[i])],\n",
    "                                         100*np.max(predictions[i]),class_names[test_labels[i]]),\n",
    "                                         color=color)\n",
    "    plt.subplot(4,8,2*i+2)\n",
    "    plt.xticks(range(10))\n",
    "    plt.yticks([])\n",
    "    thisplot = plt.bar(range(10), prediction[i], color ='gray')\n",
    "    plt.ylim([0,1])\n",
    "    \n",
    "    thisplot[np.argmax(predictions[i])].set_color('red')\n",
    "    thisplot[test_labels[i]].set_color('blue')\n",
    "plt.show()"
   ]
  },
  {
   "cell_type": "markdown",
   "metadata": {},
   "source": [
    "### USE THE TRAIN MODEL"
   ]
  },
  {
   "cell_type": "code",
   "execution_count": 42,
   "metadata": {},
   "outputs": [
    {
     "name": "stdout",
     "output_type": "stream",
     "text": [
      "(28, 28)\n"
     ]
    }
   ],
   "source": [
    "img = test_images[50]\n",
    "print(img.shape)"
   ]
  },
  {
   "cell_type": "code",
   "execution_count": 44,
   "metadata": {},
   "outputs": [],
   "source": [
    "img = (np.expand_dims(img,0))"
   ]
  },
  {
   "cell_type": "code",
   "execution_count": 45,
   "metadata": {},
   "outputs": [
    {
     "name": "stdout",
     "output_type": "stream",
     "text": [
      "(1, 28, 28)\n"
     ]
    }
   ],
   "source": [
    "print(img.shape)"
   ]
  },
  {
   "cell_type": "markdown",
   "metadata": {},
   "source": [
    "### THEN, IMAGES CAN BE FED INTO THE MODEL FOR PREDICTION"
   ]
  },
  {
   "cell_type": "code",
   "execution_count": 47,
   "metadata": {},
   "outputs": [
    {
     "name": "stdout",
     "output_type": "stream",
     "text": [
      "1/1 [==============================] - 0s 54ms/step\n",
      "the highest confidence is :  6\n",
      "the predicted class is : six\n"
     ]
    }
   ],
   "source": [
    "predictions_img = model.predict(img)\n",
    "\n",
    "max_confidence = np.argmax(predictions_img[0])\n",
    "\n",
    "print('the highest confidence is : ', max_confidence)\n",
    "print('the predicted class is :', class_names[max_confidence])"
   ]
  },
  {
   "cell_type": "markdown",
   "metadata": {},
   "source": [
    "### LET'S VISUVALIZE THE RESULTS."
   ]
  },
  {
   "cell_type": "code",
   "execution_count": 57,
   "metadata": {
    "scrolled": true
   },
   "outputs": [
    {
     "data": {
      "image/png": "[encoded data removed]",
      "text/plain": [
       "<Figure size 1200x400 with 2 Axes>"
      ]
     },
     "metadata": {},
     "output_type": "display_data"
    }
   ],
   "source": [
    "plt.figure(figsize = (12,4))\n",
    "\n",
    "i=140\n",
    "plt.subplot(1,2,1)\n",
    "plt.xticks([])\n",
    "plt.yticks([])\n",
    "if np.argmax(prediction[i]) == test_labels[i]:\n",
    "    color = 'blue'\n",
    "else:\n",
    "    color = 'red'\n",
    "plt.imshow(test_images[i], cmap=plt.cm.binary)\n",
    "plt.xlabel('{} {:2.0f}% ({})'.format(class_names[np.argmax(predictions[i])],\n",
    "                    100*np.max(predictions[i]),class_names[test_labels[i]]),color=color)\n",
    "plt.subplot(1,2,2)\n",
    "plt.xticks(range(10),class_names,rotation = 45)\n",
    "plt.yticks([])\n",
    "thisplot = plt.bar(range(10), prediction[i], color ='gray')\n",
    "plt.ylim([0,1])\n",
    "    \n",
    "thisplot[np.argmax(predictions[i])].set_color('red')\n",
    "thisplot[test_labels[i]].set_color('blue')\n",
    "plt.show()"
   ]
  },
  {
   "cell_type": "code",
   "execution_count": null,
   "metadata": {},
   "outputs": [],
   "source": []
  },
  {
   "cell_type": "code",
   "execution_count": null,
   "metadata": {},
   "outputs": [],
   "source": []
  },
  {
   "cell_type": "code",
   "execution_count": null,
   "metadata": {},
   "outputs": [],
   "source": []
  },
  {
   "cell_type": "code",
   "execution_count": null,
   "metadata": {},
   "outputs": [],
   "source": []
  },
  {
   "cell_type": "code",
   "execution_count": null,
   "metadata": {},
   "outputs": [],
   "source": []
  },
  {
   "cell_type": "code",
   "execution_count": null,
   "metadata": {},
   "outputs": [],
   "source": []
  },
  {
   "cell_type": "code",
   "execution_count": null,
   "metadata": {},
   "outputs": [],
   "source": []
  },
  {
   "cell_type": "code",
   "execution_count": null,
   "metadata": {},
   "outputs": [],
   "source": []
  },
  {
   "cell_type": "code",
   "execution_count": null,
   "metadata": {},
   "outputs": [],
   "source": []
  }
 ],
 "metadata": {
  "kernelspec": {
   "display_name": "Python 3 (ipykernel)",
   "language": "python",
   "name": "python3"
  },
  "language_info": {
   "codemirror_mode": {
    "name": "ipython",
    "version": 3
   },
   "file_extension": ".py",
   "mimetype": "text/x-python",
   "name": "python",
   "nbconvert_exporter": "python",
   "pygments_lexer": "ipython3",
   "version": "3.9.13"
  }
 },
 "nbformat": 4,
 "nbformat_minor": 2
}
