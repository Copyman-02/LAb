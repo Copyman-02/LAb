{
 "cells": [
  {
   "cell_type": "code",
   "execution_count": 1,
   "id": "b75a071d",
   "metadata": {},
   "outputs": [],
   "source": [
    "from tensorflow.keras.datasets import mnist"
   ]
  },
  {
   "cell_type": "code",
   "execution_count": 7,
   "id": "c890d0f3",
   "metadata": {},
   "outputs": [
    {
     "data": {
      "text/plain": [
       "((60000, 28, 28), (10000, 28, 28))"
      ]
     },
     "execution_count": 7,
     "metadata": {},
     "output_type": "execute_result"
    }
   ],
   "source": [
    "#Normalize\n",
    "(x_train, y_train), (x_test, y_test) = mnist.load_data()\n",
    "\n",
    "x_train = x_train.astype(\"float\")/255.0\n",
    "x_test = x_test.astype(\"float\")/255.0\n",
    "\n",
    "\n",
    "x_train.shape, x_test.shape"
   ]
  },
  {
   "cell_type": "code",
   "execution_count": 8,
   "id": "591ee097",
   "metadata": {},
   "outputs": [
    {
     "data": {
      "text/plain": [
       "((60000, 10), (10000, 10))"
      ]
     },
     "execution_count": 8,
     "metadata": {},
     "output_type": "execute_result"
    }
   ],
   "source": [
    "#labeling`\n",
    "from tensorflow.keras.utils import to_categorical\n",
    "y_train = to_categorical(y_train)\n",
    "y_test = to_categorical(y_test)\n",
    "\n",
    "y_train.shape, y_test.shape"
   ]
  },
  {
   "cell_type": "code",
   "execution_count": 10,
   "id": "87d42b26",
   "metadata": {},
   "outputs": [],
   "source": [
    "from tensorflow.keras.models import Sequential\n",
    "from tensorflow.keras.layers import Input, Dense, Flatten"
   ]
  },
  {
   "cell_type": "code",
   "execution_count": 13,
   "id": "37b31e96",
   "metadata": {},
   "outputs": [],
   "source": [
    "model = Sequential([\n",
    "    Input(shape = (28,28)),\n",
    "    Dense(64, \"relu\"),\n",
    "    Dense(32, \"relu\"),\n",
    "    Flatten(),\n",
    "    Dense(10, \"softmax\")\n",
    "])"
   ]
  },
  {
   "cell_type": "code",
   "execution_count": 15,
   "id": "0fbf0d34",
   "metadata": {},
   "outputs": [],
   "source": [
    "model.compile(optimizer = 'adam', loss = 'categorical_crossentropy', metrics = ['Accuracy'])"
   ]
  },
  {
   "cell_type": "code",
   "execution_count": 17,
   "id": "7ce5f99f",
   "metadata": {},
   "outputs": [
    {
     "name": "stdout",
     "output_type": "stream",
     "text": [
      "Epoch 1/5\n",
      "240/240 [==============================] - 14s 30ms/step - loss: 0.6191 - Accuracy: 0.8322 - val_loss: 0.2744 - val_Accuracy: 0.9177\n",
      "Epoch 2/5\n",
      "240/240 [==============================] - 6s 26ms/step - loss: 0.2419 - Accuracy: 0.9300 - val_loss: 0.2068 - val_Accuracy: 0.9396\n",
      "Epoch 3/5\n",
      "240/240 [==============================] - 6s 26ms/step - loss: 0.1884 - Accuracy: 0.9447 - val_loss: 0.1718 - val_Accuracy: 0.9509\n",
      "Epoch 4/5\n",
      "240/240 [==============================] - 5s 19ms/step - loss: 0.1606 - Accuracy: 0.9515 - val_loss: 0.1537 - val_Accuracy: 0.9552\n",
      "Epoch 5/5\n",
      "240/240 [==============================] - 5s 21ms/step - loss: 0.1429 - Accuracy: 0.9573 - val_loss: 0.1416 - val_Accuracy: 0.9580\n"
     ]
    }
   ],
   "source": [
    "train = model.fit(x_train, y_train,validation_split = 0.2, epochs = 5, batch_size = 200)"
   ]
  },
  {
   "cell_type": "code",
   "execution_count": 19,
   "id": "e13bfd9e",
   "metadata": {},
   "outputs": [
    {
     "name": "stdout",
     "output_type": "stream",
     "text": [
      "313/313 [==============================] - 3s 8ms/step - loss: 0.1371 - Accuracy: 0.9599\n"
     ]
    },
    {
     "data": {
      "text/plain": [
       "[0.1370767503976822, 0.9599000215530396]"
      ]
     },
     "execution_count": 19,
     "metadata": {},
     "output_type": "execute_result"
    }
   ],
   "source": [
    "model.evaluate(x_test,y_test)"
   ]
  },
  {
   "cell_type": "code",
   "execution_count": null,
   "id": "6bead40f",
   "metadata": {},
   "outputs": [],
   "source": []
  }
 ],
 "metadata": {
  "kernelspec": {
   "display_name": "Python 3 (ipykernel)",
   "language": "python",
   "name": "python3"
  },
  "language_info": {
   "codemirror_mode": {
    "name": "ipython",
    "version": 3
   },
   "file_extension": ".py",
   "mimetype": "text/x-python",
   "name": "python",
   "nbconvert_exporter": "python",
   "pygments_lexer": "ipython3",
   "version": "3.11.3"
  }
 },
 "nbformat": 4,
 "nbformat_minor": 5
}
