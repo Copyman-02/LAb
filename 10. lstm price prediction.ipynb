{
 "cells": [
  {
   "cell_type": "markdown",
   "metadata": {},
   "source": [
    "### Stock Market Prediction And Forecasting Using Stacked LSTM"
   ]
  },
  {
   "cell_type": "code",
   "execution_count": null,
   "metadata": {},
   "outputs": [],
   "source": [
    "### Keras and Tensorflow >2.0"
   ]
  },
  {
   "cell_type": "code",
   "execution_count": 403,
   "metadata": {},
   "outputs": [],
   "source": [
    "### Data Collection\n",
    "import pandas_datareader as pdr\n",
    "key=\"\""
   ]
  },
  {
   "cell_type": "markdown",
   "metadata": {},
   "source": [
    "### READ THE DATASET"
   ]
  },
  {
   "cell_type": "code",
   "execution_count": 19,
   "metadata": {},
   "outputs": [],
   "source": [
    "import pandas as pd"
   ]
  },
  {
   "cell_type": "code",
   "execution_count": 20,
   "metadata": {},
   "outputs": [],
   "source": [
    "df=pd.read_csv(r\"D:\\m.sc Data science\\data set\\stock market datasets\\AMZN.csv\")"
   ]
  },
  {
   "cell_type": "code",
   "execution_count": 21,
   "metadata": {},
   "outputs": [
    {
     "data": {
      "text/html": [
       "<div>\n",
       "<style scoped>\n",
       "    .dataframe tbody tr th:only-of-type {\n",
       "        vertical-align: middle;\n",
       "    }\n",
       "\n",
       "    .dataframe tbody tr th {\n",
       "        vertical-align: top;\n",
       "    }\n",
       "\n",
       "    .dataframe thead th {\n",
       "        text-align: right;\n",
       "    }\n",
       "</style>\n",
       "<table border=\"1\" class=\"dataframe\">\n",
       "  <thead>\n",
       "    <tr style=\"text-align: right;\">\n",
       "      <th></th>\n",
       "      <th>Date</th>\n",
       "      <th>Open</th>\n",
       "      <th>High</th>\n",
       "      <th>Low</th>\n",
       "      <th>Close</th>\n",
       "      <th>Adj Close</th>\n",
       "      <th>Volume</th>\n",
       "    </tr>\n",
       "  </thead>\n",
       "  <tbody>\n",
       "    <tr>\n",
       "      <th>0</th>\n",
       "      <td>2015-01-02</td>\n",
       "      <td>312.579987</td>\n",
       "      <td>314.750000</td>\n",
       "      <td>306.959991</td>\n",
       "      <td>308.519989</td>\n",
       "      <td>308.519989</td>\n",
       "      <td>2783200</td>\n",
       "    </tr>\n",
       "    <tr>\n",
       "      <th>1</th>\n",
       "      <td>2015-01-05</td>\n",
       "      <td>307.010010</td>\n",
       "      <td>308.380005</td>\n",
       "      <td>300.850006</td>\n",
       "      <td>302.190002</td>\n",
       "      <td>302.190002</td>\n",
       "      <td>2774200</td>\n",
       "    </tr>\n",
       "    <tr>\n",
       "      <th>2</th>\n",
       "      <td>2015-01-06</td>\n",
       "      <td>302.239990</td>\n",
       "      <td>303.000000</td>\n",
       "      <td>292.380005</td>\n",
       "      <td>295.290009</td>\n",
       "      <td>295.290009</td>\n",
       "      <td>3519000</td>\n",
       "    </tr>\n",
       "    <tr>\n",
       "      <th>3</th>\n",
       "      <td>2015-01-07</td>\n",
       "      <td>297.500000</td>\n",
       "      <td>301.279999</td>\n",
       "      <td>295.329987</td>\n",
       "      <td>298.420013</td>\n",
       "      <td>298.420013</td>\n",
       "      <td>2640300</td>\n",
       "    </tr>\n",
       "    <tr>\n",
       "      <th>4</th>\n",
       "      <td>2015-01-08</td>\n",
       "      <td>300.320007</td>\n",
       "      <td>303.140015</td>\n",
       "      <td>296.109985</td>\n",
       "      <td>300.459991</td>\n",
       "      <td>300.459991</td>\n",
       "      <td>3088400</td>\n",
       "    </tr>\n",
       "  </tbody>\n",
       "</table>\n",
       "</div>"
      ],
      "text/plain": [
       "         Date        Open        High         Low       Close   Adj Close  \\\n",
       "0  2015-01-02  312.579987  314.750000  306.959991  308.519989  308.519989   \n",
       "1  2015-01-05  307.010010  308.380005  300.850006  302.190002  302.190002   \n",
       "2  2015-01-06  302.239990  303.000000  292.380005  295.290009  295.290009   \n",
       "3  2015-01-07  297.500000  301.279999  295.329987  298.420013  298.420013   \n",
       "4  2015-01-08  300.320007  303.140015  296.109985  300.459991  300.459991   \n",
       "\n",
       "    Volume  \n",
       "0  2783200  \n",
       "1  2774200  \n",
       "2  3519000  \n",
       "3  2640300  \n",
       "4  3088400  "
      ]
     },
     "execution_count": 21,
     "metadata": {},
     "output_type": "execute_result"
    }
   ],
   "source": [
    "df.head()"
   ]
  },
  {
   "cell_type": "code",
   "execution_count": 22,
   "metadata": {},
   "outputs": [
    {
     "data": {
      "text/html": [
       "<div>\n",
       "<style scoped>\n",
       "    .dataframe tbody tr th:only-of-type {\n",
       "        vertical-align: middle;\n",
       "    }\n",
       "\n",
       "    .dataframe tbody tr th {\n",
       "        vertical-align: top;\n",
       "    }\n",
       "\n",
       "    .dataframe thead th {\n",
       "        text-align: right;\n",
       "    }\n",
       "</style>\n",
       "<table border=\"1\" class=\"dataframe\">\n",
       "  <thead>\n",
       "    <tr style=\"text-align: right;\">\n",
       "      <th></th>\n",
       "      <th>Date</th>\n",
       "      <th>Open</th>\n",
       "      <th>High</th>\n",
       "      <th>Low</th>\n",
       "      <th>Close</th>\n",
       "      <th>Adj Close</th>\n",
       "      <th>Volume</th>\n",
       "    </tr>\n",
       "  </thead>\n",
       "  <tbody>\n",
       "    <tr>\n",
       "      <th>1252</th>\n",
       "      <td>2019-12-23</td>\n",
       "      <td>1788.260010</td>\n",
       "      <td>1793.000000</td>\n",
       "      <td>1784.510010</td>\n",
       "      <td>1793.000000</td>\n",
       "      <td>1793.000000</td>\n",
       "      <td>2136400</td>\n",
       "    </tr>\n",
       "    <tr>\n",
       "      <th>1253</th>\n",
       "      <td>2019-12-24</td>\n",
       "      <td>1793.810059</td>\n",
       "      <td>1795.569946</td>\n",
       "      <td>1787.579956</td>\n",
       "      <td>1789.209961</td>\n",
       "      <td>1789.209961</td>\n",
       "      <td>881300</td>\n",
       "    </tr>\n",
       "    <tr>\n",
       "      <th>1254</th>\n",
       "      <td>2019-12-26</td>\n",
       "      <td>1801.010010</td>\n",
       "      <td>1870.459961</td>\n",
       "      <td>1799.500000</td>\n",
       "      <td>1868.770020</td>\n",
       "      <td>1868.770020</td>\n",
       "      <td>6005400</td>\n",
       "    </tr>\n",
       "    <tr>\n",
       "      <th>1255</th>\n",
       "      <td>2019-12-27</td>\n",
       "      <td>1882.920044</td>\n",
       "      <td>1901.400024</td>\n",
       "      <td>1866.010010</td>\n",
       "      <td>1869.800049</td>\n",
       "      <td>1869.800049</td>\n",
       "      <td>6186600</td>\n",
       "    </tr>\n",
       "    <tr>\n",
       "      <th>1256</th>\n",
       "      <td>2019-12-30</td>\n",
       "      <td>1874.000000</td>\n",
       "      <td>1884.000000</td>\n",
       "      <td>1840.619995</td>\n",
       "      <td>1846.890015</td>\n",
       "      <td>1846.890015</td>\n",
       "      <td>3674700</td>\n",
       "    </tr>\n",
       "  </tbody>\n",
       "</table>\n",
       "</div>"
      ],
      "text/plain": [
       "            Date         Open         High          Low        Close  \\\n",
       "1252  2019-12-23  1788.260010  1793.000000  1784.510010  1793.000000   \n",
       "1253  2019-12-24  1793.810059  1795.569946  1787.579956  1789.209961   \n",
       "1254  2019-12-26  1801.010010  1870.459961  1799.500000  1868.770020   \n",
       "1255  2019-12-27  1882.920044  1901.400024  1866.010010  1869.800049   \n",
       "1256  2019-12-30  1874.000000  1884.000000  1840.619995  1846.890015   \n",
       "\n",
       "        Adj Close   Volume  \n",
       "1252  1793.000000  2136400  \n",
       "1253  1789.209961   881300  \n",
       "1254  1868.770020  6005400  \n",
       "1255  1869.800049  6186600  \n",
       "1256  1846.890015  3674700  "
      ]
     },
     "execution_count": 22,
     "metadata": {},
     "output_type": "execute_result"
    }
   ],
   "source": [
    "df.tail()"
   ]
  },
  {
   "cell_type": "code",
   "execution_count": 23,
   "metadata": {},
   "outputs": [],
   "source": [
    "df1=df.reset_index()['Close']"
   ]
  },
  {
   "cell_type": "code",
   "execution_count": 24,
   "metadata": {},
   "outputs": [
    {
     "data": {
      "text/plain": [
       "0        308.519989\n",
       "1        302.190002\n",
       "2        295.290009\n",
       "3        298.420013\n",
       "4        300.459991\n",
       "           ...     \n",
       "1252    1793.000000\n",
       "1253    1789.209961\n",
       "1254    1868.770020\n",
       "1255    1869.800049\n",
       "1256    1846.890015\n",
       "Name: Close, Length: 1257, dtype: float64"
      ]
     },
     "execution_count": 24,
     "metadata": {},
     "output_type": "execute_result"
    }
   ],
   "source": [
    "df1"
   ]
  },
  {
   "cell_type": "markdown",
   "metadata": {},
   "source": [
    "### PLOT THE CLOSE INDEX"
   ]
  },
  {
   "cell_type": "code",
   "execution_count": 25,
   "metadata": {},
   "outputs": [
    {
     "data": {
      "text/plain": [
       "[<matplotlib.lines.Line2D at 0x1e804ea5a60>]"
      ]
     },
     "execution_count": 25,
     "metadata": {},
     "output_type": "execute_result"
    },
    {
     "data": {
      "image/png": "[encoded data removed]",
      "text/plain": [
       "<Figure size 640x480 with 1 Axes>"
      ]
     },
     "metadata": {},
     "output_type": "display_data"
    }
   ],
   "source": [
    "import matplotlib.pyplot as plt\n",
    "plt.plot(df1)"
   ]
  },
  {
   "cell_type": "code",
   "execution_count": 26,
   "metadata": {},
   "outputs": [],
   "source": [
    "### LSTM are sensitive to the scale of the data. so we apply MinMax scaler "
   ]
  },
  {
   "cell_type": "code",
   "execution_count": 27,
   "metadata": {},
   "outputs": [],
   "source": [
    "import numpy as np"
   ]
  },
  {
   "cell_type": "code",
   "execution_count": 28,
   "metadata": {},
   "outputs": [
    {
     "data": {
      "text/plain": [
       "0        308.519989\n",
       "1        302.190002\n",
       "2        295.290009\n",
       "3        298.420013\n",
       "4        300.459991\n",
       "           ...     \n",
       "1252    1793.000000\n",
       "1253    1789.209961\n",
       "1254    1868.770020\n",
       "1255    1869.800049\n",
       "1256    1846.890015\n",
       "Name: Close, Length: 1257, dtype: float64"
      ]
     },
     "execution_count": 28,
     "metadata": {},
     "output_type": "execute_result"
    }
   ],
   "source": [
    "df1"
   ]
  },
  {
   "cell_type": "markdown",
   "metadata": {},
   "source": [
    "### PREPROCESSING THE DATSET"
   ]
  },
  {
   "cell_type": "code",
   "execution_count": 30,
   "metadata": {},
   "outputs": [],
   "source": [
    "from sklearn.preprocessing import MinMaxScaler\n",
    "scaler=MinMaxScaler(feature_range=(-1,1))\n",
    "df1=scaler.fit_transform(np.array(df1).reshape(-1,1))"
   ]
  },
  {
   "cell_type": "code",
   "execution_count": 31,
   "metadata": {},
   "outputs": [
    {
     "name": "stdout",
     "output_type": "stream",
     "text": [
      "[[-0.97538461]\n",
      " [-0.98260831]\n",
      " [-0.9904825 ]\n",
      " ...\n",
      " [ 0.80515362]\n",
      " [ 0.80632907]\n",
      " [ 0.78018442]]\n"
     ]
    }
   ],
   "source": [
    "print(df1)"
   ]
  },
  {
   "cell_type": "markdown",
   "metadata": {},
   "source": [
    "### SPLIT THE DATASET"
   ]
  },
  {
   "cell_type": "code",
   "execution_count": 32,
   "metadata": {},
   "outputs": [],
   "source": [
    "##splitting dataset into train and test split\n",
    "training_size=int(len(df1)*0.65)\n",
    "test_size=len(df1)-training_size\n",
    "train_data,test_data=df1[0:training_size,:],df1[training_size:len(df1),:1]"
   ]
  },
  {
   "cell_type": "code",
   "execution_count": 33,
   "metadata": {},
   "outputs": [
    {
     "data": {
      "text/plain": [
       "(817, 440)"
      ]
     },
     "execution_count": 33,
     "metadata": {},
     "output_type": "execute_result"
    }
   ],
   "source": [
    "training_size,test_size"
   ]
  },
  {
   "cell_type": "code",
   "execution_count": 34,
   "metadata": {},
   "outputs": [
    {
     "data": {
      "text/plain": [
       "array([[-0.97538461],\n",
       "       [-0.98260831],\n",
       "       [-0.9904825 ],\n",
       "       [-0.98691058],\n",
       "       [-0.98458258],\n",
       "       [-0.98861097],\n",
       "       [-0.99491031],\n",
       "       [-0.99111017],\n",
       "       [-0.99278772],\n",
       "       [-1.        ],\n",
       "       [-0.99567492],\n",
       "       [-0.99715845],\n",
       "       [-0.98824578],\n",
       "       [-0.97333045],\n",
       "       [-0.97096818],\n",
       "       [-0.97408364],\n",
       "       [-0.9774045 ],\n",
       "       [-0.98064546],\n",
       "       [-0.97166432],\n",
       "       [-0.92287855],\n",
       "       [-0.91153514],\n",
       "       [-0.91258505],\n",
       "       [-0.91121561],\n",
       "       [-0.90078513],\n",
       "       [-0.90034009],\n",
       "       [-0.90458531],\n",
       "       [-0.90180081],\n",
       "       [-0.89935865],\n",
       "       [-0.89704204],\n",
       "       [-0.89172413],\n",
       "       [-0.89902773],\n",
       "       [-0.90137857],\n",
       "       [-0.89495368],\n",
       "       [-0.88963574],\n",
       "       [-0.89365271],\n",
       "       [-0.89542157],\n",
       "       [-0.88768432],\n",
       "       [-0.88833481],\n",
       "       [-0.8936299 ],\n",
       "       [-0.88735337],\n",
       "       [-0.88855164],\n",
       "       [-0.89070846],\n",
       "       [-0.88487701],\n",
       "       [-0.89370979],\n",
       "       [-0.89545581],\n",
       "       [-0.90578354],\n",
       "       [-0.90936689],\n",
       "       [-0.90038575],\n",
       "       [-0.9045625 ],\n",
       "       [-0.90140139],\n",
       "       [-0.90303328],\n",
       "       [-0.89935865],\n",
       "       [-0.90152693],\n",
       "       [-0.8955357 ],\n",
       "       [-0.89939292],\n",
       "       [-0.90055692],\n",
       "       [-0.90412884],\n",
       "       [-0.90824851],\n",
       "       [-0.90458531],\n",
       "       [-0.89998632],\n",
       "       [-0.90282787],\n",
       "       [-0.90492765],\n",
       "       [-0.9026567 ],\n",
       "       [-0.8971904 ],\n",
       "       [-0.90019173],\n",
       "       [-0.89244305],\n",
       "       [-0.88977268],\n",
       "       [-0.89078835],\n",
       "       [-0.89111931],\n",
       "       [-0.88798104],\n",
       "       [-0.88987538],\n",
       "       [-0.88691971],\n",
       "       [-0.89887937],\n",
       "       [-0.88295979],\n",
       "       [-0.88105402],\n",
       "       [-0.88262887],\n",
       "       [-0.88241204],\n",
       "       [-0.81952116],\n",
       "       [-0.82698454],\n",
       "       [-0.83754053],\n",
       "       [-0.83747206],\n",
       "       [-0.84613367],\n",
       "       [-0.84488978],\n",
       "       [-0.84469576],\n",
       "       [-0.84680697],\n",
       "       [-0.84919205],\n",
       "       [-0.84031361],\n",
       "       [-0.83254212],\n",
       "       [-0.83350071],\n",
       "       [-0.83558911],\n",
       "       [-0.84032503],\n",
       "       [-0.8341512 ],\n",
       "       [-0.84131786],\n",
       "       [-0.84218517],\n",
       "       [-0.84621356],\n",
       "       [-0.84376002],\n",
       "       [-0.83489296],\n",
       "       [-0.83945772],\n",
       "       [-0.84192269],\n",
       "       [-0.8351326 ],\n",
       "       [-0.84066737],\n",
       "       [-0.83763181],\n",
       "       [-0.8357032 ],\n",
       "       [-0.83562334],\n",
       "       [-0.82923268],\n",
       "       [-0.83586298],\n",
       "       [-0.84023372],\n",
       "       [-0.84417083],\n",
       "       [-0.84191126],\n",
       "       [-0.8358744 ],\n",
       "       [-0.83336378],\n",
       "       [-0.83684439],\n",
       "       [-0.84397681],\n",
       "       [-0.83987995],\n",
       "       [-0.83925231],\n",
       "       [-0.82603734],\n",
       "       [-0.83113845],\n",
       "       [-0.82957502],\n",
       "       [-0.81850553],\n",
       "       [-0.82438264],\n",
       "       [-0.8252271 ],\n",
       "       [-0.82750948],\n",
       "       [-0.83691289],\n",
       "       [-0.83208565],\n",
       "       [-0.82831971],\n",
       "       [-0.82795456],\n",
       "       [-0.82986032],\n",
       "       [-0.82908432],\n",
       "       [-0.83709545],\n",
       "       [-0.83174327],\n",
       "       [-0.82133565],\n",
       "       [-0.80757293],\n",
       "       [-0.79616105],\n",
       "       [-0.80115946],\n",
       "       [-0.78485187],\n",
       "       [-0.77625873],\n",
       "       [-0.77045009],\n",
       "       [-0.77056422],\n",
       "       [-0.77025611],\n",
       "       [-0.77720594],\n",
       "       [-0.72329624],\n",
       "       [-0.72102529],\n",
       "       [-0.72716481],\n",
       "       [-0.72377552],\n",
       "       [-0.71491989],\n",
       "       [-0.715616  ],\n",
       "       [-0.71689412],\n",
       "       [-0.72046605],\n",
       "       [-0.71463459],\n",
       "       [-0.72325055],\n",
       "       [-0.7310563 ],\n",
       "       [-0.72948146],\n",
       "       [-0.72553292],\n",
       "       [-0.72730182],\n",
       "       [-0.72302237],\n",
       "       [-0.7208997 ],\n",
       "       [-0.71667736],\n",
       "       [-0.71690555],\n",
       "       [-0.71930208],\n",
       "       [-0.73886199],\n",
       "       [-0.76318073],\n",
       "       [-0.79867168],\n",
       "       [-0.79524811],\n",
       "       [-0.75599126],\n",
       "       [-0.73590635],\n",
       "       [-0.73631716],\n",
       "       [-0.74216004],\n",
       "       [-0.76081846],\n",
       "       [-0.74483045],\n",
       "       [-0.75148356],\n",
       "       [-0.75801115],\n",
       "       [-0.73685356],\n",
       "       [-0.73759529],\n",
       "       [-0.73148996],\n",
       "       [-0.72327339],\n",
       "       [-0.73247136],\n",
       "       [-0.7313416 ],\n",
       "       [-0.72561281],\n",
       "       [-0.712512  ],\n",
       "       [-0.71092573],\n",
       "       [-0.70164787],\n",
       "       [-0.71304833],\n",
       "       [-0.71570731],\n",
       "       [-0.71835488],\n",
       "       [-0.72919616],\n",
       "       [-0.75223674],\n",
       "       [-0.76135482],\n",
       "       [-0.74330122],\n",
       "       [-0.73322459],\n",
       "       [-0.71973574],\n",
       "       [-0.70702289],\n",
       "       [-0.71409827],\n",
       "       [-0.70900855],\n",
       "       [-0.71902821],\n",
       "       [-0.7114507 ],\n",
       "       [-0.69959375],\n",
       "       [-0.70106586],\n",
       "       [-0.7057105 ],\n",
       "       [-0.6856142 ],\n",
       "       [-0.67611951],\n",
       "       [-0.67339205],\n",
       "       [-0.68739445],\n",
       "       [-0.6932259 ],\n",
       "       [-0.68393669],\n",
       "       [-0.64385811],\n",
       "       [-0.63292558],\n",
       "       [-0.6301867 ],\n",
       "       [-0.62323691],\n",
       "       [-0.61245267],\n",
       "       [-0.6131944 ],\n",
       "       [-0.61039854],\n",
       "       [-0.61386773],\n",
       "       [-0.59601954],\n",
       "       [-0.57924406],\n",
       "       [-0.57499888],\n",
       "       [-0.57942669],\n",
       "       [-0.57464511],\n",
       "       [-0.55915919],\n",
       "       [-0.5678893 ],\n",
       "       [-0.59442191],\n",
       "       [-0.588191  ],\n",
       "       [-0.59333777],\n",
       "       [-0.57024014],\n",
       "       [-0.57283059],\n",
       "       [-0.56463687],\n",
       "       [-0.55260878],\n",
       "       [-0.56155565],\n",
       "       [-0.55677407],\n",
       "       [-0.55914776],\n",
       "       [-0.56880224],\n",
       "       [-0.55252889],\n",
       "       [-0.5560095 ],\n",
       "       [-0.5671475 ],\n",
       "       [-0.55985529],\n",
       "       [-0.56306203],\n",
       "       [-0.55450312],\n",
       "       [-0.56881366],\n",
       "       [-0.57163236],\n",
       "       [-0.59693247],\n",
       "       [-0.57666504],\n",
       "       [-0.57583192],\n",
       "       [-0.55628337],\n",
       "       [-0.56212625],\n",
       "       [-0.56955539],\n",
       "       [-0.56913316],\n",
       "       [-0.57068515],\n",
       "       [-0.57005752],\n",
       "       [-0.57109604],\n",
       "       [-0.55693386],\n",
       "       [-0.53551381],\n",
       "       [-0.54110559],\n",
       "       [-0.55614643],\n",
       "       [-0.60053867],\n",
       "       [-0.60419048],\n",
       "       [-0.60549138],\n",
       "       [-0.63369016],\n",
       "       [-0.63470583],\n",
       "       [-0.62250653],\n",
       "       [-0.62233532],\n",
       "       [-0.6635094 ],\n",
       "       [-0.6507395 ],\n",
       "       [-0.67678142],\n",
       "       [-0.67187432],\n",
       "       [-0.6749669 ],\n",
       "       [-0.67125804],\n",
       "       [-0.64688228],\n",
       "       [-0.64671108],\n",
       "       [-0.6413247 ],\n",
       "       [-0.66175199],\n",
       "       [-0.60241023],\n",
       "       [-0.65758663],\n",
       "       [-0.67149771],\n",
       "       [-0.69741411],\n",
       "       [-0.72141325],\n",
       "       [-0.71549048],\n",
       "       [-0.75443923],\n",
       "       [-0.77045009],\n",
       "       [-0.77733145],\n",
       "       [-0.76773406],\n",
       "       [-0.75251062],\n",
       "       [-0.74879037],\n",
       "       [-0.73279093],\n",
       "       [-0.71795549],\n",
       "       [-0.72834027],\n",
       "       [-0.71704248],\n",
       "       [-0.68896929],\n",
       "       [-0.69645548],\n",
       "       [-0.6952002 ],\n",
       "       [-0.69393343],\n",
       "       [-0.69384219],\n",
       "       [-0.69693476],\n",
       "       [-0.66667051],\n",
       "       [-0.66533527],\n",
       "       [-0.66843934],\n",
       "       [-0.6711211 ],\n",
       "       [-0.68520339],\n",
       "       [-0.68810198],\n",
       "       [-0.68900356],\n",
       "       [-0.68961978],\n",
       "       [-0.6774319 ],\n",
       "       [-0.67314102],\n",
       "       [-0.66897566],\n",
       "       [-0.67211393],\n",
       "       [-0.68903776],\n",
       "       [-0.69743689],\n",
       "       [-0.69526867],\n",
       "       [-0.68785095],\n",
       "       [-0.67740905],\n",
       "       [-0.66220843],\n",
       "       [-0.6657233 ],\n",
       "       [-0.6497581 ],\n",
       "       [-0.64424614],\n",
       "       [-0.65000913],\n",
       "       [-0.64446297],\n",
       "       [-0.65052268],\n",
       "       [-0.65856803],\n",
       "       [-0.6403775 ],\n",
       "       [-0.65253118],\n",
       "       [-0.64891363],\n",
       "       [-0.64739583],\n",
       "       [-0.63913364],\n",
       "       [-0.62583878],\n",
       "       [-0.61907154],\n",
       "       [-0.61320582],\n",
       "       [-0.60241023],\n",
       "       [-0.61091202],\n",
       "       [-0.60510342],\n",
       "       [-0.60737437],\n",
       "       [-0.61935684],\n",
       "       [-0.61285206],\n",
       "       [-0.62348793],\n",
       "       [-0.63525358],\n",
       "       [-0.64046881],\n",
       "       [-0.57474778],\n",
       "       [-0.54706262],\n",
       "       [-0.56136167],\n",
       "       [-0.56184095],\n",
       "       [-0.57531837],\n",
       "       [-0.55836034],\n",
       "       [-0.55174147],\n",
       "       [-0.52512896],\n",
       "       [-0.51353452],\n",
       "       [-0.50817093],\n",
       "       [-0.51731185],\n",
       "       [-0.51646738],\n",
       "       [-0.53403021],\n",
       "       [-0.53154243],\n",
       "       [-0.53032135],\n",
       "       [-0.5254371 ],\n",
       "       [-0.53234127],\n",
       "       [-0.52383941],\n",
       "       [-0.51910352],\n",
       "       [-0.51161734],\n",
       "       [-0.51466429],\n",
       "       [-0.50262477],\n",
       "       [-0.50644772],\n",
       "       [-0.49640528],\n",
       "       [-0.4994865 ],\n",
       "       [-0.49812849],\n",
       "       [-0.50154063],\n",
       "       [-0.49823115],\n",
       "       [-0.49707855],\n",
       "       [-0.50819377],\n",
       "       [-0.51124072],\n",
       "       [-0.5066075 ],\n",
       "       [-0.51235907],\n",
       "       [-0.5086502 ],\n",
       "       [-0.52134021],\n",
       "       [-0.51264436],\n",
       "       [-0.51057882],\n",
       "       [-0.51653585],\n",
       "       [-0.50343497],\n",
       "       [-0.52981922],\n",
       "       [-0.53849229],\n",
       "       [-0.51955996],\n",
       "       [-0.51082991],\n",
       "       [-0.51080707],\n",
       "       [-0.49932672],\n",
       "       [-0.49656507],\n",
       "       [-0.48571236],\n",
       "       [-0.48689917],\n",
       "       [-0.47635461],\n",
       "       [-0.4672593 ],\n",
       "       [-0.47361573],\n",
       "       [-0.47998357],\n",
       "       [-0.48161546],\n",
       "       [-0.48818872],\n",
       "       [-0.48746976],\n",
       "       [-0.48304195],\n",
       "       [-0.47645734],\n",
       "       [-0.47792945],\n",
       "       [-0.47743875],\n",
       "       [-0.48342998],\n",
       "       [-0.48801751],\n",
       "       [-0.48678508],\n",
       "       [-0.46859454],\n",
       "       [-0.46151916],\n",
       "       [-0.45132837],\n",
       "       [-0.45949924],\n",
       "       [-0.4662779 ],\n",
       "       [-0.45928241],\n",
       "       [-0.45333687],\n",
       "       [-0.45267496],\n",
       "       [-0.45067788],\n",
       "       [-0.45039258],\n",
       "       [-0.44733421],\n",
       "       [-0.44582783],\n",
       "       [-0.45047248],\n",
       "       [-0.45555078],\n",
       "       [-0.45487744],\n",
       "       [-0.45507143],\n",
       "       [-0.46323095],\n",
       "       [-0.46075459],\n",
       "       [-0.45736523],\n",
       "       [-0.46329942],\n",
       "       [-0.46105131],\n",
       "       [-0.44989046],\n",
       "       [-0.44727716],\n",
       "       [-0.45151093],\n",
       "       [-0.4497079 ],\n",
       "       [-0.44804174],\n",
       "       [-0.44596477],\n",
       "       [-0.42721506],\n",
       "       [-0.4322249 ],\n",
       "       [-0.43270417],\n",
       "       [-0.46000137],\n",
       "       [-0.44704891],\n",
       "       [-0.45900854],\n",
       "       [-0.45891722],\n",
       "       [-0.44910304],\n",
       "       [-0.43902633],\n",
       "       [-0.44292924],\n",
       "       [-0.43708637],\n",
       "       [-0.42622224],\n",
       "       [-0.40915004],\n",
       "       [-0.40795181],\n",
       "       [-0.41547227],\n",
       "       [-0.39612912],\n",
       "       [-0.38173876],\n",
       "       [-0.38136215],\n",
       "       [-0.37193593],\n",
       "       [-0.37258641],\n",
       "       [-0.37567899],\n",
       "       [-0.36389057],\n",
       "       [-0.36697179],\n",
       "       [-0.36951661],\n",
       "       [-0.36691467],\n",
       "       [-0.37913682],\n",
       "       [-0.37561052],\n",
       "       [-0.38109963],\n",
       "       [-0.38831194],\n",
       "       [-0.39973524],\n",
       "       [-0.39437165],\n",
       "       [-0.39432603],\n",
       "       [-0.40273657],\n",
       "       [-0.39284249],\n",
       "       [-0.37104577],\n",
       "       [-0.37436666],\n",
       "       [-0.38873418],\n",
       "       [-0.39356145],\n",
       "       [-0.44153696],\n",
       "       [-0.42613092],\n",
       "       [-0.4311636 ],\n",
       "       [-0.45381615],\n",
       "       [-0.45213857],\n",
       "       [-0.46581004],\n",
       "       [-0.43171135],\n",
       "       [-0.42849319],\n",
       "       [-0.44660383],\n",
       "       [-0.48026887],\n",
       "       [-0.48411467],\n",
       "       [-0.50686996],\n",
       "       [-0.47928747],\n",
       "       [-0.47557861],\n",
       "       [-0.4642694 ],\n",
       "       [-0.45997859],\n",
       "       [-0.43733739],\n",
       "       [-0.43125484],\n",
       "       [-0.43720046],\n",
       "       [-0.43691516],\n",
       "       [-0.45243528],\n",
       "       [-0.45728533],\n",
       "       [-0.47092254],\n",
       "       [-0.47881954],\n",
       "       [-0.48259687],\n",
       "       [-0.46089153],\n",
       "       [-0.45477478],\n",
       "       [-0.44826999],\n",
       "       [-0.45179622],\n",
       "       [-0.45027849],\n",
       "       [-0.46002421],\n",
       "       [-0.44379649],\n",
       "       [-0.45009586],\n",
       "       [-0.45901996],\n",
       "       [-0.46270597],\n",
       "       [-0.45331402],\n",
       "       [-0.44735706],\n",
       "       [-0.44806459],\n",
       "       [-0.45292599],\n",
       "       [-0.45948782],\n",
       "       [-0.44715158],\n",
       "       [-0.44631854],\n",
       "       [-0.454284  ],\n",
       "       [-0.47172139],\n",
       "       [-0.46738489],\n",
       "       [-0.46337931],\n",
       "       [-0.43682385],\n",
       "       [-0.41908981],\n",
       "       [-0.41802852],\n",
       "       [-0.41919248],\n",
       "       [-0.41563198],\n",
       "       [-0.39894782],\n",
       "       [-0.39495366],\n",
       "       [-0.40342133],\n",
       "       [-0.40597758],\n",
       "       [-0.40419733],\n",
       "       [-0.40500753],\n",
       "       [-0.3941092 ],\n",
       "       [-0.38890538],\n",
       "       [-0.37283744],\n",
       "       [-0.36983611],\n",
       "       [-0.37369333],\n",
       "       [-0.37984435],\n",
       "       [-0.38771857],\n",
       "       [-0.37759624],\n",
       "       [-0.36892317],\n",
       "       [-0.40287351],\n",
       "       [-0.40579495],\n",
       "       [-0.40024879],\n",
       "       [-0.3920208 ],\n",
       "       [-0.39013789],\n",
       "       [-0.3831766 ],\n",
       "       [-0.37282602],\n",
       "       [-0.3729858 ],\n",
       "       [-0.36578491],\n",
       "       [-0.36414159],\n",
       "       [-0.3630803 ],\n",
       "       [-0.350105  ],\n",
       "       [-0.35105221],\n",
       "       [-0.35495505],\n",
       "       [-0.36288632],\n",
       "       [-0.35900625],\n",
       "       [-0.36311457],\n",
       "       [-0.35393937],\n",
       "       [-0.35869818],\n",
       "       [-0.35759119],\n",
       "       [-0.36132289],\n",
       "       [-0.36199616],\n",
       "       [-0.35688366],\n",
       "       [-0.35403069],\n",
       "       [-0.3546469 ],\n",
       "       [-0.35221617],\n",
       "       [-0.35456701],\n",
       "       [-0.35406496],\n",
       "       [-0.35355141],\n",
       "       [-0.35481811],\n",
       "       [-0.34950021],\n",
       "       [-0.36521431],\n",
       "       [-0.35966816],\n",
       "       [-0.36044416],\n",
       "       [-0.36246408],\n",
       "       [-0.36108322],\n",
       "       [-0.35060712],\n",
       "       [-0.32970056],\n",
       "       [-0.32739534],\n",
       "       [-0.31575528],\n",
       "       [-0.31008354],\n",
       "       [-0.29260053],\n",
       "       [-0.28980461],\n",
       "       [-0.30235767],\n",
       "       [-0.30623774],\n",
       "       [-0.29236093],\n",
       "       [-0.29770168],\n",
       "       [-0.30469716],\n",
       "       [-0.31788929],\n",
       "       [-0.29812391],\n",
       "       [-0.29608114],\n",
       "       [-0.3013078 ],\n",
       "       [-0.29804402],\n",
       "       [-0.30207238],\n",
       "       [-0.29193869],\n",
       "       [-0.29169902],\n",
       "       [-0.28979325],\n",
       "       [-0.27941983],\n",
       "       [-0.27187659],\n",
       "       [-0.2453554 ],\n",
       "       [-0.24682751],\n",
       "       [-0.2535719 ],\n",
       "       [-0.25756605],\n",
       "       [-0.26142327],\n",
       "       [-0.24443104],\n",
       "       [-0.24011732],\n",
       "       [-0.24453371],\n",
       "       [-0.24605151],\n",
       "       [-0.23038302],\n",
       "       [-0.23424024],\n",
       "       [-0.22499658],\n",
       "       [-0.24931529],\n",
       "       [-0.2336468 ],\n",
       "       [-0.23210616],\n",
       "       [-0.21974714],\n",
       "       [-0.21875432],\n",
       "       [-0.20870046],\n",
       "       [-0.19383075],\n",
       "       [-0.19109187],\n",
       "       [-0.19004199],\n",
       "       [-0.19241568],\n",
       "       [-0.19089789],\n",
       "       [-0.17859592],\n",
       "       [-0.17333499],\n",
       "       [-0.18285253],\n",
       "       [-0.17478432],\n",
       "       [-0.17455607],\n",
       "       [-0.21102845],\n",
       "       [-0.2263204 ],\n",
       "       [-0.20819833],\n",
       "       [-0.21312827],\n",
       "       [-0.22716487],\n",
       "       [-0.20030126],\n",
       "       [-0.19178805],\n",
       "       [-0.19473226],\n",
       "       [-0.18373126],\n",
       "       [-0.18479256],\n",
       "       [-0.18200806],\n",
       "       [-0.19314606],\n",
       "       [-0.21277444],\n",
       "       [-0.19731136],\n",
       "       [-0.21374449],\n",
       "       [-0.2227941 ],\n",
       "       [-0.23915876],\n",
       "       [-0.21891403],\n",
       "       [-0.22605788],\n",
       "       [-0.21051491],\n",
       "       [-0.19030451],\n",
       "       [-0.19297486],\n",
       "       [-0.17884695],\n",
       "       [-0.18555713],\n",
       "       [-0.18421054],\n",
       "       [-0.17481859],\n",
       "       [-0.1583741 ],\n",
       "       [-0.15561238],\n",
       "       [-0.15352406],\n",
       "       [-0.15698175],\n",
       "       [-0.14182688],\n",
       "       [-0.14077694],\n",
       "       [-0.12602132],\n",
       "       [-0.13378145],\n",
       "       [-0.16340671],\n",
       "       [-0.20022137],\n",
       "       [-0.19062401],\n",
       "       [-0.19096635],\n",
       "       [-0.20120284],\n",
       "       [-0.20044962],\n",
       "       [-0.19509745],\n",
       "       [-0.19787053],\n",
       "       [-0.20680605],\n",
       "       [-0.23543848],\n",
       "       [-0.22280552],\n",
       "       [-0.20533394],\n",
       "       [-0.205973  ],\n",
       "       [-0.21117681],\n",
       "       [-0.23127311],\n",
       "       [-0.23366965],\n",
       "       [-0.23958099],\n",
       "       [-0.22404938],\n",
       "       [-0.23420597],\n",
       "       [-0.24053955],\n",
       "       [-0.24874469],\n",
       "       [-0.24787738],\n",
       "       [-0.23870226],\n",
       "       [-0.22326195],\n",
       "       [-0.20841516],\n",
       "       [-0.21109692],\n",
       "       [-0.22590952],\n",
       "       [-0.22302235],\n",
       "       [-0.20970471],\n",
       "       [-0.22519056],\n",
       "       [-0.21142784],\n",
       "       [-0.20615556],\n",
       "       [-0.18673259],\n",
       "       [-0.19516592],\n",
       "       [-0.2013512 ],\n",
       "       [-0.21573014],\n",
       "       [-0.2206715 ],\n",
       "       [-0.21684848],\n",
       "       [-0.22661705],\n",
       "       [-0.23751545],\n",
       "       [-0.25498703],\n",
       "       [-0.25634504],\n",
       "       [-0.24234265],\n",
       "       [-0.23603185],\n",
       "       [-0.23038302],\n",
       "       [-0.23284796],\n",
       "       [-0.23523307],\n",
       "       [-0.22570411],\n",
       "       [-0.20812986],\n",
       "       [-0.19816725],\n",
       "       [-0.1965582 ],\n",
       "       [-0.20088328],\n",
       "       [-0.19198203],\n",
       "       [-0.18521479],\n",
       "       [-0.18292099],\n",
       "       [-0.17904093],\n",
       "       [-0.17585704],\n",
       "       [-0.18969965],\n",
       "       [-0.20155661],\n",
       "       [-0.20577902],\n",
       "       [-0.22473413],\n",
       "       [-0.21377869],\n",
       "       [-0.2171909 ],\n",
       "       [-0.21773864],\n",
       "       [-0.07107324],\n",
       "       [-0.05977545],\n",
       "       [-0.06613181],\n",
       "       [-0.06795768],\n",
       "       [-0.07875341],\n",
       "       [-0.05891956],\n",
       "       [-0.04858034],\n",
       "       [-0.04571594],\n",
       "       [-0.03463506],\n",
       "       [-0.03891451],\n",
       "       [-0.04322823],\n",
       "       [-0.03886882],\n",
       "       [-0.030116  ],\n",
       "       [-0.04169908],\n",
       "       [-0.02960238],\n",
       "       [-0.03805862],\n",
       "       [-0.0421326 ],\n",
       "       [-0.02709182],\n",
       "       [-0.00806817],\n",
       "       [ 0.02598483],\n",
       "       [ 0.03720266],\n",
       "       [ 0.03465783],\n",
       "       [-0.00223672],\n",
       "       [ 0.01542885],\n",
       "       [-0.00100429],\n",
       "       [-0.03341405],\n",
       "       [-0.0247182 ],\n",
       "       [-0.01241616],\n",
       "       [-0.00392565],\n",
       "       [-0.00140367],\n",
       "       [ 0.0064934 ],\n",
       "       [ 0.00211113],\n",
       "       [ 0.00102706],\n",
       "       [ 0.0125873 ],\n",
       "       [ 0.0181563 ],\n",
       "       [ 0.03121142],\n",
       "       [ 0.02755968],\n",
       "       [ 0.01642167],\n",
       "       [ 0.01315789],\n",
       "       [ 0.00585426],\n",
       "       [ 0.01544027],\n",
       "       [ 0.0217168 ],\n",
       "       [ 0.02609892],\n",
       "       [ 0.00712097],\n",
       "       [ 0.02941982],\n",
       "       [ 0.04675439],\n",
       "       [ 0.05290541],\n",
       "       [ 0.07521569],\n",
       "       [ 0.09544893],\n",
       "       [ 0.102102  ],\n",
       "       [ 0.10396214],\n",
       "       [ 0.1294678 ],\n",
       "       [ 0.16201436],\n",
       "       [ 0.16162639],\n",
       "       [ 0.1503743 ],\n",
       "       [ 0.14845704],\n",
       "       [ 0.14989495],\n",
       "       [ 0.18724614],\n",
       "       [ 0.22745016],\n",
       "       [ 0.22170995],\n",
       "       [ 0.24503577],\n",
       "       [ 0.2725385 ],\n",
       "       [ 0.29037527],\n",
       "       [ 0.31335867],\n",
       "       [ 0.32827407],\n",
       "       [ 0.25878713],\n",
       "       [ 0.30437753],\n",
       "       [ 0.25878713],\n",
       "       [ 0.31908746],\n",
       "       [ 0.28934817],\n",
       "       [ 0.21371022],\n",
       "       [ 0.20127124],\n",
       "       [ 0.25448483],\n",
       "       [ 0.28675766],\n",
       "       [ 0.3284567 ],\n",
       "       [ 0.34067878],\n",
       "       [ 0.32576338],\n",
       "       [ 0.34819917],\n",
       "       [ 0.36482635],\n",
       "       [ 0.36758793],\n",
       "       [ 0.38431779],\n",
       "       [ 0.4093668 ],\n",
       "       [ 0.39798919],\n",
       "       [ 0.39852552],\n",
       "       [ 0.37684295],\n",
       "       [ 0.38460308],\n",
       "       [ 0.41126121],\n",
       "       [ 0.42727211],\n",
       "       [ 0.43567123],\n",
       "       [ 0.44349977],\n",
       "       [ 0.4743461 ],\n",
       "       [ 0.49659927],\n",
       "       [ 0.48494778],\n",
       "       [ 0.48816587],\n",
       "       [ 0.4782603 ],\n",
       "       [ 0.46611819],\n",
       "       [ 0.43559141],\n",
       "       [ 0.48304195],\n",
       "       [ 0.4777354 ],\n",
       "       [ 0.43557999],\n",
       "       [ 0.37925098],\n",
       "       [ 0.44806452],\n",
       "       [ 0.38095134],\n",
       "       [ 0.30605518],\n",
       "       [ 0.3242228 ],\n",
       "       [ 0.23823433]])"
      ]
     },
     "execution_count": 34,
     "metadata": {},
     "output_type": "execute_result"
    }
   ],
   "source": [
    "train_data"
   ]
  },
  {
   "cell_type": "code",
   "execution_count": 35,
   "metadata": {},
   "outputs": [],
   "source": [
    "import numpy\n",
    "# convert an array of values into a dataset matrix\n",
    "def create_dataset(dataset, time_step=1):\n",
    "    dataX, dataY = [], []\n",
    "    for i in range(len(dataset)-time_step-1):\n",
    "        a = dataset[i:(i+time_step), 0]   ###i=0, 0,1,2,3-----99   100 \n",
    "        dataX.append(a)\n",
    "        dataY.append(dataset[i + time_step, 0])\n",
    "    return numpy.array(dataX), numpy.array(dataY)"
   ]
  },
  {
   "cell_type": "code",
   "execution_count": 36,
   "metadata": {},
   "outputs": [],
   "source": [
    "# reshape into X=t,t+1,t+2,t+3 and Y=t+4\n",
    "time_step = 100\n",
    "X_train, y_train = create_dataset(train_data, time_step)\n",
    "X_test, ytest = create_dataset(test_data, time_step)"
   ]
  },
  {
   "cell_type": "code",
   "execution_count": 37,
   "metadata": {},
   "outputs": [
    {
     "name": "stdout",
     "output_type": "stream",
     "text": [
      "(716, 100)\n",
      "(716,)\n"
     ]
    },
    {
     "data": {
      "text/plain": [
       "(None, None)"
      ]
     },
     "execution_count": 37,
     "metadata": {},
     "output_type": "execute_result"
    }
   ],
   "source": [
    "print(X_train.shape), print(y_train.shape)"
   ]
  },
  {
   "cell_type": "code",
   "execution_count": 38,
   "metadata": {},
   "outputs": [
    {
     "name": "stdout",
     "output_type": "stream",
     "text": [
      "(339, 100)\n",
      "(339,)\n"
     ]
    },
    {
     "data": {
      "text/plain": [
       "(None, None)"
      ]
     },
     "execution_count": 38,
     "metadata": {},
     "output_type": "execute_result"
    }
   ],
   "source": [
    "print(X_test.shape), print(ytest.shape)"
   ]
  },
  {
   "cell_type": "code",
   "execution_count": 39,
   "metadata": {},
   "outputs": [],
   "source": [
    "# reshape input to be [samples, time steps, features] which is required for LSTM\n",
    "X_train =X_train.reshape(X_train.shape[0],X_train.shape[1] , 1)\n",
    "X_test = X_test.reshape(X_test.shape[0],X_test.shape[1] , 1)"
   ]
  },
  {
   "cell_type": "code",
   "execution_count": 40,
   "metadata": {},
   "outputs": [],
   "source": [
    "### Create the Stacked LSTM model\n",
    "from tensorflow.keras.models import Sequential\n",
    "from tensorflow.keras.layers import Dense\n",
    "from tensorflow.keras.layers import LSTM"
   ]
  },
  {
   "cell_type": "markdown",
   "metadata": {},
   "source": [
    "### CREATE THE MODEL USING LAYERS"
   ]
  },
  {
   "cell_type": "code",
   "execution_count": 41,
   "metadata": {},
   "outputs": [],
   "source": [
    "model=Sequential()\n",
    "model.add(LSTM(50,return_sequences=True,input_shape=(100,1)))\n",
    "model.add(LSTM(50,return_sequences=True))\n",
    "model.add(LSTM(50))\n",
    "model.add(Dense(1))\n",
    "model.compile(loss='mean_squared_error',optimizer='adam')\n"
   ]
  },
  {
   "cell_type": "code",
   "execution_count": 42,
   "metadata": {},
   "outputs": [
    {
     "name": "stdout",
     "output_type": "stream",
     "text": [
      "Model: \"sequential\"\n",
      "_________________________________________________________________\n",
      " Layer (type)                Output Shape              Param #   \n",
      "=================================================================\n",
      " lstm (LSTM)                 (None, 100, 50)           10400     \n",
      "                                                                 \n",
      " lstm_1 (LSTM)               (None, 100, 50)           20200     \n",
      "                                                                 \n",
      " lstm_2 (LSTM)               (None, 50)                20200     \n",
      "                                                                 \n",
      " dense (Dense)               (None, 1)                 51        \n",
      "                                                                 \n",
      "=================================================================\n",
      "Total params: 50851 (198.64 KB)\n",
      "Trainable params: 50851 (198.64 KB)\n",
      "Non-trainable params: 0 (0.00 Byte)\n",
      "_________________________________________________________________\n"
     ]
    }
   ],
   "source": [
    "model.summary()"
   ]
  },
  {
   "cell_type": "code",
   "execution_count": 43,
   "metadata": {},
   "outputs": [
    {
     "name": "stdout",
     "output_type": "stream",
     "text": [
      "Model: \"sequential\"\n",
      "_________________________________________________________________\n",
      " Layer (type)                Output Shape              Param #   \n",
      "=================================================================\n",
      " lstm (LSTM)                 (None, 100, 50)           10400     \n",
      "                                                                 \n",
      " lstm_1 (LSTM)               (None, 100, 50)           20200     \n",
      "                                                                 \n",
      " lstm_2 (LSTM)               (None, 50)                20200     \n",
      "                                                                 \n",
      " dense (Dense)               (None, 1)                 51        \n",
      "                                                                 \n",
      "=================================================================\n",
      "Total params: 50851 (198.64 KB)\n",
      "Trainable params: 50851 (198.64 KB)\n",
      "Non-trainable params: 0 (0.00 Byte)\n",
      "_________________________________________________________________\n"
     ]
    }
   ],
   "source": [
    "model.summary()"
   ]
  },
  {
   "cell_type": "markdown",
   "metadata": {},
   "source": [
    "### FIT THE MODEL"
   ]
  },
  {
   "cell_type": "code",
   "execution_count": 44,
   "metadata": {},
   "outputs": [
    {
     "name": "stdout",
     "output_type": "stream",
     "text": [
      "Epoch 1/100\n",
      "12/12 [==============================] - 16s 612ms/step - loss: 0.0752 - val_loss: 0.1504\n",
      "Epoch 2/100\n",
      "12/12 [==============================] - 5s 423ms/step - loss: 0.0143 - val_loss: 0.0391\n",
      "Epoch 3/100\n",
      "12/12 [==============================] - 4s 352ms/step - loss: 0.0041 - val_loss: 0.0129\n",
      "Epoch 4/100\n",
      "12/12 [==============================] - 4s 365ms/step - loss: 0.0022 - val_loss: 0.0097\n",
      "Epoch 5/100\n",
      "12/12 [==============================] - 4s 378ms/step - loss: 0.0020 - val_loss: 0.0112\n",
      "Epoch 6/100\n",
      "12/12 [==============================] - 4s 373ms/step - loss: 0.0018 - val_loss: 0.0111\n",
      "Epoch 7/100\n",
      "12/12 [==============================] - 4s 364ms/step - loss: 0.0017 - val_loss: 0.0108\n",
      "Epoch 8/100\n",
      "12/12 [==============================] - 5s 381ms/step - loss: 0.0016 - val_loss: 0.0098\n",
      "Epoch 9/100\n",
      "12/12 [==============================] - 4s 372ms/step - loss: 0.0016 - val_loss: 0.0105\n",
      "Epoch 10/100\n",
      "12/12 [==============================] - 5s 396ms/step - loss: 0.0016 - val_loss: 0.0108\n",
      "Epoch 11/100\n",
      "12/12 [==============================] - 5s 390ms/step - loss: 0.0017 - val_loss: 0.0121\n",
      "Epoch 12/100\n",
      "12/12 [==============================] - 5s 400ms/step - loss: 0.0016 - val_loss: 0.0114\n",
      "Epoch 13/100\n",
      "12/12 [==============================] - 5s 383ms/step - loss: 0.0016 - val_loss: 0.0102\n",
      "Epoch 14/100\n",
      "12/12 [==============================] - 5s 406ms/step - loss: 0.0015 - val_loss: 0.0093\n",
      "Epoch 15/100\n",
      "12/12 [==============================] - 5s 382ms/step - loss: 0.0015 - val_loss: 0.0102\n",
      "Epoch 16/100\n",
      "12/12 [==============================] - 4s 358ms/step - loss: 0.0015 - val_loss: 0.0112\n",
      "Epoch 17/100\n",
      "12/12 [==============================] - 5s 409ms/step - loss: 0.0015 - val_loss: 0.0096\n",
      "Epoch 18/100\n",
      "12/12 [==============================] - 5s 412ms/step - loss: 0.0015 - val_loss: 0.0093\n",
      "Epoch 19/100\n",
      "12/12 [==============================] - 5s 385ms/step - loss: 0.0014 - val_loss: 0.0091\n",
      "Epoch 20/100\n",
      "12/12 [==============================] - 4s 365ms/step - loss: 0.0014 - val_loss: 0.0099\n",
      "Epoch 21/100\n",
      "12/12 [==============================] - 5s 413ms/step - loss: 0.0014 - val_loss: 0.0099\n",
      "Epoch 22/100\n",
      "12/12 [==============================] - 4s 360ms/step - loss: 0.0014 - val_loss: 0.0094\n",
      "Epoch 23/100\n",
      "12/12 [==============================] - 5s 408ms/step - loss: 0.0014 - val_loss: 0.0087\n",
      "Epoch 24/100\n",
      "12/12 [==============================] - 5s 403ms/step - loss: 0.0015 - val_loss: 0.0104\n",
      "Epoch 25/100\n",
      "12/12 [==============================] - 4s 349ms/step - loss: 0.0014 - val_loss: 0.0089\n",
      "Epoch 26/100\n",
      "12/12 [==============================] - 4s 363ms/step - loss: 0.0013 - val_loss: 0.0092\n",
      "Epoch 27/100\n",
      "12/12 [==============================] - 4s 365ms/step - loss: 0.0014 - val_loss: 0.0102\n",
      "Epoch 28/100\n",
      "12/12 [==============================] - 5s 415ms/step - loss: 0.0013 - val_loss: 0.0101\n",
      "Epoch 29/100\n",
      "12/12 [==============================] - 5s 390ms/step - loss: 0.0013 - val_loss: 0.0095\n",
      "Epoch 30/100\n",
      "12/12 [==============================] - 5s 395ms/step - loss: 0.0013 - val_loss: 0.0102\n",
      "Epoch 31/100\n",
      "12/12 [==============================] - 4s 344ms/step - loss: 0.0013 - val_loss: 0.0088\n",
      "Epoch 32/100\n",
      "12/12 [==============================] - 4s 329ms/step - loss: 0.0012 - val_loss: 0.0100\n",
      "Epoch 33/100\n",
      "12/12 [==============================] - 4s 341ms/step - loss: 0.0012 - val_loss: 0.0095\n",
      "Epoch 34/100\n",
      "12/12 [==============================] - 4s 370ms/step - loss: 0.0012 - val_loss: 0.0105\n",
      "Epoch 35/100\n",
      "12/12 [==============================] - 4s 361ms/step - loss: 0.0013 - val_loss: 0.0146\n",
      "Epoch 36/100\n",
      "12/12 [==============================] - 4s 348ms/step - loss: 0.0012 - val_loss: 0.0115\n",
      "Epoch 37/100\n",
      "12/12 [==============================] - 4s 362ms/step - loss: 0.0012 - val_loss: 0.0093\n",
      "Epoch 38/100\n",
      "12/12 [==============================] - 4s 340ms/step - loss: 0.0013 - val_loss: 0.0106\n",
      "Epoch 39/100\n",
      "12/12 [==============================] - 4s 346ms/step - loss: 0.0012 - val_loss: 0.0105\n",
      "Epoch 40/100\n",
      "12/12 [==============================] - 4s 360ms/step - loss: 0.0012 - val_loss: 0.0105\n",
      "Epoch 41/100\n",
      "12/12 [==============================] - 4s 347ms/step - loss: 0.0012 - val_loss: 0.0105\n",
      "Epoch 42/100\n",
      "12/12 [==============================] - 4s 356ms/step - loss: 0.0011 - val_loss: 0.0117\n",
      "Epoch 43/100\n",
      "12/12 [==============================] - 4s 365ms/step - loss: 0.0012 - val_loss: 0.0106\n",
      "Epoch 44/100\n",
      "12/12 [==============================] - 4s 351ms/step - loss: 0.0011 - val_loss: 0.0108\n",
      "Epoch 45/100\n",
      "12/12 [==============================] - 4s 351ms/step - loss: 0.0011 - val_loss: 0.0114\n",
      "Epoch 46/100\n",
      "12/12 [==============================] - 4s 343ms/step - loss: 0.0013 - val_loss: 0.0105\n",
      "Epoch 47/100\n",
      "12/12 [==============================] - 4s 381ms/step - loss: 0.0011 - val_loss: 0.0101\n",
      "Epoch 48/100\n",
      "12/12 [==============================] - 4s 335ms/step - loss: 0.0011 - val_loss: 0.0102\n",
      "Epoch 49/100\n",
      "12/12 [==============================] - 4s 356ms/step - loss: 0.0011 - val_loss: 0.0128\n",
      "Epoch 50/100\n",
      "12/12 [==============================] - 4s 359ms/step - loss: 0.0012 - val_loss: 0.0106\n",
      "Epoch 51/100\n",
      "12/12 [==============================] - 4s 374ms/step - loss: 0.0013 - val_loss: 0.0111\n",
      "Epoch 52/100\n",
      "12/12 [==============================] - 4s 342ms/step - loss: 0.0011 - val_loss: 0.0108\n",
      "Epoch 53/100\n",
      "12/12 [==============================] - 4s 370ms/step - loss: 0.0012 - val_loss: 0.0118\n",
      "Epoch 54/100\n",
      "12/12 [==============================] - 4s 363ms/step - loss: 0.0011 - val_loss: 0.0122\n",
      "Epoch 55/100\n",
      "12/12 [==============================] - 4s 363ms/step - loss: 0.0011 - val_loss: 0.0114\n",
      "Epoch 56/100\n",
      "12/12 [==============================] - 4s 355ms/step - loss: 0.0011 - val_loss: 0.0189\n",
      "Epoch 57/100\n",
      "12/12 [==============================] - 4s 357ms/step - loss: 0.0011 - val_loss: 0.0110\n",
      "Epoch 58/100\n",
      "12/12 [==============================] - 4s 361ms/step - loss: 0.0010 - val_loss: 0.0139\n",
      "Epoch 59/100\n",
      "12/12 [==============================] - 4s 367ms/step - loss: 0.0011 - val_loss: 0.0104\n",
      "Epoch 60/100\n",
      "12/12 [==============================] - 4s 363ms/step - loss: 0.0010 - val_loss: 0.0124\n",
      "Epoch 61/100\n",
      "12/12 [==============================] - 4s 347ms/step - loss: 0.0010 - val_loss: 0.0111\n",
      "Epoch 62/100\n",
      "12/12 [==============================] - 4s 359ms/step - loss: 0.0011 - val_loss: 0.0102\n",
      "Epoch 63/100\n",
      "12/12 [==============================] - 5s 390ms/step - loss: 0.0012 - val_loss: 0.0119\n",
      "Epoch 64/100\n",
      "12/12 [==============================] - 4s 371ms/step - loss: 0.0011 - val_loss: 0.0129\n",
      "Epoch 65/100\n",
      "12/12 [==============================] - 5s 387ms/step - loss: 0.0011 - val_loss: 0.0130\n",
      "Epoch 66/100\n",
      "12/12 [==============================] - 4s 355ms/step - loss: 0.0010 - val_loss: 0.0130\n",
      "Epoch 67/100\n",
      "12/12 [==============================] - 4s 373ms/step - loss: 9.6457e-04 - val_loss: 0.0110\n",
      "Epoch 68/100\n",
      "12/12 [==============================] - 4s 358ms/step - loss: 0.0010 - val_loss: 0.0116\n",
      "Epoch 69/100\n",
      "12/12 [==============================] - 5s 386ms/step - loss: 9.8184e-04 - val_loss: 0.0112\n",
      "Epoch 70/100\n",
      "12/12 [==============================] - 5s 415ms/step - loss: 9.8894e-04 - val_loss: 0.0113\n",
      "Epoch 71/100\n",
      "12/12 [==============================] - 4s 366ms/step - loss: 9.7924e-04 - val_loss: 0.0140\n",
      "Epoch 72/100\n",
      "12/12 [==============================] - 4s 376ms/step - loss: 9.9148e-04 - val_loss: 0.0169\n",
      "Epoch 73/100\n",
      "12/12 [==============================] - 4s 346ms/step - loss: 0.0012 - val_loss: 0.0115\n",
      "Epoch 74/100\n",
      "12/12 [==============================] - 5s 393ms/step - loss: 0.0010 - val_loss: 0.0148\n",
      "Epoch 75/100\n",
      "12/12 [==============================] - 5s 411ms/step - loss: 0.0010 - val_loss: 0.0134\n",
      "Epoch 76/100\n",
      "12/12 [==============================] - 4s 356ms/step - loss: 0.0010 - val_loss: 0.0131\n",
      "Epoch 77/100\n",
      "12/12 [==============================] - 5s 385ms/step - loss: 0.0011 - val_loss: 0.0131\n",
      "Epoch 78/100\n",
      "12/12 [==============================] - 4s 379ms/step - loss: 0.0011 - val_loss: 0.0152\n",
      "Epoch 79/100\n",
      "12/12 [==============================] - 4s 370ms/step - loss: 0.0010 - val_loss: 0.0114\n",
      "Epoch 80/100\n",
      "12/12 [==============================] - 5s 415ms/step - loss: 0.0010 - val_loss: 0.0156\n",
      "Epoch 81/100\n"
     ]
    },
    {
     "name": "stdout",
     "output_type": "stream",
     "text": [
      "12/12 [==============================] - 4s 356ms/step - loss: 9.5028e-04 - val_loss: 0.0136\n",
      "Epoch 82/100\n",
      "12/12 [==============================] - 4s 361ms/step - loss: 9.6911e-04 - val_loss: 0.0125\n",
      "Epoch 83/100\n",
      "12/12 [==============================] - 5s 370ms/step - loss: 9.7614e-04 - val_loss: 0.0149\n",
      "Epoch 84/100\n",
      "12/12 [==============================] - 4s 370ms/step - loss: 9.3130e-04 - val_loss: 0.0170\n",
      "Epoch 85/100\n",
      "12/12 [==============================] - 4s 360ms/step - loss: 8.6627e-04 - val_loss: 0.0156\n",
      "Epoch 86/100\n",
      "12/12 [==============================] - 4s 358ms/step - loss: 8.5308e-04 - val_loss: 0.0148\n",
      "Epoch 87/100\n",
      "12/12 [==============================] - 4s 367ms/step - loss: 9.3867e-04 - val_loss: 0.0135\n",
      "Epoch 88/100\n",
      "12/12 [==============================] - 4s 349ms/step - loss: 8.7777e-04 - val_loss: 0.0166\n",
      "Epoch 89/100\n",
      "12/12 [==============================] - 4s 364ms/step - loss: 8.5212e-04 - val_loss: 0.0158\n",
      "Epoch 90/100\n",
      "12/12 [==============================] - 4s 345ms/step - loss: 8.2690e-04 - val_loss: 0.0187\n",
      "Epoch 91/100\n",
      "12/12 [==============================] - 5s 394ms/step - loss: 8.7991e-04 - val_loss: 0.0243\n",
      "Epoch 92/100\n",
      "12/12 [==============================] - 4s 361ms/step - loss: 8.2946e-04 - val_loss: 0.0195\n",
      "Epoch 93/100\n",
      "12/12 [==============================] - 4s 359ms/step - loss: 8.4587e-04 - val_loss: 0.0190\n",
      "Epoch 94/100\n",
      "12/12 [==============================] - 4s 366ms/step - loss: 8.3406e-04 - val_loss: 0.0248\n",
      "Epoch 95/100\n",
      "12/12 [==============================] - 4s 348ms/step - loss: 8.2570e-04 - val_loss: 0.0236\n",
      "Epoch 96/100\n",
      "12/12 [==============================] - 4s 376ms/step - loss: 9.0487e-04 - val_loss: 0.0212\n",
      "Epoch 97/100\n",
      "12/12 [==============================] - 4s 362ms/step - loss: 7.8214e-04 - val_loss: 0.0258\n",
      "Epoch 98/100\n",
      "12/12 [==============================] - 4s 369ms/step - loss: 7.9016e-04 - val_loss: 0.0295\n",
      "Epoch 99/100\n",
      "12/12 [==============================] - 4s 355ms/step - loss: 7.6546e-04 - val_loss: 0.0351\n",
      "Epoch 100/100\n",
      "12/12 [==============================] - 4s 349ms/step - loss: 7.9519e-04 - val_loss: 0.0273\n"
     ]
    },
    {
     "data": {
      "text/plain": [
       "<keras.src.callbacks.History at 0x1e80fafd040>"
      ]
     },
     "execution_count": 44,
     "metadata": {},
     "output_type": "execute_result"
    }
   ],
   "source": [
    "model.fit(X_train,y_train,validation_data=(X_test,ytest),epochs=100,batch_size=64,verbose=1)"
   ]
  },
  {
   "cell_type": "code",
   "execution_count": 37,
   "metadata": {},
   "outputs": [],
   "source": [
    "import tensorflow as tf"
   ]
  },
  {
   "cell_type": "code",
   "execution_count": 39,
   "metadata": {},
   "outputs": [
    {
     "data": {
      "text/plain": [
       "'2.1.0'"
      ]
     },
     "execution_count": 39,
     "metadata": {},
     "output_type": "execute_result"
    }
   ],
   "source": [
    "tf.__version__"
   ]
  },
  {
   "cell_type": "code",
   "execution_count": 45,
   "metadata": {},
   "outputs": [
    {
     "name": "stdout",
     "output_type": "stream",
     "text": [
      "23/23 [==============================] - 3s 48ms/step\n",
      "11/11 [==============================] - 1s 52ms/step\n"
     ]
    }
   ],
   "source": [
    "### Lets Do the prediction and check performance metrics\n",
    "train_predict=model.predict(X_train)\n",
    "test_predict=model.predict(X_test)"
   ]
  },
  {
   "cell_type": "code",
   "execution_count": 46,
   "metadata": {},
   "outputs": [],
   "source": [
    "##Transformback to original form\n",
    "train_predict=scaler.inverse_transform(train_predict)\n",
    "test_predict=scaler.inverse_transform(test_predict)"
   ]
  },
  {
   "cell_type": "markdown",
   "metadata": {},
   "source": [
    "### CALCULATE THE MEAN SQUARED ERROR"
   ]
  },
  {
   "cell_type": "code",
   "execution_count": 47,
   "metadata": {},
   "outputs": [
    {
     "data": {
      "text/plain": [
       "866.1477214035598"
      ]
     },
     "execution_count": 47,
     "metadata": {},
     "output_type": "execute_result"
    }
   ],
   "source": [
    "import math\n",
    "from sklearn.metrics import mean_squared_error\n",
    "math.sqrt(mean_squared_error(y_train,train_predict))"
   ]
  },
  {
   "cell_type": "markdown",
   "metadata": {},
   "source": [
    "### CALCULATE THE ROOTMEAN SQUARED ERROR"
   ]
  },
  {
   "cell_type": "code",
   "execution_count": 48,
   "metadata": {},
   "outputs": [
    {
     "data": {
      "text/plain": [
       "1662.0877882466116"
      ]
     },
     "execution_count": 48,
     "metadata": {},
     "output_type": "execute_result"
    }
   ],
   "source": [
    "### Test Data RMSE\n",
    "math.sqrt(mean_squared_error(ytest,test_predict))"
   ]
  },
  {
   "cell_type": "code",
   "execution_count": 49,
   "metadata": {},
   "outputs": [
    {
     "data": {
      "image/png": "[encoded data removed]",
      "text/plain": [
       "<Figure size 640x480 with 1 Axes>"
      ]
     },
     "metadata": {},
     "output_type": "display_data"
    }
   ],
   "source": [
    "### Plotting \n",
    "# shift train predictions for plotting\n",
    "look_back=100\n",
    "trainPredictPlot = numpy.empty_like(df1)\n",
    "trainPredictPlot[:, :] = np.nan\n",
    "trainPredictPlot[look_back:len(train_predict)+look_back, :] = train_predict\n",
    "# shift test predictions for plotting\n",
    "testPredictPlot = numpy.empty_like(df1)\n",
    "testPredictPlot[:, :] = numpy.nan\n",
    "testPredictPlot[len(train_predict)+(look_back*2)+1:len(df1)-1, :] = test_predict\n",
    "# plot baseline and predictions\n",
    "plt.plot(scaler.inverse_transform(df1))\n",
    "plt.plot(trainPredictPlot)\n",
    "plt.plot(testPredictPlot)\n",
    "plt.show()"
   ]
  },
  {
   "cell_type": "code",
   "execution_count": 50,
   "metadata": {},
   "outputs": [
    {
     "data": {
      "text/plain": [
       "440"
      ]
     },
     "execution_count": 50,
     "metadata": {},
     "output_type": "execute_result"
    }
   ],
   "source": [
    "len(test_data)"
   ]
  },
  {
   "cell_type": "code",
   "execution_count": 51,
   "metadata": {},
   "outputs": [
    {
     "data": {
      "text/plain": [
       "(1, 99)"
      ]
     },
     "execution_count": 51,
     "metadata": {},
     "output_type": "execute_result"
    }
   ],
   "source": [
    "x_input=test_data[341:].reshape(1,-1)\n",
    "x_input.shape\n"
   ]
  },
  {
   "cell_type": "code",
   "execution_count": null,
   "metadata": {},
   "outputs": [],
   "source": []
  },
  {
   "cell_type": "code",
   "execution_count": null,
   "metadata": {},
   "outputs": [],
   "source": []
  },
  {
   "cell_type": "code",
   "execution_count": 52,
   "metadata": {},
   "outputs": [],
   "source": [
    "temp_input=list(x_input)\n",
    "temp_input=temp_input[0].tolist()"
   ]
  },
  {
   "cell_type": "code",
   "execution_count": 53,
   "metadata": {},
   "outputs": [
    {
     "data": {
      "text/plain": [
       "[0.735324263631858,\n",
       " 0.7094650496524686,\n",
       " 0.7544505817255338,\n",
       " 0.6844044719546316,\n",
       " 0.6994225415385751,\n",
       " 0.7181950240998254,\n",
       " 0.7450700515190007,\n",
       " 0.7282489555030915,\n",
       " 0.753537714832631,\n",
       " 0.7319920844159311,\n",
       " 0.6691810661765432,\n",
       " 0.6911489303546228,\n",
       " 0.683114924091746,\n",
       " 0.6858766486578225,\n",
       " 0.7111539846979893,\n",
       " 0.699616593668253,\n",
       " 0.7150796043674164,\n",
       " 0.7273816414015859,\n",
       " 0.7731432427684566,\n",
       " 0.7649153236008073,\n",
       " 0.7624503192614807,\n",
       " 0.7501255748734716,\n",
       " 0.7529100056522005,\n",
       " 0.7763728931122165,\n",
       " 0.7715683979681933,\n",
       " 0.7356209838586079,\n",
       " 0.752407950372493,\n",
       " 0.7465992043029619,\n",
       " 0.7512096473173071,\n",
       " 0.7200096130460696,\n",
       " 0.7098987067032212,\n",
       " 0.6600401408910854,\n",
       " 0.6905326444635649,\n",
       " 0.6580202168918843,\n",
       " 0.6415985080586097,\n",
       " 0.6535354266370743,\n",
       " 0.653238706410324,\n",
       " 0.6276532268540345,\n",
       " 0.6404231908070745,\n",
       " 0.6578034574083667,\n",
       " 0.6498265664511647,\n",
       " 0.6188432916634448,\n",
       " 0.6376500429516252,\n",
       " 0.6356758109687266,\n",
       " 0.6489820989284043,\n",
       " 0.6541288670905747,\n",
       " 0.6894485720197294,\n",
       " 0.7009175648205113,\n",
       " 0.7123864172551997,\n",
       " 0.6781850546379982,\n",
       " 0.7103095171752289,\n",
       " 0.6875655837033432,\n",
       " 0.6835030283511014,\n",
       " 0.7047405152516784,\n",
       " 0.6825443302169907,\n",
       " 0.7005180372717832,\n",
       " 0.6841191750172539,\n",
       " 0.7038389324232428,\n",
       " 0.700038827429633,\n",
       " 0.7169054762369398,\n",
       " 0.7319920844159311,\n",
       " 0.7286254972481689,\n",
       " 0.7218469093461528,\n",
       " 0.7132080393404028,\n",
       " 0.7105605453856767,\n",
       " 0.6943214653927074,\n",
       " 0.7015679802135937,\n",
       " 0.6731638000104576,\n",
       " 0.674864159486539,\n",
       " 0.6576208285680616,\n",
       " 0.6725019613280026,\n",
       " 0.6727986815547529,\n",
       " 0.6645136470814279,\n",
       " 0.6521659180309558,\n",
       " 0.6647304065649455,\n",
       " 0.6968206003752462,\n",
       " 0.7231820088592484,\n",
       " 0.7477975073581478,\n",
       " 0.727587116820636,\n",
       " 0.705676228723326,\n",
       " 0.6923927862012063,\n",
       " 0.6818139529394873,\n",
       " 0.6587505930281996,\n",
       " 0.6714405962380068,\n",
       " 0.6690555526419131,\n",
       " 0.6573012629037538,\n",
       " 0.6681539698134775,\n",
       " 0.68140314246748,\n",
       " 0.682099249876865,\n",
       " 0.6915368953890733,\n",
       " 0.7160154559227823,\n",
       " 0.708449375437588,\n",
       " 0.7178641743710505,\n",
       " 0.7112680760844343,\n",
       " 0.7186857964562536,\n",
       " 0.7143606503792861,\n",
       " 0.8051536150604299,\n",
       " 0.806329071536871,\n",
       " 0.7801844213951985]"
      ]
     },
     "execution_count": 53,
     "metadata": {},
     "output_type": "execute_result"
    }
   ],
   "source": [
    "temp_input"
   ]
  },
  {
   "cell_type": "code",
   "execution_count": 57,
   "metadata": {},
   "outputs": [
    {
     "ename": "ValueError",
     "evalue": "cannot reshape array of size 99 into shape (1,100,1)",
     "output_type": "error",
     "traceback": [
      "\u001b[1;31m---------------------------------------------------------------------------\u001b[0m",
      "\u001b[1;31mValueError\u001b[0m                                Traceback (most recent call last)",
      "\u001b[1;32m~\\AppData\\Local\\Temp\\ipykernel_4488\\917492977.py\u001b[0m in \u001b[0;36m<module>\u001b[1;34m\u001b[0m\n\u001b[0;32m     22\u001b[0m         \u001b[0mi\u001b[0m\u001b[1;33m=\u001b[0m\u001b[0mi\u001b[0m\u001b[1;33m+\u001b[0m\u001b[1;36m1\u001b[0m\u001b[1;33m\u001b[0m\u001b[1;33m\u001b[0m\u001b[0m\n\u001b[0;32m     23\u001b[0m     \u001b[1;32melse\u001b[0m\u001b[1;33m:\u001b[0m\u001b[1;33m\u001b[0m\u001b[1;33m\u001b[0m\u001b[0m\n\u001b[1;32m---> 24\u001b[1;33m         \u001b[0mx_input\u001b[0m \u001b[1;33m=\u001b[0m \u001b[0mx_input\u001b[0m\u001b[1;33m.\u001b[0m\u001b[0mreshape\u001b[0m\u001b[1;33m(\u001b[0m\u001b[1;33m(\u001b[0m\u001b[1;36m1\u001b[0m\u001b[1;33m,\u001b[0m \u001b[0mn_steps\u001b[0m\u001b[1;33m,\u001b[0m\u001b[1;36m1\u001b[0m\u001b[1;33m)\u001b[0m\u001b[1;33m)\u001b[0m\u001b[1;33m\u001b[0m\u001b[1;33m\u001b[0m\u001b[0m\n\u001b[0m\u001b[0;32m     25\u001b[0m         \u001b[0myhat\u001b[0m \u001b[1;33m=\u001b[0m \u001b[0mmodel\u001b[0m\u001b[1;33m.\u001b[0m\u001b[0mpredict\u001b[0m\u001b[1;33m(\u001b[0m\u001b[0mx_input\u001b[0m\u001b[1;33m,\u001b[0m \u001b[0mverbose\u001b[0m\u001b[1;33m=\u001b[0m\u001b[1;36m0\u001b[0m\u001b[1;33m)\u001b[0m\u001b[1;33m\u001b[0m\u001b[1;33m\u001b[0m\u001b[0m\n\u001b[0;32m     26\u001b[0m         \u001b[0mprint\u001b[0m\u001b[1;33m(\u001b[0m\u001b[0myhat\u001b[0m\u001b[1;33m[\u001b[0m\u001b[1;36m0\u001b[0m\u001b[1;33m]\u001b[0m\u001b[1;33m)\u001b[0m\u001b[1;33m\u001b[0m\u001b[1;33m\u001b[0m\u001b[0m\n",
      "\u001b[1;31mValueError\u001b[0m: cannot reshape array of size 99 into shape (1,100,1)"
     ]
    }
   ],
   "source": [
    "# demonstrate prediction for next 10 days\n",
    "from numpy import array\n",
    "\n",
    "lst_output=[]\n",
    "n_steps=100\n",
    "i=0\n",
    "while(i<30):\n",
    "    \n",
    "    if(len(temp_input)>100):\n",
    "        #print(temp_input)\n",
    "        x_input=np.array(temp_input[1:])\n",
    "        print(\"{} day input {}\".format(i,x_input))\n",
    "        x_input=x_input.reshape(1,-1)\n",
    "        x_input = x_input.reshape((1, n_steps, 1))\n",
    "        #print(x_input)\n",
    "        yhat = model.predict(x_input, verbose=0)\n",
    "        print(\"{} day output {}\".format(i,yhat))\n",
    "        temp_input.extend(yhat[0].tolist())\n",
    "        temp_input=temp_input[1:]\n",
    "        #print(temp_input)\n",
    "        lst_output.extend(yhat.tolist())\n",
    "        i=i+1\n",
    "    else:\n",
    "        x_input = x_input.reshape((1, n_steps,1))\n",
    "        yhat = model.predict(x_input, verbose=0)\n",
    "        print(yhat[0])\n",
    "        temp_input.extend(yhat[0].tolist())\n",
    "        print(len(temp_input))\n",
    "        lst_output.extend(yhat.tolist())\n",
    "        i=i+1\n",
    "    \n",
    "\n",
    "print(lst_output)"
   ]
  },
  {
   "cell_type": "code",
   "execution_count": 58,
   "metadata": {},
   "outputs": [],
   "source": [
    "day_new=np.arange(1,101)\n",
    "day_pred=np.arange(101,131)"
   ]
  },
  {
   "cell_type": "code",
   "execution_count": 59,
   "metadata": {},
   "outputs": [],
   "source": [
    "import matplotlib.pyplot as plt"
   ]
  },
  {
   "cell_type": "code",
   "execution_count": 60,
   "metadata": {},
   "outputs": [
    {
     "data": {
      "text/plain": [
       "1257"
      ]
     },
     "execution_count": 60,
     "metadata": {},
     "output_type": "execute_result"
    }
   ],
   "source": [
    "len(df1)"
   ]
  },
  {
   "cell_type": "code",
   "execution_count": null,
   "metadata": {},
   "outputs": [],
   "source": []
  },
  {
   "cell_type": "code",
   "execution_count": 66,
   "metadata": {},
   "outputs": [
    {
     "ename": "ValueError",
     "evalue": "Found array with 0 sample(s) (shape=(0, 1)) while a minimum of 1 is required.",
     "output_type": "error",
     "traceback": [
      "\u001b[1;31m---------------------------------------------------------------------------\u001b[0m",
      "\u001b[1;31mValueError\u001b[0m                                Traceback (most recent call last)",
      "\u001b[1;32m~\\AppData\\Local\\Temp\\ipykernel_4488\\60315463.py\u001b[0m in \u001b[0;36m<module>\u001b[1;34m\u001b[0m\n\u001b[1;32m----> 1\u001b[1;33m \u001b[0mplt\u001b[0m\u001b[1;33m.\u001b[0m\u001b[0mplot\u001b[0m\u001b[1;33m(\u001b[0m\u001b[0mday_new\u001b[0m\u001b[1;33m,\u001b[0m\u001b[0mscaler\u001b[0m\u001b[1;33m.\u001b[0m\u001b[0minverse_transform\u001b[0m\u001b[1;33m(\u001b[0m\u001b[0mdf1\u001b[0m\u001b[1;33m[\u001b[0m\u001b[1;36m1257\u001b[0m\u001b[1;33m:\u001b[0m\u001b[1;33m]\u001b[0m\u001b[1;33m)\u001b[0m\u001b[1;33m)\u001b[0m\u001b[1;33m\u001b[0m\u001b[1;33m\u001b[0m\u001b[0m\n\u001b[0m\u001b[0;32m      2\u001b[0m \u001b[0mplt\u001b[0m\u001b[1;33m.\u001b[0m\u001b[0mplot\u001b[0m\u001b[1;33m(\u001b[0m\u001b[0mday_pred\u001b[0m\u001b[1;33m,\u001b[0m\u001b[0mscaler\u001b[0m\u001b[1;33m.\u001b[0m\u001b[0minverse_transform\u001b[0m\u001b[1;33m(\u001b[0m\u001b[0mlst_output\u001b[0m\u001b[1;33m)\u001b[0m\u001b[1;33m)\u001b[0m\u001b[1;33m\u001b[0m\u001b[1;33m\u001b[0m\u001b[0m\n",
      "\u001b[1;32m~\\anaconda3\\lib\\site-packages\\sklearn\\preprocessing\\_data.py\u001b[0m in \u001b[0;36minverse_transform\u001b[1;34m(self, X)\u001b[0m\n\u001b[0;32m    523\u001b[0m         \u001b[0mcheck_is_fitted\u001b[0m\u001b[1;33m(\u001b[0m\u001b[0mself\u001b[0m\u001b[1;33m)\u001b[0m\u001b[1;33m\u001b[0m\u001b[1;33m\u001b[0m\u001b[0m\n\u001b[0;32m    524\u001b[0m \u001b[1;33m\u001b[0m\u001b[0m\n\u001b[1;32m--> 525\u001b[1;33m         X = check_array(\n\u001b[0m\u001b[0;32m    526\u001b[0m             \u001b[0mX\u001b[0m\u001b[1;33m,\u001b[0m \u001b[0mcopy\u001b[0m\u001b[1;33m=\u001b[0m\u001b[0mself\u001b[0m\u001b[1;33m.\u001b[0m\u001b[0mcopy\u001b[0m\u001b[1;33m,\u001b[0m \u001b[0mdtype\u001b[0m\u001b[1;33m=\u001b[0m\u001b[0mFLOAT_DTYPES\u001b[0m\u001b[1;33m,\u001b[0m \u001b[0mforce_all_finite\u001b[0m\u001b[1;33m=\u001b[0m\u001b[1;34m\"allow-nan\"\u001b[0m\u001b[1;33m\u001b[0m\u001b[1;33m\u001b[0m\u001b[0m\n\u001b[0;32m    527\u001b[0m         )\n",
      "\u001b[1;32m~\\anaconda3\\lib\\site-packages\\sklearn\\utils\\validation.py\u001b[0m in \u001b[0;36mcheck_array\u001b[1;34m(array, accept_sparse, accept_large_sparse, dtype, order, copy, force_all_finite, ensure_2d, allow_nd, ensure_min_samples, ensure_min_features, estimator)\u001b[0m\n\u001b[0;32m    803\u001b[0m         \u001b[0mn_samples\u001b[0m \u001b[1;33m=\u001b[0m \u001b[0m_num_samples\u001b[0m\u001b[1;33m(\u001b[0m\u001b[0marray\u001b[0m\u001b[1;33m)\u001b[0m\u001b[1;33m\u001b[0m\u001b[1;33m\u001b[0m\u001b[0m\n\u001b[0;32m    804\u001b[0m         \u001b[1;32mif\u001b[0m \u001b[0mn_samples\u001b[0m \u001b[1;33m<\u001b[0m \u001b[0mensure_min_samples\u001b[0m\u001b[1;33m:\u001b[0m\u001b[1;33m\u001b[0m\u001b[1;33m\u001b[0m\u001b[0m\n\u001b[1;32m--> 805\u001b[1;33m             raise ValueError(\n\u001b[0m\u001b[0;32m    806\u001b[0m                 \u001b[1;34m\"Found array with %d sample(s) (shape=%s) while a\"\u001b[0m\u001b[1;33m\u001b[0m\u001b[1;33m\u001b[0m\u001b[0m\n\u001b[0;32m    807\u001b[0m                 \u001b[1;34m\" minimum of %d is required%s.\"\u001b[0m\u001b[1;33m\u001b[0m\u001b[1;33m\u001b[0m\u001b[0m\n",
      "\u001b[1;31mValueError\u001b[0m: Found array with 0 sample(s) (shape=(0, 1)) while a minimum of 1 is required."
     ]
    }
   ],
   "source": [
    "plt.plot(day_new,scaler.inverse_transform(df1[1257:]))\n",
    "plt.plot(day_pred,scaler.inverse_transform(lst_output))"
   ]
  },
  {
   "cell_type": "code",
   "execution_count": 67,
   "metadata": {},
   "outputs": [
    {
     "data": {
      "text/plain": [
       "[<matplotlib.lines.Line2D at 0x1e81b44b2b0>]"
      ]
     },
     "execution_count": 67,
     "metadata": {},
     "output_type": "execute_result"
    },
    {
     "data": {
      "image/png": "[encoded data removed]",
      "text/plain": [
       "<Figure size 640x480 with 1 Axes>"
      ]
     },
     "metadata": {},
     "output_type": "display_data"
    }
   ],
   "source": [
    "df3=df1.tolist()\n",
    "df3.extend(lst_output)\n",
    "plt.plot(df3[1200:])"
   ]
  },
  {
   "cell_type": "code",
   "execution_count": 68,
   "metadata": {},
   "outputs": [],
   "source": [
    "df3=scaler.inverse_transform(df3).tolist()"
   ]
  },
  {
   "cell_type": "code",
   "execution_count": 69,
   "metadata": {},
   "outputs": [
    {
     "data": {
      "text/plain": [
       "[<matplotlib.lines.Line2D at 0x1e81b4278e0>]"
      ]
     },
     "execution_count": 69,
     "metadata": {},
     "output_type": "execute_result"
    },
    {
     "data": {
      "image/png": "[encoded data removed]",
      "text/plain": [
       "<Figure size 640x480 with 1 Axes>"
      ]
     },
     "metadata": {},
     "output_type": "display_data"
    }
   ],
   "source": [
    "plt.plot(df3)"
   ]
  },
  {
   "cell_type": "code",
   "execution_count": null,
   "metadata": {},
   "outputs": [],
   "source": []
  }
 ],
 "metadata": {
  "kernelspec": {
   "display_name": "Python 3 (ipykernel)",
   "language": "python",
   "name": "python3"
  },
  "language_info": {
   "codemirror_mode": {
    "name": "ipython",
    "version": 3
   },
   "file_extension": ".py",
   "mimetype": "text/x-python",
   "name": "python",
   "nbconvert_exporter": "python",
   "pygments_lexer": "ipython3",
   "version": "3.9.13"
  }
 },
 "nbformat": 4,
 "nbformat_minor": 2
}
