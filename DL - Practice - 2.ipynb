{
 "cells": [
  {
   "cell_type": "code",
   "execution_count": null,
   "id": "7e101fe8",
   "metadata": {},
   "outputs": [],
   "source": [
    "import splitfolders\n",
    "\n",
    "data = \"\"\n",
    "splitfolders.ratio(data, output = \"\", ratio=(8.0, 0.1, 0.1))"
   ]
  },
  {
   "cell_type": "code",
   "execution_count": 1,
   "id": "b7f8d0cb",
   "metadata": {},
   "outputs": [],
   "source": [
    "train = r\"D:\\Datasets\\weed data(collected)\\train\"\n",
    "val = r\"D:\\Datasets\\weed data(collected)\\val\"\n",
    "test = r\"D:\\Datasets\\weed data(collected)\\test\""
   ]
  },
  {
   "cell_type": "code",
   "execution_count": 9,
   "id": "79c48bb8",
   "metadata": {},
   "outputs": [],
   "source": [
    "image_width = 80\n",
    "image_height = 80\n",
    "batch_size = 10"
   ]
  },
  {
   "cell_type": "code",
   "execution_count": 10,
   "id": "7f01f6bd",
   "metadata": {},
   "outputs": [
    {
     "name": "stdout",
     "output_type": "stream",
     "text": [
      "Found 478 images belonging to 5 classes.\n",
      "Found 57 images belonging to 5 classes.\n",
      "Found 62 images belonging to 5 classes.\n"
     ]
    }
   ],
   "source": [
    "from tensorflow.keras.preprocessing.image import ImageDataGenerator\n",
    "\n",
    "datagen = ImageDataGenerator(\n",
    "    rescale = 1/255,\n",
    "    zoom_range = 0.2,\n",
    "    rotation_range = 0.2,\n",
    "    shear_range = 0.2,\n",
    "    width_shift_range = 0.2,\n",
    "    height_shift_range = 0.2,\n",
    "    horizontal_flip = True,\n",
    "    vertical_flip = False,\n",
    "    fill_mode = 'nearest'\n",
    ")\n",
    "\n",
    "train = datagen.flow_from_directory(train,\n",
    "                                   batch_size = batch_size,\n",
    "                                   target_size = (image_width, image_height),\n",
    "                                   shuffle = True)\n",
    "val = datagen.flow_from_directory(val,\n",
    "                                 batch_size = batch_size,\n",
    "                                 target_size = (image_width, image_height),\n",
    "                                 shuffle = True)\n",
    "test = datagen.flow_from_directory(test,\n",
    "                                  batch_size = batch_size,\n",
    "                                  target_size = (image_width, image_height),\n",
    "                                  shuffle = True)"
   ]
  },
  {
   "cell_type": "code",
   "execution_count": 13,
   "id": "b89692c5",
   "metadata": {},
   "outputs": [],
   "source": [
    "from tensorflow.keras.layers import Input, Conv2D, MaxPooling2D, Dense, Flatten, Dropout, BatchNormalization\n",
    "from tensorflow.keras.models import Sequential"
   ]
  },
  {
   "cell_type": "code",
   "execution_count": 19,
   "id": "ec50ec1d",
   "metadata": {},
   "outputs": [
    {
     "name": "stdout",
     "output_type": "stream",
     "text": [
      "Model: \"sequential_4\"\n",
      "_________________________________________________________________\n",
      " Layer (type)                Output Shape              Param #   \n",
      "=================================================================\n",
      " conv2d_3 (Conv2D)           (None, 78, 78, 64)        1792      \n",
      "                                                                 \n",
      " max_pooling2d_2 (MaxPoolin  (None, 39, 39, 64)        0         \n",
      " g2D)                                                            \n",
      "                                                                 \n",
      " conv2d_4 (Conv2D)           (None, 37, 37, 32)        18464     \n",
      "                                                                 \n",
      " max_pooling2d_3 (MaxPoolin  (None, 18, 18, 32)        0         \n",
      " g2D)                                                            \n",
      "                                                                 \n",
      " flatten_1 (Flatten)         (None, 10368)             0         \n",
      "                                                                 \n",
      " dense_1 (Dense)             (None, 5)                 51845     \n",
      "                                                                 \n",
      "=================================================================\n",
      "Total params: 72101 (281.64 KB)\n",
      "Trainable params: 72101 (281.64 KB)\n",
      "Non-trainable params: 0 (0.00 Byte)\n",
      "_________________________________________________________________\n"
     ]
    }
   ],
   "source": [
    "model = Sequential()\n",
    "\n",
    "model.add(Conv2D(64, kernel_size = (3,3), input_shape = (image_width, image_height, 3), activation = \"relu\", padding = \"valid\"))\n",
    "model.add(MaxPooling2D(pool_size = (2,2)))\n",
    "          \n",
    "model.add(Conv2D(32, kernel_size = (3, 3), activation = \"relu\"))\n",
    "model.add(MaxPooling2D(pool_size = (2, 2)))\n",
    "\n",
    "model.add(Flatten())\n",
    "model.add(Dense(5, activation = \"softmax\"))\n",
    "\n",
    "          \n",
    "model.compile(optimizer = \"adagrad\", loss = \"categorical_crossentropy\", metrics = [\"Accuracy\"])\n",
    "\n",
    "model.summary()"
   ]
  },
  {
   "cell_type": "code",
   "execution_count": 21,
   "id": "c51a8552",
   "metadata": {},
   "outputs": [
    {
     "name": "stdout",
     "output_type": "stream",
     "text": [
      "Epoch 1/10\n",
      "48/48 [==============================] - 68s 1s/step - loss: 1.6029 - Accuracy: 0.2218 - val_loss: 1.5939 - val_Accuracy: 0.2281\n",
      "Epoch 2/10\n",
      "48/48 [==============================] - 35s 716ms/step - loss: 1.5794 - Accuracy: 0.2594 - val_loss: 1.5762 - val_Accuracy: 0.2105\n",
      "Epoch 3/10\n",
      "48/48 [==============================] - 33s 698ms/step - loss: 1.5636 - Accuracy: 0.2469 - val_loss: 1.5579 - val_Accuracy: 0.2982\n",
      "Epoch 4/10\n",
      "48/48 [==============================] - 35s 734ms/step - loss: 1.5411 - Accuracy: 0.3264 - val_loss: 1.5564 - val_Accuracy: 0.2632\n",
      "Epoch 5/10\n",
      "48/48 [==============================] - 36s 761ms/step - loss: 1.5161 - Accuracy: 0.3222 - val_loss: 1.5361 - val_Accuracy: 0.3333\n",
      "Epoch 6/10\n",
      "48/48 [==============================] - 36s 759ms/step - loss: 1.4961 - Accuracy: 0.3766 - val_loss: 1.5223 - val_Accuracy: 0.4386\n",
      "Epoch 7/10\n",
      "48/48 [==============================] - 35s 718ms/step - loss: 1.4736 - Accuracy: 0.4561 - val_loss: 1.4967 - val_Accuracy: 0.4211\n",
      "Epoch 8/10\n",
      "48/48 [==============================] - 34s 714ms/step - loss: 1.4467 - Accuracy: 0.4435 - val_loss: 1.4927 - val_Accuracy: 0.3333\n",
      "Epoch 9/10\n",
      "48/48 [==============================] - 36s 752ms/step - loss: 1.4243 - Accuracy: 0.4393 - val_loss: 1.4666 - val_Accuracy: 0.4912\n",
      "Epoch 10/10\n",
      "48/48 [==============================] - 36s 744ms/step - loss: 1.3958 - Accuracy: 0.5126 - val_loss: 1.4698 - val_Accuracy: 0.4561\n"
     ]
    }
   ],
   "source": [
    "train = model.fit(train,\n",
    "                 validation_data = val,\n",
    "                 epochs = 10,\n",
    "                 batch_size = 200)"
   ]
  },
  {
   "cell_type": "code",
   "execution_count": 22,
   "id": "22b11696",
   "metadata": {},
   "outputs": [
    {
     "name": "stdout",
     "output_type": "stream",
     "text": [
      "7/7 [==============================] - 8s 1s/step - loss: 1.3911 - Accuracy: 0.4677\n"
     ]
    },
    {
     "data": {
      "text/plain": [
       "[1.3910610675811768, 0.4677419364452362]"
      ]
     },
     "execution_count": 22,
     "metadata": {},
     "output_type": "execute_result"
    }
   ],
   "source": [
    "model.evaluate(test)"
   ]
  },
  {
   "cell_type": "code",
   "execution_count": 24,
   "id": "3338012f",
   "metadata": {},
   "outputs": [],
   "source": [
    "accuracy = train.history[\"Accuracy\"]\n",
    "val_accuracy = train.history[\"val_Accuracy\"]\n",
    "\n",
    "loss = train.history[\"loss\"]\n",
    "val_loss = train.history[\"val_loss\"]\n",
    "\n",
    "epochs = range(len(accuracy))"
   ]
  },
  {
   "cell_type": "code",
   "execution_count": 25,
   "id": "77508d16",
   "metadata": {},
   "outputs": [
    {
     "data": {
      "image/png": "[encoded data removed]",
      "text/plain": [
       "<Figure size 640x480 with 1 Axes>"
      ]
     },
     "metadata": {},
     "output_type": "display_data"
    },
    {
     "data": {
      "text/plain": [
       "<Figure size 640x480 with 0 Axes>"
      ]
     },
     "metadata": {},
     "output_type": "display_data"
    }
   ],
   "source": [
    "import matplotlib.pyplot as plt\n",
    "\n",
    "plt.plot(epochs, accuracy, label = \"training\")\n",
    "plt.plot(epochs, val_accuracy, label = \"testing\")\n",
    "\n",
    "plt.title(\"Model Performance\")\n",
    "plt.legend(loc = \"lower right\")\n",
    "plt.figure()\n",
    "plt.show()\n"
   ]
  },
  {
   "cell_type": "code",
   "execution_count": null,
   "id": "0aca5d9f",
   "metadata": {},
   "outputs": [],
   "source": []
  }
 ],
 "metadata": {
  "kernelspec": {
   "display_name": "Python 3 (ipykernel)",
   "language": "python",
   "name": "python3"
  },
  "language_info": {
   "codemirror_mode": {
    "name": "ipython",
    "version": 3
   },
   "file_extension": ".py",
   "mimetype": "text/x-python",
   "name": "python",
   "nbconvert_exporter": "python",
   "pygments_lexer": "ipython3",
   "version": "3.11.4"
  }
 },
 "nbformat": 4,
 "nbformat_minor": 5
}
