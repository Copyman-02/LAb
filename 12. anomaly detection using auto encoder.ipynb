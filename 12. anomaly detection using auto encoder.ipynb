{
 "cells": [
  {
   "cell_type": "code",
   "execution_count": 1,
   "id": "cfab6af7",
   "metadata": {},
   "outputs": [],
   "source": [
    "import numpy as np\n",
    "import tensorflow as tf\n",
    "from tensorflow import keras\n",
    "from sklearn.model_selection import train_test_split"
   ]
  },
  {
   "cell_type": "code",
   "execution_count": null,
   "id": "57f118e0",
   "metadata": {},
   "outputs": [],
   "source": [
    "\n",
    "normal_data = np.random.normal(0, 1, (1000, 20))  # Normal data samples\n",
    "anomalous_data = np.random.normal(5, 2, (100, 20))  # Anomalous data samples\n",
    "\n"
   ]
  },
  {
   "cell_type": "code",
   "execution_count": null,
   "id": "3fbd67d4",
   "metadata": {},
   "outputs": [],
   "source": [
    "# Create a dataset by combining normal and anomalous data\n",
    "data = np.vstack((normal_data, anomalous_data))\n",
    "\n",
    "# Split the data into training and testing sets\n",
    "X_train, X_test, _, _ = train_test_split(data, data, test_size=0.2, random_state=42)\n",
    "\n",
    "# Define and train the autoencoder model\n",
    "model = keras.Sequential([\n",
    "    keras.layers.Input(shape=(20,)),  # Input layer\n",
    "    keras.layers.Dense(16, activation='relu'),  # Encoder\n",
    "    keras.layers.Dense(8, activation='relu'),   # Latent space\n",
    "    keras.layers.Dense(16, activation='relu'),  # Decoder\n",
    "    keras.layers.Dense(20, activation='sigmoid')  # Output layer\n",
    "])\n",
    "\n",
    "model.compile(optimizer='adam', loss='mse')  # Mean Squared Error (MSE) loss\n",
    "\n",
    "model.fit(X_train, X_train, epochs=50, batch_size=32)\n",
    "\n",
    "# Make predictions on the test data\n",
    "reconstructed_data = model.predict(X_test)\n",
    "\n",
    "# Calculate the reconstruction error (MSE) for each sample\n",
    "mse = np.mean(np.square(X_test - reconstructed_data), axis=1)\n",
    "\n",
    "# Set a threshold for anomaly detection (e.g., using percentiles)\n",
    "threshold = np.percentile(mse, 95)  # You can adjust the percentile based on your needs\n",
    "\n",
    "# Identify anomalies\n",
    "anomalies = X_test[mse > threshold]\n",
    "\n",
    "# Print the anomalies\n",
    "print(\"Anomalies:\")\n",
    "print(anomalies)"
   ]
  },
  {
   "cell_type": "code",
   "execution_count": null,
   "id": "37adfb78",
   "metadata": {},
   "outputs": [],
   "source": []
  },
  {
   "cell_type": "code",
   "execution_count": null,
   "id": "cbbcbb17",
   "metadata": {},
   "outputs": [],
   "source": []
  },
  {
   "cell_type": "code",
   "execution_count": null,
   "id": "6b214350",
   "metadata": {},
   "outputs": [],
   "source": []
  },
  {
   "cell_type": "code",
   "execution_count": null,
   "id": "2b9763c3",
   "metadata": {},
   "outputs": [],
   "source": []
  },
  {
   "cell_type": "code",
   "execution_count": null,
   "id": "50855fea",
   "metadata": {},
   "outputs": [],
   "source": []
  },
  {
   "cell_type": "code",
   "execution_count": null,
   "id": "cc042e8b",
   "metadata": {},
   "outputs": [],
   "source": []
  },
  {
   "cell_type": "markdown",
   "id": "6ac1a253",
   "metadata": {},
   "source": [
    "### IMPORT THE LIBRARIES"
   ]
  },
  {
   "cell_type": "code",
   "execution_count": 1,
   "id": "79552a61",
   "metadata": {},
   "outputs": [],
   "source": [
    "import numpy as np\n",
    "import tensorflow as tf\n",
    "from tensorflow import keras\n",
    "import pandas as pd"
   ]
  },
  {
   "cell_type": "markdown",
   "id": "b3750969",
   "metadata": {},
   "source": [
    "### IMPORT THE DATASET"
   ]
  },
  {
   "cell_type": "code",
   "execution_count": 2,
   "id": "ece020ef",
   "metadata": {},
   "outputs": [],
   "source": [
    "data = pd.read_csv(r\"D:\\m.sc Data science\\data set\\anomely detection dataset\\cv_server_data.csv\")"
   ]
  },
  {
   "cell_type": "markdown",
   "id": "fc0de3ca",
   "metadata": {},
   "source": [
    "### DEFINE THE SHAPE OF THE DATASET"
   ]
  },
  {
   "cell_type": "code",
   "execution_count": 3,
   "id": "f3016ab1",
   "metadata": {},
   "outputs": [
    {
     "data": {
      "text/plain": [
       "2"
      ]
     },
     "execution_count": 3,
     "metadata": {},
     "output_type": "execute_result"
    }
   ],
   "source": [
    "# Define the autoencoder architecture\n",
    "input_dim = data.shape[1]\n",
    "encoding_dim = 10  \n",
    "input_dim"
   ]
  },
  {
   "cell_type": "markdown",
   "id": "3e974eec",
   "metadata": {},
   "source": [
    "### USE THE MODEL AND ENCODE THE DATASET"
   ]
  },
  {
   "cell_type": "code",
   "execution_count": 4,
   "id": "906c6227",
   "metadata": {},
   "outputs": [],
   "source": [
    "# Encoder\n",
    "input_data = keras.layers.Input(shape=(input_dim,))\n",
    "encoded = keras.layers.Dense(encoding_dim, activation='relu')(input_data)"
   ]
  },
  {
   "cell_type": "markdown",
   "id": "203eb9f2",
   "metadata": {},
   "source": [
    "### DECODE THE DATASET"
   ]
  },
  {
   "cell_type": "code",
   "execution_count": 5,
   "id": "b5d50037",
   "metadata": {},
   "outputs": [],
   "source": [
    "# Decoder\n",
    "decoded = keras.layers.Dense(input_dim, activation='sigmoid')(encoded)\n",
    "\n",
    "# Create the autoencoder model\n",
    "autoencoder = keras.models.Model(input_data, decoded)"
   ]
  },
  {
   "cell_type": "markdown",
   "id": "9f5232c0",
   "metadata": {},
   "source": [
    "### COMPILE THE MODEL"
   ]
  },
  {
   "cell_type": "code",
   "execution_count": 6,
   "id": "7c70445b",
   "metadata": {},
   "outputs": [],
   "source": [
    "autoencoder.compile(optimizer='adam', loss='mean_squared_error')"
   ]
  },
  {
   "cell_type": "markdown",
   "id": "a7b8bfff",
   "metadata": {},
   "source": [
    "### TRAIN THE AUTO ENCODER DATA"
   ]
  },
  {
   "cell_type": "code",
   "execution_count": 7,
   "id": "38543b2d",
   "metadata": {},
   "outputs": [
    {
     "name": "stdout",
     "output_type": "stream",
     "text": [
      "Epoch 1/50\n",
      "10/10 [==============================] - 0s 3ms/step - loss: 192.7829\n",
      "Epoch 2/50\n",
      "10/10 [==============================] - 0s 2ms/step - loss: 190.2946\n",
      "Epoch 3/50\n",
      "10/10 [==============================] - 0s 4ms/step - loss: 188.3486\n",
      "Epoch 4/50\n",
      "10/10 [==============================] - 0s 3ms/step - loss: 187.1501\n",
      "Epoch 5/50\n",
      "10/10 [==============================] - 0s 5ms/step - loss: 186.5014\n",
      "Epoch 6/50\n",
      "10/10 [==============================] - 0s 1ms/step - loss: 186.1439\n",
      "Epoch 7/50\n",
      "10/10 [==============================] - 0s 3ms/step - loss: 185.9383\n",
      "Epoch 8/50\n",
      "10/10 [==============================] - 0s 2ms/step - loss: 185.8093\n",
      "Epoch 9/50\n",
      "10/10 [==============================] - 0s 2ms/step - loss: 185.7206\n",
      "Epoch 10/50\n",
      "10/10 [==============================] - 0s 2ms/step - loss: 185.6545\n",
      "Epoch 11/50\n",
      "10/10 [==============================] - 0s 2ms/step - loss: 185.6067\n",
      "Epoch 12/50\n",
      "10/10 [==============================] - 0s 2ms/step - loss: 185.5672\n",
      "Epoch 13/50\n",
      "10/10 [==============================] - 0s 2ms/step - loss: 185.5367\n",
      "Epoch 14/50\n",
      "10/10 [==============================] - 0s 2ms/step - loss: 185.5107\n",
      "Epoch 15/50\n",
      "10/10 [==============================] - 0s 2ms/step - loss: 185.4893\n",
      "Epoch 16/50\n",
      "10/10 [==============================] - 0s 2ms/step - loss: 185.4711\n",
      "Epoch 17/50\n",
      "10/10 [==============================] - 0s 2ms/step - loss: 185.4553\n",
      "Epoch 18/50\n",
      "10/10 [==============================] - 0s 2ms/step - loss: 185.4418\n",
      "Epoch 19/50\n",
      "10/10 [==============================] - 0s 4ms/step - loss: 185.4296\n",
      "Epoch 20/50\n",
      "10/10 [==============================] - 0s 1ms/step - loss: 185.4193\n",
      "Epoch 21/50\n",
      "10/10 [==============================] - 0s 2ms/step - loss: 185.4097\n",
      "Epoch 22/50\n",
      "10/10 [==============================] - 0s 3ms/step - loss: 185.4016\n",
      "Epoch 23/50\n",
      "10/10 [==============================] - 0s 2ms/step - loss: 185.3941\n",
      "Epoch 24/50\n",
      "10/10 [==============================] - 0s 2ms/step - loss: 185.3875\n",
      "Epoch 25/50\n",
      "10/10 [==============================] - 0s 2ms/step - loss: 185.3816\n",
      "Epoch 26/50\n",
      "10/10 [==============================] - 0s 2ms/step - loss: 185.3759\n",
      "Epoch 27/50\n",
      "10/10 [==============================] - 0s 3ms/step - loss: 185.3711\n",
      "Epoch 28/50\n",
      "10/10 [==============================] - 0s 2ms/step - loss: 185.3665\n",
      "Epoch 29/50\n",
      "10/10 [==============================] - 0s 2ms/step - loss: 185.3623\n",
      "Epoch 30/50\n",
      "10/10 [==============================] - 0s 2ms/step - loss: 185.3585\n",
      "Epoch 31/50\n",
      "10/10 [==============================] - 0s 2ms/step - loss: 185.3549\n",
      "Epoch 32/50\n",
      "10/10 [==============================] - 0s 2ms/step - loss: 185.3517\n",
      "Epoch 33/50\n",
      "10/10 [==============================] - 0s 2ms/step - loss: 185.3487\n",
      "Epoch 34/50\n",
      "10/10 [==============================] - 0s 2ms/step - loss: 185.3459\n",
      "Epoch 35/50\n",
      "10/10 [==============================] - 0s 2ms/step - loss: 185.3433\n",
      "Epoch 36/50\n",
      "10/10 [==============================] - 0s 2ms/step - loss: 185.3409\n",
      "Epoch 37/50\n",
      "10/10 [==============================] - 0s 2ms/step - loss: 185.3386\n",
      "Epoch 38/50\n",
      "10/10 [==============================] - 0s 2ms/step - loss: 185.3364\n",
      "Epoch 39/50\n",
      "10/10 [==============================] - 0s 2ms/step - loss: 185.3345\n",
      "Epoch 40/50\n",
      "10/10 [==============================] - 0s 2ms/step - loss: 185.3326\n",
      "Epoch 41/50\n",
      "10/10 [==============================] - 0s 2ms/step - loss: 185.3308\n",
      "Epoch 42/50\n",
      "10/10 [==============================] - 0s 2ms/step - loss: 185.3291\n",
      "Epoch 43/50\n",
      "10/10 [==============================] - 0s 2ms/step - loss: 185.3276\n",
      "Epoch 44/50\n",
      "10/10 [==============================] - 0s 3ms/step - loss: 185.3261\n",
      "Epoch 45/50\n",
      "10/10 [==============================] - 0s 2ms/step - loss: 185.3247\n",
      "Epoch 46/50\n",
      "10/10 [==============================] - 0s 2ms/step - loss: 185.3234\n",
      "Epoch 47/50\n",
      "10/10 [==============================] - 0s 2ms/step - loss: 185.3221\n",
      "Epoch 48/50\n",
      "10/10 [==============================] - 0s 2ms/step - loss: 185.3210\n",
      "Epoch 49/50\n",
      "10/10 [==============================] - 0s 2ms/step - loss: 185.3198\n",
      "Epoch 50/50\n",
      "10/10 [==============================] - 0s 2ms/step - loss: 185.3187\n"
     ]
    },
    {
     "data": {
      "text/plain": [
       "<keras.src.callbacks.History at 0x200e3ece040>"
      ]
     },
     "execution_count": 7,
     "metadata": {},
     "output_type": "execute_result"
    }
   ],
   "source": [
    "# Train the autoencoder on the data\n",
    "autoencoder.fit(data, data, epochs=50, batch_size=32)"
   ]
  },
  {
   "cell_type": "markdown",
   "id": "cbc76edc",
   "metadata": {},
   "source": [
    "### ENCODE AND DECODE THE DATA"
   ]
  },
  {
   "cell_type": "code",
   "execution_count": 8,
   "id": "e95014d0",
   "metadata": {},
   "outputs": [
    {
     "name": "stdout",
     "output_type": "stream",
     "text": [
      "10/10 [==============================] - 0s 1ms/step\n"
     ]
    }
   ],
   "source": [
    "# Encode and decode data\n",
    "encoded_data = autoencoder.predict(data)"
   ]
  },
  {
   "cell_type": "markdown",
   "id": "a913108d",
   "metadata": {},
   "source": [
    "###  CALCULATE THE RECONSTRUCTION ERROR (MSE)"
   ]
  },
  {
   "cell_type": "code",
   "execution_count": 9,
   "id": "e3a3fe33",
   "metadata": {},
   "outputs": [],
   "source": [
    "reconstruction_error = np.mean(np.square(data - encoded_data), axis=1)\n",
    "reconstruction_error"
   ]
  },
  {
   "cell_type": "code",
   "execution_count": 10,
   "id": "19e77b97",
   "metadata": {},
   "outputs": [],
   "source": [
    "threshold = 0.1  "
   ]
  },
  {
   "cell_type": "markdown",
   "id": "59257061",
   "metadata": {},
   "source": [
    "### IDENTIFY TH EANOMALIES"
   ]
  },
  {
   "cell_type": "code",
   "execution_count": 11,
   "id": "71210fcb",
   "metadata": {},
   "outputs": [],
   "source": [
    "# Identify anomalies\n",
    "anomalies = data[reconstruction_error > threshold]"
   ]
  },
  {
   "cell_type": "code",
   "execution_count": 12,
   "id": "5fed8880",
   "metadata": {},
   "outputs": [
    {
     "name": "stdout",
     "output_type": "stream",
     "text": [
      "Anomalies:\n",
      "     Normal_data  anomalous_data\n",
      "0       13.64000         15.3300\n",
      "1       14.86600         16.4740\n",
      "2       13.58500         13.9890\n",
      "3       13.46400         15.6350\n",
      "4       12.94900         16.1400\n",
      "..           ...             ...\n",
      "301      0.30794          5.3914\n",
      "302     28.54200         21.6000\n",
      "303     19.03500         12.0290\n",
      "304     14.37600         23.3560\n",
      "305      8.77810         16.6900\n",
      "\n",
      "[306 rows x 2 columns]\n"
     ]
    }
   ],
   "source": [
    "# Print the anomalies\n",
    "print(\"Anomalies:\")\n",
    "print(anomalies)"
   ]
  },
  {
   "cell_type": "code",
   "execution_count": null,
   "id": "0f358822",
   "metadata": {},
   "outputs": [],
   "source": []
  },
  {
   "cell_type": "code",
   "execution_count": null,
   "id": "8eb14a8e",
   "metadata": {},
   "outputs": [],
   "source": []
  }
 ],
 "metadata": {
  "kernelspec": {
   "display_name": "Python 3 (ipykernel)",
   "language": "python",
   "name": "python3"
  },
  "language_info": {
   "codemirror_mode": {
    "name": "ipython",
    "version": 3
   },
   "file_extension": ".py",
   "mimetype": "text/x-python",
   "name": "python",
   "nbconvert_exporter": "python",
   "pygments_lexer": "ipython3",
   "version": "3.9.13"
  }
 },
 "nbformat": 4,
 "nbformat_minor": 5
}
