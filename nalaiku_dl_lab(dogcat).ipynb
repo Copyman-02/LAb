{
 "cells": [
  {
   "cell_type": "code",
   "execution_count": 5,
   "id": "6b7625ad",
   "metadata": {},
   "outputs": [],
   "source": [
    "#!pip install Split-folders\n",
    "import splitfolders"
   ]
  },
  {
   "cell_type": "code",
   "execution_count": 6,
   "id": "bc440d6a",
   "metadata": {},
   "outputs": [
    {
     "name": "stderr",
     "output_type": "stream",
     "text": [
      "Copying files: 1000 files [00:02, 471.04 files/s]\n"
     ]
    }
   ],
   "source": [
    "data = r\"D:\\Datasets\\Dog and Cat .png\"\n",
    "splitfolders.ratio(data,output = r\"D:\\Datasets\\Dog and Cat 2.png\", ratio= (0.7,0.2,0.1))"
   ]
  },
  {
   "cell_type": "code",
   "execution_count": 7,
   "id": "e2fb3a08",
   "metadata": {},
   "outputs": [],
   "source": [
    "train = r\"D:\\Datasets\\Dog and Cat 2.png\\train\"\n",
    "test = r\"D:\\Datasets\\Dog and Cat 2.png\\test\"\n",
    "val = r\"D:\\Datasets\\Dog and Cat 2.png\\val\""
   ]
  },
  {
   "cell_type": "code",
   "execution_count": 8,
   "id": "727e61c9",
   "metadata": {},
   "outputs": [],
   "source": [
    "image_width = 80\n",
    "image_height = 80\n",
    "batch_size = 10"
   ]
  },
  {
   "cell_type": "code",
   "execution_count": 9,
   "id": "a4b73e6b",
   "metadata": {},
   "outputs": [],
   "source": [
    "from tensorflow.keras.preprocessing.image import ImageDataGenerator"
   ]
  },
  {
   "cell_type": "code",
   "execution_count": 10,
   "id": "a5e82062",
   "metadata": {},
   "outputs": [
    {
     "name": "stdout",
     "output_type": "stream",
     "text": [
      "Found 700 images belonging to 2 classes.\n",
      "Found 100 images belonging to 2 classes.\n",
      "Found 200 images belonging to 2 classes.\n"
     ]
    }
   ],
   "source": [
    "datagen = ImageDataGenerator(rescale = 1/255, zoom_range = 0.2,rotation_range = 0.2,\n",
    "                            width_shift_range = 0.2, height_shift_range = 0.2)\n",
    "\n",
    "\n",
    "train = datagen.flow_from_directory(train, batch_size = batch_size, target_size = (image_width, image_height),shuffle = True)\n",
    "\n",
    "test = datagen.flow_from_directory(test, batch_size = batch_size, target_size = (image_width, image_height),shuffle = True)\n",
    "\n",
    "val = datagen.flow_from_directory(val, batch_size = batch_size, target_size = (image_width, image_height),shuffle = True)"
   ]
  },
  {
   "cell_type": "code",
   "execution_count": 11,
   "id": "e772dfcb",
   "metadata": {},
   "outputs": [],
   "source": [
    "from tensorflow.keras.layers import Input, Dense, Flatten, Conv2D, MaxPooling2D, Dropout,BatchNormalization\n",
    "from tensorflow.keras.models import Sequential"
   ]
  },
  {
   "cell_type": "code",
   "execution_count": 27,
   "id": "9ef780bc",
   "metadata": {},
   "outputs": [],
   "source": [
    "model = Sequential()\n",
    "\n",
    "model.add(Conv2D(64, kernel_size = (3,3), input_shape= (image_width, image_height, 3), activation = 'relu', padding = 'valid'))\n",
    "model.add(MaxPooling2D(pool_size = (2,2)))\n",
    "\n",
    "model.add(Conv2D(32, kernel_size = (3,3),  activation = 'relu'))\n",
    "model.add(MaxPooling2D(pool_size = (2,2)))\n",
    "\n",
    "model.add(Flatten())\n",
    "model.add(Dense(2, activation = 'sigmoid'))"
   ]
  },
  {
   "cell_type": "code",
   "execution_count": 28,
   "id": "ea92e0e1",
   "metadata": {},
   "outputs": [],
   "source": [
    "model.compile(optimizer = 'adagrad', loss = 'binary_crossentropy', metrics = ['Accuracy'])"
   ]
  },
  {
   "cell_type": "code",
   "execution_count": 29,
   "id": "8cf89c76",
   "metadata": {},
   "outputs": [
    {
     "name": "stdout",
     "output_type": "stream",
     "text": [
      "Model: \"sequential_2\"\n",
      "_________________________________________________________________\n",
      " Layer (type)                Output Shape              Param #   \n",
      "=================================================================\n",
      " conv2d_4 (Conv2D)           (None, 78, 78, 64)        1792      \n",
      "                                                                 \n",
      " max_pooling2d_4 (MaxPooling  (None, 39, 39, 64)       0         \n",
      " 2D)                                                             \n",
      "                                                                 \n",
      " conv2d_5 (Conv2D)           (None, 37, 37, 32)        18464     \n",
      "                                                                 \n",
      " max_pooling2d_5 (MaxPooling  (None, 18, 18, 32)       0         \n",
      " 2D)                                                             \n",
      "                                                                 \n",
      " flatten_2 (Flatten)         (None, 10368)             0         \n",
      "                                                                 \n",
      " dense_2 (Dense)             (None, 2)                 20738     \n",
      "                                                                 \n",
      "=================================================================\n",
      "Total params: 40,994\n",
      "Trainable params: 40,994\n",
      "Non-trainable params: 0\n",
      "_________________________________________________________________\n"
     ]
    }
   ],
   "source": [
    "model.summary()"
   ]
  },
  {
   "cell_type": "code",
   "execution_count": 30,
   "id": "3c9d644b",
   "metadata": {},
   "outputs": [
    {
     "name": "stdout",
     "output_type": "stream",
     "text": [
      "Epoch 1/10\n",
      "70/70 [==============================] - 19s 260ms/step - loss: 0.6932 - Accuracy: 0.5043 - val_loss: 0.6911 - val_Accuracy: 0.5350\n",
      "Epoch 2/10\n",
      "70/70 [==============================] - 18s 260ms/step - loss: 0.6915 - Accuracy: 0.5143 - val_loss: 0.6903 - val_Accuracy: 0.5300\n",
      "Epoch 3/10\n",
      "70/70 [==============================] - 18s 257ms/step - loss: 0.6900 - Accuracy: 0.5243 - val_loss: 0.6916 - val_Accuracy: 0.5400\n",
      "Epoch 4/10\n",
      "70/70 [==============================] - 18s 261ms/step - loss: 0.6897 - Accuracy: 0.5300 - val_loss: 0.6860 - val_Accuracy: 0.5200\n",
      "Epoch 5/10\n",
      "70/70 [==============================] - 19s 263ms/step - loss: 0.6905 - Accuracy: 0.5571 - val_loss: 0.6877 - val_Accuracy: 0.5700\n",
      "Epoch 6/10\n",
      "70/70 [==============================] - 19s 266ms/step - loss: 0.6864 - Accuracy: 0.5629 - val_loss: 0.6917 - val_Accuracy: 0.5250\n",
      "Epoch 7/10\n",
      "70/70 [==============================] - 18s 254ms/step - loss: 0.6859 - Accuracy: 0.5729 - val_loss: 0.6871 - val_Accuracy: 0.5600\n",
      "Epoch 8/10\n",
      "70/70 [==============================] - 18s 261ms/step - loss: 0.6857 - Accuracy: 0.5686 - val_loss: 0.6891 - val_Accuracy: 0.5550\n",
      "Epoch 9/10\n",
      "70/70 [==============================] - 18s 261ms/step - loss: 0.6853 - Accuracy: 0.5714 - val_loss: 0.6900 - val_Accuracy: 0.5650\n",
      "Epoch 10/10\n",
      "70/70 [==============================] - 18s 262ms/step - loss: 0.6881 - Accuracy: 0.5343 - val_loss: 0.6908 - val_Accuracy: 0.5400\n"
     ]
    }
   ],
   "source": [
    "train_ = model.fit(train,\n",
    "                  validation_data = val,\n",
    "                  epochs = 10,\n",
    "                  batch_size = 200)"
   ]
  },
  {
   "cell_type": "code",
   "execution_count": 31,
   "id": "2c849ac5",
   "metadata": {},
   "outputs": [
    {
     "name": "stdout",
     "output_type": "stream",
     "text": [
      "10/10 [==============================] - 1s 140ms/step - loss: 0.6818 - Accuracy: 0.5800\n"
     ]
    },
    {
     "data": {
      "text/plain": [
       "[0.6818327307701111, 0.5799999833106995]"
      ]
     },
     "execution_count": 31,
     "metadata": {},
     "output_type": "execute_result"
    }
   ],
   "source": [
    "model.evaluate(test)"
   ]
  },
  {
   "cell_type": "code",
   "execution_count": 32,
   "id": "309dd8bb",
   "metadata": {},
   "outputs": [],
   "source": [
    "accuracy = train_.history[\"Accuracy\"]\n",
    "val_accuracy = train_.history[\"val_Accuracy\"]\n",
    "\n",
    "loss = train_.history[\"loss\"]\n",
    "val_loss = train_.history[\"val_loss\"]\n",
    "\n",
    "epochs = range(len(accuracy))"
   ]
  },
  {
   "cell_type": "code",
   "execution_count": 33,
   "id": "53915974",
   "metadata": {},
   "outputs": [
    {
     "data": {
      "image/png": "[encoded data removed]",
      "text/plain": [
       "<Figure size 640x480 with 1 Axes>"
      ]
     },
     "metadata": {},
     "output_type": "display_data"
    },
    {
     "data": {
      "text/plain": [
       "<Figure size 640x480 with 0 Axes>"
      ]
     },
     "metadata": {},
     "output_type": "display_data"
    }
   ],
   "source": [
    "import matplotlib.pyplot as plt\n",
    "\n",
    "plt.plot(epochs, accuracy, label = \"training\")\n",
    "plt.plot(epochs, val_accuracy, label = \"testing\")\n",
    "\n",
    "plt.title(\"Model Performance\")\n",
    "plt.legend(loc = \"lower right\")\n",
    "plt.figure()\n",
    "plt.show()"
   ]
  },
  {
   "cell_type": "code",
   "execution_count": null,
   "id": "54d5cd62",
   "metadata": {},
   "outputs": [],
   "source": []
  },
  {
   "cell_type": "code",
   "execution_count": null,
   "id": "c43e1e22",
   "metadata": {},
   "outputs": [],
   "source": []
  }
 ],
 "metadata": {
  "kernelspec": {
   "display_name": "Python 3 (ipykernel)",
   "language": "python",
   "name": "python3"
  },
  "language_info": {
   "codemirror_mode": {
    "name": "ipython",
    "version": 3
   },
   "file_extension": ".py",
   "mimetype": "text/x-python",
   "name": "python",
   "nbconvert_exporter": "python",
   "pygments_lexer": "ipython3",
   "version": "3.9.13"
  }
 },
 "nbformat": 4,
 "nbformat_minor": 5
}
